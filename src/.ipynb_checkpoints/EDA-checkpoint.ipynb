{
 "cells": [
  {
   "cell_type": "markdown",
   "id": "28e4331d-8a12-4821-a35b-01dfe420a070",
   "metadata": {},
   "source": [
    "# Exploratory Data Analysis"
   ]
  },
  {
   "cell_type": "code",
   "execution_count": 187,
   "id": "0c88eb19-dc75-4f6b-a03f-2e8cbff5b71c",
   "metadata": {},
   "outputs": [],
   "source": [
    "filePath = \"~/LocalWorkspace/BT4103/data/GA_data.csv\""
   ]
  },
  {
   "cell_type": "markdown",
   "id": "d26a0d50-f74a-4053-abee-4358eb74c023",
   "metadata": {},
   "source": [
    "# Library"
   ]
  },
  {
   "cell_type": "code",
   "execution_count": 353,
   "id": "67238a34-c3e6-40d8-88cc-1f1525fa1dfe",
   "metadata": {},
   "outputs": [],
   "source": [
    "import pandas as pd\n",
    "import json\n",
    "from datetime import datetime\n",
    "import missingno\n",
    "import plotly.express as px\n",
    "import re\n",
    "import ast\n",
    "import json_repair\n",
    "import matplotlib.pyplot as plt\n",
    "import seaborn as sns\n",
    "from plotly import graph_objects as go"
   ]
  },
  {
   "cell_type": "code",
   "execution_count": 354,
   "id": "ea0a00e2-9109-4694-b20a-ff8664709d12",
   "metadata": {},
   "outputs": [],
   "source": [
    "json_columns = ['geo','traffic_source', 'device', 'event_params']"
   ]
  },
  {
   "cell_type": "markdown",
   "id": "aaba7eb1-40e7-43e1-a937-30ee57ef001b",
   "metadata": {},
   "source": [
    "# Data Preparation"
   ]
  },
  {
   "cell_type": "code",
   "execution_count": 355,
   "id": "56d7cad1-d1a5-4a25-87cb-a761f025773e",
   "metadata": {},
   "outputs": [],
   "source": [
    "def CustomParser(data):\n",
    "    ## decode json files into columns\n",
    "    def decode_json_string(json_string): \n",
    "        if json_string:\n",
    "            replaced_string = json_string.replace(\"None\",\"null\") \\\n",
    "                                    .replace(\"'\",'\"') \\\n",
    "                                    .replace(\"\\n\",\",\")\n",
    "            \n",
    "            try:\n",
    "                corrected_string = json.loads(replaced_string)\n",
    "                # use package faster\n",
    "                \n",
    "                return corrected_string\n",
    "            except Exception as e:\n",
    "                # find the error line '\"'\n",
    "                # unexp = int(re.findall(r'\\(char (\\d+)\\)', str(e))[0])\n",
    "                # # position of unescaped '\"' before that\n",
    "                # print(unexp) ## line of error\n",
    "                # print(replaced_string) ## print the current string\n",
    "                \n",
    "                # package might be slow\n",
    "                # so only use package when all else fails\n",
    "                return json_repair.loads(json_string) \n",
    "        return {}\n",
    "    \n",
    "    j1 = decode_json_string(data)\n",
    "    return j1"
   ]
  },
  {
   "cell_type": "code",
   "execution_count": 356,
   "id": "2bc2bb2c-9e33-43fc-bcb8-05a01d20c8d6",
   "metadata": {},
   "outputs": [],
   "source": [
    "custom_timestamp_parser = lambda x: datetime.utcfromtimestamp(int(x)/1e9).strftime('%H:%M:%S')[:-3]"
   ]
  },
  {
   "cell_type": "code",
   "execution_count": 357,
   "id": "8c31bb2f-29eb-4cdb-bf96-4177d84a0ff2",
   "metadata": {},
   "outputs": [],
   "source": [
    "converters = {col: CustomParser for col in json_columns}\n",
    "converters[\"event_timestamp\"] = custom_timestamp_parser"
   ]
  },
  {
   "cell_type": "code",
   "execution_count": 358,
   "id": "c0cafd8e-9da2-4b87-94a3-4eb78476fdd7",
   "metadata": {},
   "outputs": [],
   "source": [
    "df = pd.read_csv(filePath, nrows = 2000,converters=converters, parse_dates=[\"event_date\"])"
   ]
  },
  {
   "cell_type": "code",
   "execution_count": 359,
   "id": "130265b2-d850-4b40-9345-bdc7f48a1005",
   "metadata": {},
   "outputs": [],
   "source": [
    "# Store a copy of the old data\n",
    "df_new = pd.DataFrame()\n",
    "\n",
    "# Iterate over columns with JSON data\n",
    "for col in json_columns:\n",
    "    # Normalize the JSON column and create a new DataFrame\n",
    "    # if col != \"event_params\":\n",
    "    df_new_feats = pd.json_normalize(df[col])\n",
    "    # Concatenate the new DataFrame with the original DataFrame horizontally\n",
    "    df_new = pd.concat([df_new, df_new_feats], axis=1)"
   ]
  },
  {
   "cell_type": "code",
   "execution_count": 360,
   "id": "d2223f15-c9d6-45f6-a5c1-2bdd0ac53d4e",
   "metadata": {
    "scrolled": true
   },
   "outputs": [],
   "source": [
    "# df_new # added 30 + features\n",
    "## Some data_preparation.. --- will add more later on ----\n",
    "overall_df = pd.concat([df, df_new], axis = 1)\n",
    "overall_df = overall_df.drop(json_columns, axis = 1)\n",
    "overall_df.language = overall_df.language.apply(lambda x : x.split(\"-\")[0])"
   ]
  },
  {
   "cell_type": "code",
   "execution_count": 361,
   "id": "0faf14dc-e947-4a53-8dc3-37f4f4185194",
   "metadata": {},
   "outputs": [
    {
     "data": {
      "text/html": [
       "<div>\n",
       "<style scoped>\n",
       "    .dataframe tbody tr th:only-of-type {\n",
       "        vertical-align: middle;\n",
       "    }\n",
       "\n",
       "    .dataframe tbody tr th {\n",
       "        vertical-align: top;\n",
       "    }\n",
       "\n",
       "    .dataframe thead th {\n",
       "        text-align: right;\n",
       "    }\n",
       "</style>\n",
       "<table border=\"1\" class=\"dataframe\">\n",
       "  <thead>\n",
       "    <tr style=\"text-align: right;\">\n",
       "      <th></th>\n",
       "      <th>event_date</th>\n",
       "      <th>event_timestamp</th>\n",
       "      <th>event_name</th>\n",
       "      <th>event_previous_timestamp</th>\n",
       "      <th>event_value_in_usd</th>\n",
       "      <th>event_bundle_sequence_id</th>\n",
       "      <th>event_server_timestamp_offset</th>\n",
       "      <th>user_id</th>\n",
       "      <th>user_pseudo_id</th>\n",
       "      <th>privacy_info</th>\n",
       "      <th>...</th>\n",
       "      <th>5</th>\n",
       "      <th>6</th>\n",
       "      <th>7</th>\n",
       "      <th>8</th>\n",
       "      <th>9</th>\n",
       "      <th>10</th>\n",
       "      <th>11</th>\n",
       "      <th>12</th>\n",
       "      <th>13</th>\n",
       "      <th>14</th>\n",
       "    </tr>\n",
       "  </thead>\n",
       "  <tbody>\n",
       "    <tr>\n",
       "      <th>0</th>\n",
       "      <td>2023-06-30</td>\n",
       "      <td>12:54</td>\n",
       "      <td>first_visit</td>\n",
       "      <td>NaN</td>\n",
       "      <td>NaN</td>\n",
       "      <td>-1871097953</td>\n",
       "      <td>NaN</td>\n",
       "      <td>NaN</td>\n",
       "      <td>1.111131e+09</td>\n",
       "      <td>{'analytics_storage': None, 'ads_storage': Non...</td>\n",
       "      <td>...</td>\n",
       "      <td>{'key': 'ignore_referrer', 'value.string_value...</td>\n",
       "      <td>None</td>\n",
       "      <td>None</td>\n",
       "      <td>None</td>\n",
       "      <td>None</td>\n",
       "      <td>None</td>\n",
       "      <td>None</td>\n",
       "      <td>None</td>\n",
       "      <td>None</td>\n",
       "      <td>None</td>\n",
       "    </tr>\n",
       "    <tr>\n",
       "      <th>1</th>\n",
       "      <td>2023-06-30</td>\n",
       "      <td>12:54</td>\n",
       "      <td>session_start</td>\n",
       "      <td>NaN</td>\n",
       "      <td>NaN</td>\n",
       "      <td>-1871097953</td>\n",
       "      <td>NaN</td>\n",
       "      <td>NaN</td>\n",
       "      <td>1.111131e+09</td>\n",
       "      <td>{'analytics_storage': None, 'ads_storage': Non...</td>\n",
       "      <td>...</td>\n",
       "      <td>{'key': 'page_location', 'value.string_value':...</td>\n",
       "      <td>None</td>\n",
       "      <td>None</td>\n",
       "      <td>None</td>\n",
       "      <td>None</td>\n",
       "      <td>None</td>\n",
       "      <td>None</td>\n",
       "      <td>None</td>\n",
       "      <td>None</td>\n",
       "      <td>None</td>\n",
       "    </tr>\n",
       "    <tr>\n",
       "      <th>2</th>\n",
       "      <td>2023-06-30</td>\n",
       "      <td>12:54</td>\n",
       "      <td>page_view</td>\n",
       "      <td>NaN</td>\n",
       "      <td>NaN</td>\n",
       "      <td>-1871097953</td>\n",
       "      <td>NaN</td>\n",
       "      <td>NaN</td>\n",
       "      <td>1.111131e+09</td>\n",
       "      <td>{'analytics_storage': None, 'ads_storage': Non...</td>\n",
       "      <td>...</td>\n",
       "      <td>{'key': 'page_referrer', 'value.string_value':...</td>\n",
       "      <td>{'key': 'session_engaged', 'value.string_value...</td>\n",
       "      <td>{'key': 'entrances', 'value.string_value': Non...</td>\n",
       "      <td>None</td>\n",
       "      <td>None</td>\n",
       "      <td>None</td>\n",
       "      <td>None</td>\n",
       "      <td>None</td>\n",
       "      <td>None</td>\n",
       "      <td>None</td>\n",
       "    </tr>\n",
       "    <tr>\n",
       "      <th>3</th>\n",
       "      <td>2023-06-30</td>\n",
       "      <td>12:54</td>\n",
       "      <td>scroll</td>\n",
       "      <td>NaN</td>\n",
       "      <td>NaN</td>\n",
       "      <td>-1866234843</td>\n",
       "      <td>NaN</td>\n",
       "      <td>NaN</td>\n",
       "      <td>1.111131e+09</td>\n",
       "      <td>{'analytics_storage': None, 'ads_storage': Non...</td>\n",
       "      <td>...</td>\n",
       "      <td>{'key': 'ga_session_id', 'value.string_value':...</td>\n",
       "      <td>{'key': 'percent_scrolled', 'value.string_valu...</td>\n",
       "      <td>{'key': 'page_title', 'value.string_value': 'O...</td>\n",
       "      <td>{'key': 'engagement_time_msec', 'value.string_...</td>\n",
       "      <td>None</td>\n",
       "      <td>None</td>\n",
       "      <td>None</td>\n",
       "      <td>None</td>\n",
       "      <td>None</td>\n",
       "      <td>None</td>\n",
       "    </tr>\n",
       "    <tr>\n",
       "      <th>4</th>\n",
       "      <td>2023-06-30</td>\n",
       "      <td>12:54</td>\n",
       "      <td>Menu_card</td>\n",
       "      <td>NaN</td>\n",
       "      <td>NaN</td>\n",
       "      <td>-1836644650</td>\n",
       "      <td>NaN</td>\n",
       "      <td>NaN</td>\n",
       "      <td>1.111131e+09</td>\n",
       "      <td>{'analytics_storage': None, 'ads_storage': Non...</td>\n",
       "      <td>...</td>\n",
       "      <td>{'key': 'session_engaged', 'value.string_value...</td>\n",
       "      <td>{'key': 'menu_card', 'value.string_value': 'me...</td>\n",
       "      <td>{'key': 'text', 'value.string_value': 'Grilled...</td>\n",
       "      <td>{'key': 'engagement_time_msec', 'value.string_...</td>\n",
       "      <td>{'key': 'page_location', 'value.string_value':...</td>\n",
       "      <td>None</td>\n",
       "      <td>None</td>\n",
       "      <td>None</td>\n",
       "      <td>None</td>\n",
       "      <td>None</td>\n",
       "    </tr>\n",
       "    <tr>\n",
       "      <th>...</th>\n",
       "      <td>...</td>\n",
       "      <td>...</td>\n",
       "      <td>...</td>\n",
       "      <td>...</td>\n",
       "      <td>...</td>\n",
       "      <td>...</td>\n",
       "      <td>...</td>\n",
       "      <td>...</td>\n",
       "      <td>...</td>\n",
       "      <td>...</td>\n",
       "      <td>...</td>\n",
       "      <td>...</td>\n",
       "      <td>...</td>\n",
       "      <td>...</td>\n",
       "      <td>...</td>\n",
       "      <td>...</td>\n",
       "      <td>...</td>\n",
       "      <td>...</td>\n",
       "      <td>...</td>\n",
       "      <td>...</td>\n",
       "      <td>...</td>\n",
       "    </tr>\n",
       "    <tr>\n",
       "      <th>1995</th>\n",
       "      <td>2023-08-07</td>\n",
       "      <td>13:49</td>\n",
       "      <td>page_view</td>\n",
       "      <td>NaN</td>\n",
       "      <td>NaN</td>\n",
       "      <td>1311838628</td>\n",
       "      <td>NaN</td>\n",
       "      <td>NaN</td>\n",
       "      <td>1.346799e+09</td>\n",
       "      <td>{'analytics_storage': None, 'ads_storage': Non...</td>\n",
       "      <td>...</td>\n",
       "      <td>{'key': 'ga_session_id', 'value.string_value':...</td>\n",
       "      <td>{'key': 'session_engaged', 'value.string_value...</td>\n",
       "      <td>None</td>\n",
       "      <td>None</td>\n",
       "      <td>None</td>\n",
       "      <td>None</td>\n",
       "      <td>None</td>\n",
       "      <td>None</td>\n",
       "      <td>None</td>\n",
       "      <td>None</td>\n",
       "    </tr>\n",
       "    <tr>\n",
       "      <th>1996</th>\n",
       "      <td>2023-08-07</td>\n",
       "      <td>13:49</td>\n",
       "      <td>Click</td>\n",
       "      <td>NaN</td>\n",
       "      <td>NaN</td>\n",
       "      <td>1313466595</td>\n",
       "      <td>NaN</td>\n",
       "      <td>NaN</td>\n",
       "      <td>1.346799e+09</td>\n",
       "      <td>{'analytics_storage': None, 'ads_storage': Non...</td>\n",
       "      <td>...</td>\n",
       "      <td>{'key': 'page_referrer', 'value.string_value':...</td>\n",
       "      <td>{'key': 'session_engaged', 'value.string_value...</td>\n",
       "      <td>{'key': 'Click_2', 'value.string_value': 'iv#m...</td>\n",
       "      <td>{'key': 'Click_3', 'value.string_value': 'tine...</td>\n",
       "      <td>{'key': 'Click_5', 'value.string_value': 'html...</td>\n",
       "      <td>{'key': 'Click_1', 'value.string_value': 'nter...</td>\n",
       "      <td>{'key': 'ga_session_id', 'value.string_value':...</td>\n",
       "      <td>{'key': 'Click_4', 'value.string_value': 'v:nt...</td>\n",
       "      <td>None</td>\n",
       "      <td>None</td>\n",
       "    </tr>\n",
       "    <tr>\n",
       "      <th>1997</th>\n",
       "      <td>2023-08-07</td>\n",
       "      <td>13:49</td>\n",
       "      <td>page_view</td>\n",
       "      <td>NaN</td>\n",
       "      <td>NaN</td>\n",
       "      <td>1325615723</td>\n",
       "      <td>NaN</td>\n",
       "      <td>NaN</td>\n",
       "      <td>1.346799e+09</td>\n",
       "      <td>{'analytics_storage': None, 'ads_storage': Non...</td>\n",
       "      <td>...</td>\n",
       "      <td>{'key': 'ga_session_number', 'value.string_val...</td>\n",
       "      <td>{'key': 'page_title', 'value.string_value': 'O...</td>\n",
       "      <td>None</td>\n",
       "      <td>None</td>\n",
       "      <td>None</td>\n",
       "      <td>None</td>\n",
       "      <td>None</td>\n",
       "      <td>None</td>\n",
       "      <td>None</td>\n",
       "      <td>None</td>\n",
       "    </tr>\n",
       "    <tr>\n",
       "      <th>1998</th>\n",
       "      <td>2023-08-07</td>\n",
       "      <td>13:49</td>\n",
       "      <td>Click</td>\n",
       "      <td>NaN</td>\n",
       "      <td>NaN</td>\n",
       "      <td>1325615723</td>\n",
       "      <td>NaN</td>\n",
       "      <td>NaN</td>\n",
       "      <td>1.346799e+09</td>\n",
       "      <td>{'analytics_storage': None, 'ads_storage': Non...</td>\n",
       "      <td>...</td>\n",
       "      <td>{'key': 'session_engaged', 'value.string_value...</td>\n",
       "      <td>{'key': 'Click_5', 'value.string_value': 'html...</td>\n",
       "      <td>{'key': 'page_location', 'value.string_value':...</td>\n",
       "      <td>{'key': 'Click_1', 'value.string_value': 'nter...</td>\n",
       "      <td>{'key': 'ignore_referrer', 'value.string_value...</td>\n",
       "      <td>{'key': 'page_referrer', 'value.string_value':...</td>\n",
       "      <td>{'key': 'engagement_time_msec', 'value.string_...</td>\n",
       "      <td>{'key': 'Click_4', 'value.string_value': 'v:nt...</td>\n",
       "      <td>None</td>\n",
       "      <td>None</td>\n",
       "    </tr>\n",
       "    <tr>\n",
       "      <th>1999</th>\n",
       "      <td>2023-08-07</td>\n",
       "      <td>13:49</td>\n",
       "      <td>user_engagement</td>\n",
       "      <td>NaN</td>\n",
       "      <td>NaN</td>\n",
       "      <td>1325615723</td>\n",
       "      <td>NaN</td>\n",
       "      <td>NaN</td>\n",
       "      <td>1.346799e+09</td>\n",
       "      <td>{'analytics_storage': None, 'ads_storage': Non...</td>\n",
       "      <td>...</td>\n",
       "      <td>{'key': 'page_referrer', 'value.string_value':...</td>\n",
       "      <td>{'key': 'ga_session_id', 'value.string_value':...</td>\n",
       "      <td>{'key': 'ga_session_number', 'value.string_val...</td>\n",
       "      <td>None</td>\n",
       "      <td>None</td>\n",
       "      <td>None</td>\n",
       "      <td>None</td>\n",
       "      <td>None</td>\n",
       "      <td>None</td>\n",
       "      <td>None</td>\n",
       "    </tr>\n",
       "  </tbody>\n",
       "</table>\n",
       "<p>2000 rows × 62 columns</p>\n",
       "</div>"
      ],
      "text/plain": [
       "     event_date event_timestamp       event_name  event_previous_timestamp  \\\n",
       "0    2023-06-30           12:54      first_visit                       NaN   \n",
       "1    2023-06-30           12:54    session_start                       NaN   \n",
       "2    2023-06-30           12:54        page_view                       NaN   \n",
       "3    2023-06-30           12:54           scroll                       NaN   \n",
       "4    2023-06-30           12:54        Menu_card                       NaN   \n",
       "...         ...             ...              ...                       ...   \n",
       "1995 2023-08-07           13:49        page_view                       NaN   \n",
       "1996 2023-08-07           13:49            Click                       NaN   \n",
       "1997 2023-08-07           13:49        page_view                       NaN   \n",
       "1998 2023-08-07           13:49            Click                       NaN   \n",
       "1999 2023-08-07           13:49  user_engagement                       NaN   \n",
       "\n",
       "      event_value_in_usd  event_bundle_sequence_id  \\\n",
       "0                    NaN               -1871097953   \n",
       "1                    NaN               -1871097953   \n",
       "2                    NaN               -1871097953   \n",
       "3                    NaN               -1866234843   \n",
       "4                    NaN               -1836644650   \n",
       "...                  ...                       ...   \n",
       "1995                 NaN                1311838628   \n",
       "1996                 NaN                1313466595   \n",
       "1997                 NaN                1325615723   \n",
       "1998                 NaN                1325615723   \n",
       "1999                 NaN                1325615723   \n",
       "\n",
       "      event_server_timestamp_offset user_id  user_pseudo_id  \\\n",
       "0                               NaN     NaN    1.111131e+09   \n",
       "1                               NaN     NaN    1.111131e+09   \n",
       "2                               NaN     NaN    1.111131e+09   \n",
       "3                               NaN     NaN    1.111131e+09   \n",
       "4                               NaN     NaN    1.111131e+09   \n",
       "...                             ...     ...             ...   \n",
       "1995                            NaN     NaN    1.346799e+09   \n",
       "1996                            NaN     NaN    1.346799e+09   \n",
       "1997                            NaN     NaN    1.346799e+09   \n",
       "1998                            NaN     NaN    1.346799e+09   \n",
       "1999                            NaN     NaN    1.346799e+09   \n",
       "\n",
       "                                           privacy_info  ...  \\\n",
       "0     {'analytics_storage': None, 'ads_storage': Non...  ...   \n",
       "1     {'analytics_storage': None, 'ads_storage': Non...  ...   \n",
       "2     {'analytics_storage': None, 'ads_storage': Non...  ...   \n",
       "3     {'analytics_storage': None, 'ads_storage': Non...  ...   \n",
       "4     {'analytics_storage': None, 'ads_storage': Non...  ...   \n",
       "...                                                 ...  ...   \n",
       "1995  {'analytics_storage': None, 'ads_storage': Non...  ...   \n",
       "1996  {'analytics_storage': None, 'ads_storage': Non...  ...   \n",
       "1997  {'analytics_storage': None, 'ads_storage': Non...  ...   \n",
       "1998  {'analytics_storage': None, 'ads_storage': Non...  ...   \n",
       "1999  {'analytics_storage': None, 'ads_storage': Non...  ...   \n",
       "\n",
       "                                                      5  \\\n",
       "0     {'key': 'ignore_referrer', 'value.string_value...   \n",
       "1     {'key': 'page_location', 'value.string_value':...   \n",
       "2     {'key': 'page_referrer', 'value.string_value':...   \n",
       "3     {'key': 'ga_session_id', 'value.string_value':...   \n",
       "4     {'key': 'session_engaged', 'value.string_value...   \n",
       "...                                                 ...   \n",
       "1995  {'key': 'ga_session_id', 'value.string_value':...   \n",
       "1996  {'key': 'page_referrer', 'value.string_value':...   \n",
       "1997  {'key': 'ga_session_number', 'value.string_val...   \n",
       "1998  {'key': 'session_engaged', 'value.string_value...   \n",
       "1999  {'key': 'page_referrer', 'value.string_value':...   \n",
       "\n",
       "                                                      6  \\\n",
       "0                                                  None   \n",
       "1                                                  None   \n",
       "2     {'key': 'session_engaged', 'value.string_value...   \n",
       "3     {'key': 'percent_scrolled', 'value.string_valu...   \n",
       "4     {'key': 'menu_card', 'value.string_value': 'me...   \n",
       "...                                                 ...   \n",
       "1995  {'key': 'session_engaged', 'value.string_value...   \n",
       "1996  {'key': 'session_engaged', 'value.string_value...   \n",
       "1997  {'key': 'page_title', 'value.string_value': 'O...   \n",
       "1998  {'key': 'Click_5', 'value.string_value': 'html...   \n",
       "1999  {'key': 'ga_session_id', 'value.string_value':...   \n",
       "\n",
       "                                                      7  \\\n",
       "0                                                  None   \n",
       "1                                                  None   \n",
       "2     {'key': 'entrances', 'value.string_value': Non...   \n",
       "3     {'key': 'page_title', 'value.string_value': 'O...   \n",
       "4     {'key': 'text', 'value.string_value': 'Grilled...   \n",
       "...                                                 ...   \n",
       "1995                                               None   \n",
       "1996  {'key': 'Click_2', 'value.string_value': 'iv#m...   \n",
       "1997                                               None   \n",
       "1998  {'key': 'page_location', 'value.string_value':...   \n",
       "1999  {'key': 'ga_session_number', 'value.string_val...   \n",
       "\n",
       "                                                      8  \\\n",
       "0                                                  None   \n",
       "1                                                  None   \n",
       "2                                                  None   \n",
       "3     {'key': 'engagement_time_msec', 'value.string_...   \n",
       "4     {'key': 'engagement_time_msec', 'value.string_...   \n",
       "...                                                 ...   \n",
       "1995                                               None   \n",
       "1996  {'key': 'Click_3', 'value.string_value': 'tine...   \n",
       "1997                                               None   \n",
       "1998  {'key': 'Click_1', 'value.string_value': 'nter...   \n",
       "1999                                               None   \n",
       "\n",
       "                                                      9  \\\n",
       "0                                                  None   \n",
       "1                                                  None   \n",
       "2                                                  None   \n",
       "3                                                  None   \n",
       "4     {'key': 'page_location', 'value.string_value':...   \n",
       "...                                                 ...   \n",
       "1995                                               None   \n",
       "1996  {'key': 'Click_5', 'value.string_value': 'html...   \n",
       "1997                                               None   \n",
       "1998  {'key': 'ignore_referrer', 'value.string_value...   \n",
       "1999                                               None   \n",
       "\n",
       "                                                     10  \\\n",
       "0                                                  None   \n",
       "1                                                  None   \n",
       "2                                                  None   \n",
       "3                                                  None   \n",
       "4                                                  None   \n",
       "...                                                 ...   \n",
       "1995                                               None   \n",
       "1996  {'key': 'Click_1', 'value.string_value': 'nter...   \n",
       "1997                                               None   \n",
       "1998  {'key': 'page_referrer', 'value.string_value':...   \n",
       "1999                                               None   \n",
       "\n",
       "                                                     11  \\\n",
       "0                                                  None   \n",
       "1                                                  None   \n",
       "2                                                  None   \n",
       "3                                                  None   \n",
       "4                                                  None   \n",
       "...                                                 ...   \n",
       "1995                                               None   \n",
       "1996  {'key': 'ga_session_id', 'value.string_value':...   \n",
       "1997                                               None   \n",
       "1998  {'key': 'engagement_time_msec', 'value.string_...   \n",
       "1999                                               None   \n",
       "\n",
       "                                                     12    13    14  \n",
       "0                                                  None  None  None  \n",
       "1                                                  None  None  None  \n",
       "2                                                  None  None  None  \n",
       "3                                                  None  None  None  \n",
       "4                                                  None  None  None  \n",
       "...                                                 ...   ...   ...  \n",
       "1995                                               None  None  None  \n",
       "1996  {'key': 'Click_4', 'value.string_value': 'v:nt...  None  None  \n",
       "1997                                               None  None  None  \n",
       "1998  {'key': 'Click_4', 'value.string_value': 'v:nt...  None  None  \n",
       "1999                                               None  None  None  \n",
       "\n",
       "[2000 rows x 62 columns]"
      ]
     },
     "execution_count": 361,
     "metadata": {},
     "output_type": "execute_result"
    }
   ],
   "source": [
    "overall_df # total of 62 features"
   ]
  },
  {
   "cell_type": "markdown",
   "id": "9d3fa059-1c92-480e-a6ae-d922e90ac844",
   "metadata": {},
   "source": [
    "# Data Exploration"
   ]
  },
  {
   "cell_type": "markdown",
   "id": "447b7f6a-4fa1-41b6-b5fa-647a40ae29c1",
   "metadata": {},
   "source": [
    "## General Overview"
   ]
  },
  {
   "cell_type": "markdown",
   "id": "385cc840-14c1-4500-bf1f-f993372bb9cb",
   "metadata": {},
   "source": [
    "### Missing data"
   ]
  },
  {
   "cell_type": "code",
   "execution_count": 362,
   "id": "2ae0f64a-63cb-463e-b3a4-74221b330018",
   "metadata": {
    "scrolled": true
   },
   "outputs": [
    {
     "data": {
      "text/plain": [
       "browser_version             100.0\n",
       "app_info                    100.0\n",
       "mobile_os_hardware_model    100.0\n",
       "event_previous_timestamp    100.0\n",
       "event_value_in_usd          100.0\n",
       "                            ...  \n",
       "operating_system              0.0\n",
       "continent                     0.0\n",
       "sub_continent                 0.0\n",
       "metro                         0.0\n",
       "event_date                    0.0\n",
       "Length: 62, dtype: float64"
      ]
     },
     "execution_count": 362,
     "metadata": {},
     "output_type": "execute_result"
    }
   ],
   "source": [
    "round(100 * overall_df.isnull().sum()/len(overall_df),2).sort_values(ascending=False)"
   ]
  },
  {
   "cell_type": "code",
   "execution_count": 363,
   "id": "04af8ac7-f2e9-45f8-96be-60a88a3e0b33",
   "metadata": {
    "scrolled": true
   },
   "outputs": [
    {
     "data": {
      "text/plain": [
       "<Axes: >"
      ]
     },
     "execution_count": 363,
     "metadata": {},
     "output_type": "execute_result"
    },
    {
     "data": {
      "image/png": "[encoded data removed]",
      "text/plain": [
       "<Figure size 2500x1000 with 2 Axes>"
      ]
     },
     "metadata": {},
     "output_type": "display_data"
    }
   ],
   "source": [
    "missingno.matrix(df)"
   ]
  },
  {
   "cell_type": "markdown",
   "id": "939a11f3-2b36-4357-bd94-acbcbfda7198",
   "metadata": {},
   "source": [
    "## Customer Demographic Analysis"
   ]
  },
  {
   "cell_type": "markdown",
   "id": "6f296920-95bb-46d3-9493-8618dabc4745",
   "metadata": {},
   "source": [
    "In this section, we just want to analyze the general demographics of our customers"
   ]
  },
  {
   "cell_type": "markdown",
   "id": "ba38233e-5e68-405b-9655-fe9350d77163",
   "metadata": {},
   "source": [
    "### Active status of customers"
   ]
  },
  {
   "cell_type": "code",
   "execution_count": 364,
   "id": "a7148aa2-1d08-460b-8b58-529b2af25222",
   "metadata": {},
   "outputs": [
    {
     "data": {
      "text/plain": [
       "array([nan])"
      ]
     },
     "execution_count": 364,
     "metadata": {},
     "output_type": "execute_result"
    }
   ],
   "source": [
    "overall_df.is_active_user.unique()"
   ]
  },
  {
   "cell_type": "code",
   "execution_count": 365,
   "id": "95a7b756-6882-40dd-bce0-202b260f25b4",
   "metadata": {},
   "outputs": [],
   "source": [
    "# all NAs!\n",
    "# overall_df.is_active_user.plot(kind=\"pie\")"
   ]
  },
  {
   "cell_type": "markdown",
   "id": "bdf384e4-6be6-46d5-a6c0-e45268271794",
   "metadata": {},
   "source": [
    "### Where our customers reside"
   ]
  },
  {
   "cell_type": "code",
   "execution_count": 366,
   "id": "d3d2e031-69c3-4148-b1de-8a7dca835555",
   "metadata": {},
   "outputs": [
    {
     "data": {
      "text/plain": [
       "<Axes: xlabel='country'>"
      ]
     },
     "execution_count": 366,
     "metadata": {},
     "output_type": "execute_result"
    },
    {
     "data": {
      "image/png": "[encoded data removed]",
      "text/plain": [
       "<Figure size 640x480 with 1 Axes>"
      ]
     },
     "metadata": {},
     "output_type": "display_data"
    }
   ],
   "source": [
    "overall_df.country.value_counts().plot(kind=\"bar\")"
   ]
  },
  {
   "cell_type": "markdown",
   "id": "7daabd4b-45de-4ecf-b232-46b96f5d6fa9",
   "metadata": {},
   "source": [
    "### The type of mobile phones of customer uses"
   ]
  },
  {
   "cell_type": "code",
   "execution_count": 367,
   "id": "0a276212-f032-499c-8caa-c0a828da99c0",
   "metadata": {},
   "outputs": [
    {
     "data": {
      "text/plain": [
       "<Axes: xlabel='mobile_brand_name'>"
      ]
     },
     "execution_count": 367,
     "metadata": {},
     "output_type": "execute_result"
    },
    {
     "data": {
      "image/png": "[encoded data removed]",
      "text/plain": [
       "<Figure size 640x480 with 1 Axes>"
      ]
     },
     "metadata": {},
     "output_type": "display_data"
    }
   ],
   "source": [
    "## This can help us plan better which os system we should focus on developing for first.\n",
    "\n",
    "overall_df.mobile_brand_name.value_counts().plot(kind=\"bar\")"
   ]
  },
  {
   "cell_type": "markdown",
   "id": "b2fbe96c-e111-4b38-a3ef-30fc490511e6",
   "metadata": {},
   "source": [
    "### The language preferences"
   ]
  },
  {
   "cell_type": "code",
   "execution_count": 368,
   "id": "f659ecc5-ae4a-4b4a-ad0c-92ed97d6ba1b",
   "metadata": {
    "scrolled": true
   },
   "outputs": [
    {
     "data": {
      "text/plain": [
       "<Axes: xlabel='language'>"
      ]
     },
     "execution_count": 368,
     "metadata": {},
     "output_type": "execute_result"
    },
    {
     "data": {
      "image/png": "[encoded data removed]",
      "text/plain": [
       "<Figure size 640x480 with 1 Axes>"
      ]
     },
     "metadata": {},
     "output_type": "display_data"
    }
   ],
   "source": [
    "## This will help us understand which language we need for our translation uis.\n",
    "## Majority prefers english and korea\n",
    "overall_df.language.value_counts().plot(kind=\"bar\")"
   ]
  },
  {
   "cell_type": "markdown",
   "id": "4c16d62f-fb62-4492-ad76-b1ebb2b475dd",
   "metadata": {},
   "source": [
    "### The device used to make an order"
   ]
  },
  {
   "cell_type": "code",
   "execution_count": 369,
   "id": "11833b5a-cd6c-425c-a954-1d5ec01812c0",
   "metadata": {},
   "outputs": [
    {
     "data": {
      "text/plain": [
       "<Axes: ylabel='count'>"
      ]
     },
     "execution_count": 369,
     "metadata": {},
     "output_type": "execute_result"
    },
    {
     "data": {
      "image/png": "[encoded data removed]",
      "text/plain": [
       "<Figure size 640x480 with 1 Axes>"
      ]
     },
     "metadata": {},
     "output_type": "display_data"
    }
   ],
   "source": [
    "## This will help us determine which device to focus development on first\n",
    "overall_df.category.value_counts().plot(kind=\"pie\")"
   ]
  },
  {
   "cell_type": "markdown",
   "id": "e3c80392-2e12-49d9-8f28-39e653d53e47",
   "metadata": {},
   "source": [
    "## Events DataFrame"
   ]
  },
  {
   "cell_type": "markdown",
   "id": "0def0ff7-4d9f-444f-b082-46d0de5801a1",
   "metadata": {},
   "source": [
    "We look at the events dataframe and analyze the dropout rate from the events. \n",
    "We have : eventName : The name of the event and some event actions like : Click_1, Click_2 .... text.\n",
    "To see the dropout rates per events. We will use a pivot table and a funnel analysis."
   ]
  },
  {
   "cell_type": "markdown",
   "id": "16f48e09-a5e3-42b3-ab05-3ecba191d19d",
   "metadata": {},
   "source": [
    "Alot of NA values, in which if you could provide us, we could do better analysis."
   ]
  },
  {
   "cell_type": "code",
   "execution_count": 370,
   "id": "de380210-788f-4525-ba4e-13bc392764dd",
   "metadata": {
    "scrolled": true
   },
   "outputs": [
    {
     "data": {
      "text/plain": [
       "Index([                   'event_date',               'event_timestamp',\n",
       "                          'event_name',      'event_previous_timestamp',\n",
       "                  'event_value_in_usd',      'event_bundle_sequence_id',\n",
       "       'event_server_timestamp_offset',                       'user_id',\n",
       "                      'user_pseudo_id',                  'privacy_info',\n",
       "                     'user_properties',    'user_first_touch_timestamp',\n",
       "                            'user_ltv',                      'app_info',\n",
       "                           'stream_id',                      'platform',\n",
       "                    'event_dimensions',                     'ecommerce',\n",
       "                               'items',      'collected_traffic_source',\n",
       "                      'is_active_user',                          'city',\n",
       "                             'country',                     'continent',\n",
       "                              'region',                 'sub_continent',\n",
       "                               'metro',                          'name',\n",
       "                              'medium',                        'source',\n",
       "                            'category',             'mobile_brand_name',\n",
       "                   'mobile_model_name',         'mobile_marketing_name',\n",
       "            'mobile_os_hardware_model',              'operating_system',\n",
       "            'operating_system_version',                     'vendor_id',\n",
       "                      'advertising_id',                      'language',\n",
       "              'is_limited_ad_tracking',      'time_zone_offset_seconds',\n",
       "                             'browser',               'browser_version',\n",
       "                    'web_info.browser',      'web_info.browser_version',\n",
       "                   'web_info.hostname',                               0,\n",
       "                                     1,                               2,\n",
       "                                     3,                               4,\n",
       "                                     5,                               6,\n",
       "                                     7,                               8,\n",
       "                                     9,                              10,\n",
       "                                    11,                              12,\n",
       "                                    13,                              14],\n",
       "      dtype='object')"
      ]
     },
     "execution_count": 370,
     "metadata": {},
     "output_type": "execute_result"
    }
   ],
   "source": [
    "overall_df.columns"
   ]
  },
  {
   "cell_type": "markdown",
   "id": "766429f7-8e7e-4bd9-a512-36c2d45077e7",
   "metadata": {},
   "source": [
    "### Checkout Rate"
   ]
  },
  {
   "cell_type": "code",
   "execution_count": 371,
   "id": "35488a13-c6ee-4c73-9ea8-a00fe3b46945",
   "metadata": {},
   "outputs": [
    {
     "data": {
      "text/plain": [
       "array(['first_visit', 'session_start', 'page_view', 'scroll', 'Menu_card',\n",
       "       'react-modal-sheet-backdrop', 'quick_add_menu', 'user_engagement',\n",
       "       'Event_menu', 'Pay All', 'Category', 'Pay Mine', 'final_pay_btn',\n",
       "       'Login_btn', 'Split evenly', 'tab_chg_amt', 'add_menu', 'Click'],\n",
       "      dtype=object)"
      ]
     },
     "execution_count": 371,
     "metadata": {},
     "output_type": "execute_result"
    }
   ],
   "source": [
    "overall_df.event_name.unique()"
   ]
  },
  {
   "cell_type": "code",
   "execution_count": 372,
   "id": "31b6b3bc-32ff-4d1f-aabf-465bd838c4ef",
   "metadata": {},
   "outputs": [],
   "source": [
    "checkout_df = overall_df[overall_df.event_name.isin([\"final_pay_btn\",\"Pay All\", \"Pay Mine\", \"Split evenly\"])] "
   ]
  },
  {
   "cell_type": "code",
   "execution_count": 373,
   "id": "8811b9ab-297f-47ca-b665-a6e06dbead08",
   "metadata": {},
   "outputs": [
    {
     "data": {
      "text/html": [
       "<div>\n",
       "<style scoped>\n",
       "    .dataframe tbody tr th:only-of-type {\n",
       "        vertical-align: middle;\n",
       "    }\n",
       "\n",
       "    .dataframe tbody tr th {\n",
       "        vertical-align: top;\n",
       "    }\n",
       "\n",
       "    .dataframe thead th {\n",
       "        text-align: right;\n",
       "    }\n",
       "</style>\n",
       "<table border=\"1\" class=\"dataframe\">\n",
       "  <thead>\n",
       "    <tr style=\"text-align: right;\">\n",
       "      <th></th>\n",
       "      <th>event_date</th>\n",
       "      <th>event_timestamp</th>\n",
       "      <th>event_name</th>\n",
       "      <th>event_previous_timestamp</th>\n",
       "      <th>event_value_in_usd</th>\n",
       "      <th>event_bundle_sequence_id</th>\n",
       "      <th>event_server_timestamp_offset</th>\n",
       "      <th>user_id</th>\n",
       "      <th>user_pseudo_id</th>\n",
       "      <th>privacy_info</th>\n",
       "      <th>...</th>\n",
       "      <th>5</th>\n",
       "      <th>6</th>\n",
       "      <th>7</th>\n",
       "      <th>8</th>\n",
       "      <th>9</th>\n",
       "      <th>10</th>\n",
       "      <th>11</th>\n",
       "      <th>12</th>\n",
       "      <th>13</th>\n",
       "      <th>14</th>\n",
       "    </tr>\n",
       "  </thead>\n",
       "  <tbody>\n",
       "    <tr>\n",
       "      <th>44</th>\n",
       "      <td>2023-06-30</td>\n",
       "      <td>12:55</td>\n",
       "      <td>Pay All</td>\n",
       "      <td>NaN</td>\n",
       "      <td>NaN</td>\n",
       "      <td>-298342540</td>\n",
       "      <td>NaN</td>\n",
       "      <td>NaN</td>\n",
       "      <td>1.942013e+09</td>\n",
       "      <td>{'analytics_storage': None, 'ads_storage': Non...</td>\n",
       "      <td>...</td>\n",
       "      <td>{'key': 'session_engaged', 'value.string_value...</td>\n",
       "      <td>{'key': 'ga_session_id', 'value.string_value':...</td>\n",
       "      <td>{'key': 'ga_session_number', 'value.string_val...</td>\n",
       "      <td>{'key': 'page_title', 'value.string_value': 'O...</td>\n",
       "      <td>None</td>\n",
       "      <td>None</td>\n",
       "      <td>None</td>\n",
       "      <td>None</td>\n",
       "      <td>None</td>\n",
       "      <td>None</td>\n",
       "    </tr>\n",
       "    <tr>\n",
       "      <th>127</th>\n",
       "      <td>2023-06-30</td>\n",
       "      <td>12:55</td>\n",
       "      <td>Pay Mine</td>\n",
       "      <td>NaN</td>\n",
       "      <td>NaN</td>\n",
       "      <td>-1189136821</td>\n",
       "      <td>NaN</td>\n",
       "      <td>NaN</td>\n",
       "      <td>1.117981e+09</td>\n",
       "      <td>{'analytics_storage': None, 'ads_storage': Non...</td>\n",
       "      <td>...</td>\n",
       "      <td>{'key': 'ga_session_id', 'value.string_value':...</td>\n",
       "      <td>{'key': 'ignore_referrer', 'value.string_value...</td>\n",
       "      <td>{'key': 'page_title', 'value.string_value': 'O...</td>\n",
       "      <td>{'key': 'page_location', 'value.string_value':...</td>\n",
       "      <td>None</td>\n",
       "      <td>None</td>\n",
       "      <td>None</td>\n",
       "      <td>None</td>\n",
       "      <td>None</td>\n",
       "      <td>None</td>\n",
       "    </tr>\n",
       "    <tr>\n",
       "      <th>129</th>\n",
       "      <td>2023-06-30</td>\n",
       "      <td>12:55</td>\n",
       "      <td>final_pay_btn</td>\n",
       "      <td>NaN</td>\n",
       "      <td>NaN</td>\n",
       "      <td>-1179388561</td>\n",
       "      <td>NaN</td>\n",
       "      <td>NaN</td>\n",
       "      <td>1.117981e+09</td>\n",
       "      <td>{'analytics_storage': None, 'ads_storage': Non...</td>\n",
       "      <td>...</td>\n",
       "      <td>{'key': 'engagement_time_msec', 'value.string_...</td>\n",
       "      <td>{'key': 'ignore_referrer', 'value.string_value...</td>\n",
       "      <td>{'key': 'ga_session_id', 'value.string_value':...</td>\n",
       "      <td>None</td>\n",
       "      <td>None</td>\n",
       "      <td>None</td>\n",
       "      <td>None</td>\n",
       "      <td>None</td>\n",
       "      <td>None</td>\n",
       "      <td>None</td>\n",
       "    </tr>\n",
       "    <tr>\n",
       "      <th>251</th>\n",
       "      <td>2023-06-30</td>\n",
       "      <td>12:55</td>\n",
       "      <td>Pay All</td>\n",
       "      <td>NaN</td>\n",
       "      <td>NaN</td>\n",
       "      <td>-224300855</td>\n",
       "      <td>NaN</td>\n",
       "      <td>NaN</td>\n",
       "      <td>4.794473e+08</td>\n",
       "      <td>{'analytics_storage': None, 'ads_storage': Non...</td>\n",
       "      <td>...</td>\n",
       "      <td>{'key': 'page_location', 'value.string_value':...</td>\n",
       "      <td>{'key': 'ignore_referrer', 'value.string_value...</td>\n",
       "      <td>{'key': 'page_referrer', 'value.string_value':...</td>\n",
       "      <td>{'key': 'ga_session_id', 'value.string_value':...</td>\n",
       "      <td>None</td>\n",
       "      <td>None</td>\n",
       "      <td>None</td>\n",
       "      <td>None</td>\n",
       "      <td>None</td>\n",
       "      <td>None</td>\n",
       "    </tr>\n",
       "    <tr>\n",
       "      <th>252</th>\n",
       "      <td>2023-06-30</td>\n",
       "      <td>12:55</td>\n",
       "      <td>Pay Mine</td>\n",
       "      <td>NaN</td>\n",
       "      <td>NaN</td>\n",
       "      <td>-200464787</td>\n",
       "      <td>NaN</td>\n",
       "      <td>NaN</td>\n",
       "      <td>4.794473e+08</td>\n",
       "      <td>{'analytics_storage': None, 'ads_storage': Non...</td>\n",
       "      <td>...</td>\n",
       "      <td>{'key': 'session_engaged', 'value.string_value...</td>\n",
       "      <td>{'key': 'ga_session_id', 'value.string_value':...</td>\n",
       "      <td>{'key': 'page_location', 'value.string_value':...</td>\n",
       "      <td>{'key': 'page_referrer', 'value.string_value':...</td>\n",
       "      <td>None</td>\n",
       "      <td>None</td>\n",
       "      <td>None</td>\n",
       "      <td>None</td>\n",
       "      <td>None</td>\n",
       "      <td>None</td>\n",
       "    </tr>\n",
       "    <tr>\n",
       "      <th>439</th>\n",
       "      <td>2023-07-24</td>\n",
       "      <td>13:30</td>\n",
       "      <td>Pay Mine</td>\n",
       "      <td>NaN</td>\n",
       "      <td>NaN</td>\n",
       "      <td>981437846</td>\n",
       "      <td>NaN</td>\n",
       "      <td>NaN</td>\n",
       "      <td>9.268176e+08</td>\n",
       "      <td>{'analytics_storage': None, 'ads_storage': Non...</td>\n",
       "      <td>...</td>\n",
       "      <td>{'key': 'medium', 'value.string_value': 'refer...</td>\n",
       "      <td>{'key': 'engagement_time_msec', 'value.string_...</td>\n",
       "      <td>{'key': 'campaign', 'value.string_value': '(re...</td>\n",
       "      <td>{'key': 'ga_session_id', 'value.string_value':...</td>\n",
       "      <td>{'key': 'options', 'value.string_value': 'pay_...</td>\n",
       "      <td>{'key': 'source', 'value.string_value': 'accou...</td>\n",
       "      <td>None</td>\n",
       "      <td>None</td>\n",
       "      <td>None</td>\n",
       "      <td>None</td>\n",
       "    </tr>\n",
       "    <tr>\n",
       "      <th>440</th>\n",
       "      <td>2023-07-24</td>\n",
       "      <td>13:30</td>\n",
       "      <td>final_pay_btn</td>\n",
       "      <td>NaN</td>\n",
       "      <td>NaN</td>\n",
       "      <td>984663433</td>\n",
       "      <td>NaN</td>\n",
       "      <td>NaN</td>\n",
       "      <td>9.268176e+08</td>\n",
       "      <td>{'analytics_storage': None, 'ads_storage': Non...</td>\n",
       "      <td>...</td>\n",
       "      <td>{'key': 'page_referrer', 'value.string_value':...</td>\n",
       "      <td>{'key': 'page_title', 'value.string_value': 'O...</td>\n",
       "      <td>{'key': 'ga_session_number', 'value.string_val...</td>\n",
       "      <td>None</td>\n",
       "      <td>None</td>\n",
       "      <td>None</td>\n",
       "      <td>None</td>\n",
       "      <td>None</td>\n",
       "      <td>None</td>\n",
       "      <td>None</td>\n",
       "    </tr>\n",
       "    <tr>\n",
       "      <th>512</th>\n",
       "      <td>2023-07-24</td>\n",
       "      <td>13:29</td>\n",
       "      <td>Split evenly</td>\n",
       "      <td>NaN</td>\n",
       "      <td>NaN</td>\n",
       "      <td>777835465</td>\n",
       "      <td>NaN</td>\n",
       "      <td>NaN</td>\n",
       "      <td>8.314175e+08</td>\n",
       "      <td>{'analytics_storage': None, 'ads_storage': Non...</td>\n",
       "      <td>...</td>\n",
       "      <td>{'key': 'ga_session_id', 'value.string_value':...</td>\n",
       "      <td>{'key': 'session_engaged', 'value.string_value...</td>\n",
       "      <td>{'key': 'page_referrer', 'value.string_value':...</td>\n",
       "      <td>{'key': 'options', 'value.string_value': 'spli...</td>\n",
       "      <td>{'key': 'page_title', 'value.string_value': 'O...</td>\n",
       "      <td>None</td>\n",
       "      <td>None</td>\n",
       "      <td>None</td>\n",
       "      <td>None</td>\n",
       "      <td>None</td>\n",
       "    </tr>\n",
       "    <tr>\n",
       "      <th>623</th>\n",
       "      <td>2023-07-24</td>\n",
       "      <td>13:29</td>\n",
       "      <td>Pay Mine</td>\n",
       "      <td>NaN</td>\n",
       "      <td>NaN</td>\n",
       "      <td>761692245</td>\n",
       "      <td>NaN</td>\n",
       "      <td>NaN</td>\n",
       "      <td>1.733623e+08</td>\n",
       "      <td>{'analytics_storage': None, 'ads_storage': Non...</td>\n",
       "      <td>...</td>\n",
       "      <td>{'key': 'page_location', 'value.string_value':...</td>\n",
       "      <td>{'key': 'ga_session_number', 'value.string_val...</td>\n",
       "      <td>{'key': 'options', 'value.string_value': 'pay_...</td>\n",
       "      <td>{'key': 'page_referrer', 'value.string_value':...</td>\n",
       "      <td>{'key': 'session_engaged', 'value.string_value...</td>\n",
       "      <td>None</td>\n",
       "      <td>None</td>\n",
       "      <td>None</td>\n",
       "      <td>None</td>\n",
       "      <td>None</td>\n",
       "    </tr>\n",
       "    <tr>\n",
       "      <th>624</th>\n",
       "      <td>2023-07-24</td>\n",
       "      <td>13:29</td>\n",
       "      <td>Split evenly</td>\n",
       "      <td>NaN</td>\n",
       "      <td>NaN</td>\n",
       "      <td>770232054</td>\n",
       "      <td>NaN</td>\n",
       "      <td>NaN</td>\n",
       "      <td>1.733623e+08</td>\n",
       "      <td>{'analytics_storage': None, 'ads_storage': Non...</td>\n",
       "      <td>...</td>\n",
       "      <td>{'key': 'page_referrer', 'value.string_value':...</td>\n",
       "      <td>{'key': 'page_location', 'value.string_value':...</td>\n",
       "      <td>{'key': 'ignore_referrer', 'value.string_value...</td>\n",
       "      <td>{'key': 'session_engaged', 'value.string_value...</td>\n",
       "      <td>{'key': 'ga_session_number', 'value.string_val...</td>\n",
       "      <td>None</td>\n",
       "      <td>None</td>\n",
       "      <td>None</td>\n",
       "      <td>None</td>\n",
       "      <td>None</td>\n",
       "    </tr>\n",
       "    <tr>\n",
       "      <th>625</th>\n",
       "      <td>2023-07-24</td>\n",
       "      <td>13:29</td>\n",
       "      <td>Pay All</td>\n",
       "      <td>NaN</td>\n",
       "      <td>NaN</td>\n",
       "      <td>786922789</td>\n",
       "      <td>NaN</td>\n",
       "      <td>NaN</td>\n",
       "      <td>1.733623e+08</td>\n",
       "      <td>{'analytics_storage': None, 'ads_storage': Non...</td>\n",
       "      <td>...</td>\n",
       "      <td>{'key': 'session_engaged', 'value.string_value...</td>\n",
       "      <td>{'key': 'ga_session_number', 'value.string_val...</td>\n",
       "      <td>{'key': 'engagement_time_msec', 'value.string_...</td>\n",
       "      <td>{'key': 'page_location', 'value.string_value':...</td>\n",
       "      <td>{'key': 'options', 'value.string_value': 'its_...</td>\n",
       "      <td>None</td>\n",
       "      <td>None</td>\n",
       "      <td>None</td>\n",
       "      <td>None</td>\n",
       "      <td>None</td>\n",
       "    </tr>\n",
       "    <tr>\n",
       "      <th>626</th>\n",
       "      <td>2023-07-24</td>\n",
       "      <td>13:29</td>\n",
       "      <td>Split evenly</td>\n",
       "      <td>NaN</td>\n",
       "      <td>NaN</td>\n",
       "      <td>786922789</td>\n",
       "      <td>NaN</td>\n",
       "      <td>NaN</td>\n",
       "      <td>1.733623e+08</td>\n",
       "      <td>{'analytics_storage': None, 'ads_storage': Non...</td>\n",
       "      <td>...</td>\n",
       "      <td>{'key': 'ga_session_id', 'value.string_value':...</td>\n",
       "      <td>{'key': 'session_engaged', 'value.string_value...</td>\n",
       "      <td>{'key': 'page_location', 'value.string_value':...</td>\n",
       "      <td>{'key': 'engagement_time_msec', 'value.string_...</td>\n",
       "      <td>{'key': 'options', 'value.string_value': 'spli...</td>\n",
       "      <td>None</td>\n",
       "      <td>None</td>\n",
       "      <td>None</td>\n",
       "      <td>None</td>\n",
       "      <td>None</td>\n",
       "    </tr>\n",
       "    <tr>\n",
       "      <th>629</th>\n",
       "      <td>2023-07-24</td>\n",
       "      <td>13:29</td>\n",
       "      <td>final_pay_btn</td>\n",
       "      <td>NaN</td>\n",
       "      <td>NaN</td>\n",
       "      <td>811952677</td>\n",
       "      <td>NaN</td>\n",
       "      <td>NaN</td>\n",
       "      <td>1.733623e+08</td>\n",
       "      <td>{'analytics_storage': None, 'ads_storage': Non...</td>\n",
       "      <td>...</td>\n",
       "      <td>{'key': 'ga_session_id', 'value.string_value':...</td>\n",
       "      <td>{'key': 'engaged_session_event', 'value.string...</td>\n",
       "      <td>{'key': 'engagement_time_msec', 'value.string_...</td>\n",
       "      <td>{'key': 'session_engaged', 'value.string_value...</td>\n",
       "      <td>None</td>\n",
       "      <td>None</td>\n",
       "      <td>None</td>\n",
       "      <td>None</td>\n",
       "      <td>None</td>\n",
       "      <td>None</td>\n",
       "    </tr>\n",
       "    <tr>\n",
       "      <th>639</th>\n",
       "      <td>2023-07-24</td>\n",
       "      <td>13:29</td>\n",
       "      <td>Pay Mine</td>\n",
       "      <td>NaN</td>\n",
       "      <td>NaN</td>\n",
       "      <td>1950923850</td>\n",
       "      <td>NaN</td>\n",
       "      <td>NaN</td>\n",
       "      <td>1.733623e+08</td>\n",
       "      <td>{'analytics_storage': None, 'ads_storage': Non...</td>\n",
       "      <td>...</td>\n",
       "      <td>{'key': 'engagement_time_msec', 'value.string_...</td>\n",
       "      <td>{'key': 'page_title', 'value.string_value': 'O...</td>\n",
       "      <td>{'key': 'ga_session_id', 'value.string_value':...</td>\n",
       "      <td>{'key': 'ga_session_number', 'value.string_val...</td>\n",
       "      <td>{'key': 'session_engaged', 'value.string_value...</td>\n",
       "      <td>None</td>\n",
       "      <td>None</td>\n",
       "      <td>None</td>\n",
       "      <td>None</td>\n",
       "      <td>None</td>\n",
       "    </tr>\n",
       "    <tr>\n",
       "      <th>640</th>\n",
       "      <td>2023-07-24</td>\n",
       "      <td>13:29</td>\n",
       "      <td>Split evenly</td>\n",
       "      <td>NaN</td>\n",
       "      <td>NaN</td>\n",
       "      <td>1957358420</td>\n",
       "      <td>NaN</td>\n",
       "      <td>NaN</td>\n",
       "      <td>1.733623e+08</td>\n",
       "      <td>{'analytics_storage': None, 'ads_storage': Non...</td>\n",
       "      <td>...</td>\n",
       "      <td>{'key': 'engaged_session_event', 'value.string...</td>\n",
       "      <td>{'key': 'page_location', 'value.string_value':...</td>\n",
       "      <td>{'key': 'ignore_referrer', 'value.string_value...</td>\n",
       "      <td>{'key': 'options', 'value.string_value': 'spli...</td>\n",
       "      <td>{'key': 'page_title', 'value.string_value': 'O...</td>\n",
       "      <td>None</td>\n",
       "      <td>None</td>\n",
       "      <td>None</td>\n",
       "      <td>None</td>\n",
       "      <td>None</td>\n",
       "    </tr>\n",
       "    <tr>\n",
       "      <th>641</th>\n",
       "      <td>2023-07-24</td>\n",
       "      <td>13:29</td>\n",
       "      <td>Pay All</td>\n",
       "      <td>NaN</td>\n",
       "      <td>NaN</td>\n",
       "      <td>1962809793</td>\n",
       "      <td>NaN</td>\n",
       "      <td>NaN</td>\n",
       "      <td>1.733623e+08</td>\n",
       "      <td>{'analytics_storage': None, 'ads_storage': Non...</td>\n",
       "      <td>...</td>\n",
       "      <td>{'key': 'page_location', 'value.string_value':...</td>\n",
       "      <td>{'key': 'page_referrer', 'value.string_value':...</td>\n",
       "      <td>{'key': 'engagement_time_msec', 'value.string_...</td>\n",
       "      <td>{'key': 'options', 'value.string_value': 'its_...</td>\n",
       "      <td>{'key': 'session_engaged', 'value.string_value...</td>\n",
       "      <td>None</td>\n",
       "      <td>None</td>\n",
       "      <td>None</td>\n",
       "      <td>None</td>\n",
       "      <td>None</td>\n",
       "    </tr>\n",
       "    <tr>\n",
       "      <th>642</th>\n",
       "      <td>2023-07-24</td>\n",
       "      <td>13:29</td>\n",
       "      <td>final_pay_btn</td>\n",
       "      <td>NaN</td>\n",
       "      <td>NaN</td>\n",
       "      <td>1965913049</td>\n",
       "      <td>NaN</td>\n",
       "      <td>NaN</td>\n",
       "      <td>1.733623e+08</td>\n",
       "      <td>{'analytics_storage': None, 'ads_storage': Non...</td>\n",
       "      <td>...</td>\n",
       "      <td>{'key': 'session_engaged', 'value.string_value...</td>\n",
       "      <td>{'key': 'page_referrer', 'value.string_value':...</td>\n",
       "      <td>{'key': 'page_location', 'value.string_value':...</td>\n",
       "      <td>{'key': 'page_title', 'value.string_value': 'O...</td>\n",
       "      <td>None</td>\n",
       "      <td>None</td>\n",
       "      <td>None</td>\n",
       "      <td>None</td>\n",
       "      <td>None</td>\n",
       "      <td>None</td>\n",
       "    </tr>\n",
       "    <tr>\n",
       "      <th>649</th>\n",
       "      <td>2023-07-24</td>\n",
       "      <td>13:29</td>\n",
       "      <td>Pay Mine</td>\n",
       "      <td>NaN</td>\n",
       "      <td>NaN</td>\n",
       "      <td>2055395741</td>\n",
       "      <td>NaN</td>\n",
       "      <td>NaN</td>\n",
       "      <td>1.733623e+08</td>\n",
       "      <td>{'analytics_storage': None, 'ads_storage': Non...</td>\n",
       "      <td>...</td>\n",
       "      <td>{'key': 'options', 'value.string_value': 'pay_...</td>\n",
       "      <td>{'key': 'engaged_session_event', 'value.string...</td>\n",
       "      <td>{'key': 'session_engaged', 'value.string_value...</td>\n",
       "      <td>{'key': 'page_referrer', 'value.string_value':...</td>\n",
       "      <td>{'key': 'page_title', 'value.string_value': 'O...</td>\n",
       "      <td>None</td>\n",
       "      <td>None</td>\n",
       "      <td>None</td>\n",
       "      <td>None</td>\n",
       "      <td>None</td>\n",
       "    </tr>\n",
       "    <tr>\n",
       "      <th>677</th>\n",
       "      <td>2023-07-24</td>\n",
       "      <td>13:29</td>\n",
       "      <td>Pay Mine</td>\n",
       "      <td>NaN</td>\n",
       "      <td>NaN</td>\n",
       "      <td>1953728342</td>\n",
       "      <td>NaN</td>\n",
       "      <td>NaN</td>\n",
       "      <td>1.192256e+09</td>\n",
       "      <td>{'analytics_storage': None, 'ads_storage': Non...</td>\n",
       "      <td>...</td>\n",
       "      <td>{'key': 'options', 'value.string_value': 'pay_...</td>\n",
       "      <td>{'key': 'page_location', 'value.string_value':...</td>\n",
       "      <td>{'key': 'ga_session_number', 'value.string_val...</td>\n",
       "      <td>{'key': 'page_title', 'value.string_value': 'O...</td>\n",
       "      <td>{'key': 'ignore_referrer', 'value.string_value...</td>\n",
       "      <td>None</td>\n",
       "      <td>None</td>\n",
       "      <td>None</td>\n",
       "      <td>None</td>\n",
       "      <td>None</td>\n",
       "    </tr>\n",
       "    <tr>\n",
       "      <th>678</th>\n",
       "      <td>2023-07-24</td>\n",
       "      <td>13:29</td>\n",
       "      <td>Split evenly</td>\n",
       "      <td>NaN</td>\n",
       "      <td>NaN</td>\n",
       "      <td>1953728342</td>\n",
       "      <td>NaN</td>\n",
       "      <td>NaN</td>\n",
       "      <td>1.192256e+09</td>\n",
       "      <td>{'analytics_storage': None, 'ads_storage': Non...</td>\n",
       "      <td>...</td>\n",
       "      <td>{'key': 'engaged_session_event', 'value.string...</td>\n",
       "      <td>{'key': 'ignore_referrer', 'value.string_value...</td>\n",
       "      <td>{'key': 'ga_session_number', 'value.string_val...</td>\n",
       "      <td>{'key': 'page_referrer', 'value.string_value':...</td>\n",
       "      <td>{'key': 'engagement_time_msec', 'value.string_...</td>\n",
       "      <td>None</td>\n",
       "      <td>None</td>\n",
       "      <td>None</td>\n",
       "      <td>None</td>\n",
       "      <td>None</td>\n",
       "    </tr>\n",
       "    <tr>\n",
       "      <th>679</th>\n",
       "      <td>2023-07-24</td>\n",
       "      <td>13:29</td>\n",
       "      <td>Pay All</td>\n",
       "      <td>NaN</td>\n",
       "      <td>NaN</td>\n",
       "      <td>1975561981</td>\n",
       "      <td>NaN</td>\n",
       "      <td>NaN</td>\n",
       "      <td>1.192256e+09</td>\n",
       "      <td>{'analytics_storage': None, 'ads_storage': Non...</td>\n",
       "      <td>...</td>\n",
       "      <td>{'key': 'page_referrer', 'value.string_value':...</td>\n",
       "      <td>{'key': 'ga_session_number', 'value.string_val...</td>\n",
       "      <td>{'key': 'options', 'value.string_value': 'its_...</td>\n",
       "      <td>{'key': 'engaged_session_event', 'value.string...</td>\n",
       "      <td>{'key': 'ignore_referrer', 'value.string_value...</td>\n",
       "      <td>None</td>\n",
       "      <td>None</td>\n",
       "      <td>None</td>\n",
       "      <td>None</td>\n",
       "      <td>None</td>\n",
       "    </tr>\n",
       "    <tr>\n",
       "      <th>680</th>\n",
       "      <td>2023-07-24</td>\n",
       "      <td>13:29</td>\n",
       "      <td>Split evenly</td>\n",
       "      <td>NaN</td>\n",
       "      <td>NaN</td>\n",
       "      <td>1975561981</td>\n",
       "      <td>NaN</td>\n",
       "      <td>NaN</td>\n",
       "      <td>1.192256e+09</td>\n",
       "      <td>{'analytics_storage': None, 'ads_storage': Non...</td>\n",
       "      <td>...</td>\n",
       "      <td>{'key': 'session_engaged', 'value.string_value...</td>\n",
       "      <td>{'key': 'page_title', 'value.string_value': 'O...</td>\n",
       "      <td>{'key': 'engaged_session_event', 'value.string...</td>\n",
       "      <td>{'key': 'ignore_referrer', 'value.string_value...</td>\n",
       "      <td>{'key': 'ga_session_id', 'value.string_value':...</td>\n",
       "      <td>None</td>\n",
       "      <td>None</td>\n",
       "      <td>None</td>\n",
       "      <td>None</td>\n",
       "      <td>None</td>\n",
       "    </tr>\n",
       "    <tr>\n",
       "      <th>681</th>\n",
       "      <td>2023-07-24</td>\n",
       "      <td>13:29</td>\n",
       "      <td>Pay All</td>\n",
       "      <td>NaN</td>\n",
       "      <td>NaN</td>\n",
       "      <td>1975561981</td>\n",
       "      <td>NaN</td>\n",
       "      <td>NaN</td>\n",
       "      <td>1.192256e+09</td>\n",
       "      <td>{'analytics_storage': None, 'ads_storage': Non...</td>\n",
       "      <td>...</td>\n",
       "      <td>{'key': 'ignore_referrer', 'value.string_value...</td>\n",
       "      <td>{'key': 'engagement_time_msec', 'value.string_...</td>\n",
       "      <td>{'key': 'page_referrer', 'value.string_value':...</td>\n",
       "      <td>{'key': 'page_title', 'value.string_value': 'O...</td>\n",
       "      <td>{'key': 'ga_session_number', 'value.string_val...</td>\n",
       "      <td>None</td>\n",
       "      <td>None</td>\n",
       "      <td>None</td>\n",
       "      <td>None</td>\n",
       "      <td>None</td>\n",
       "    </tr>\n",
       "    <tr>\n",
       "      <th>682</th>\n",
       "      <td>2023-07-24</td>\n",
       "      <td>13:29</td>\n",
       "      <td>Pay Mine</td>\n",
       "      <td>NaN</td>\n",
       "      <td>NaN</td>\n",
       "      <td>2054540079</td>\n",
       "      <td>NaN</td>\n",
       "      <td>NaN</td>\n",
       "      <td>1.192256e+09</td>\n",
       "      <td>{'analytics_storage': None, 'ads_storage': Non...</td>\n",
       "      <td>...</td>\n",
       "      <td>{'key': 'ga_session_id', 'value.string_value':...</td>\n",
       "      <td>{'key': 'ga_session_number', 'value.string_val...</td>\n",
       "      <td>{'key': 'session_engaged', 'value.string_value...</td>\n",
       "      <td>{'key': 'ignore_referrer', 'value.string_value...</td>\n",
       "      <td>{'key': 'engaged_session_event', 'value.string...</td>\n",
       "      <td>None</td>\n",
       "      <td>None</td>\n",
       "      <td>None</td>\n",
       "      <td>None</td>\n",
       "      <td>None</td>\n",
       "    </tr>\n",
       "    <tr>\n",
       "      <th>765</th>\n",
       "      <td>2023-06-26</td>\n",
       "      <td>12:49</td>\n",
       "      <td>Pay Mine</td>\n",
       "      <td>NaN</td>\n",
       "      <td>NaN</td>\n",
       "      <td>755884340</td>\n",
       "      <td>NaN</td>\n",
       "      <td>NaN</td>\n",
       "      <td>1.922823e+09</td>\n",
       "      <td>{'analytics_storage': None, 'ads_storage': Non...</td>\n",
       "      <td>...</td>\n",
       "      <td>{'key': 'options', 'value.string_value': 'pay_...</td>\n",
       "      <td>{'key': 'page_title', 'value.string_value': 'O...</td>\n",
       "      <td>{'key': 'page_location', 'value.string_value':...</td>\n",
       "      <td>{'key': 'session_engaged', 'value.string_value...</td>\n",
       "      <td>None</td>\n",
       "      <td>None</td>\n",
       "      <td>None</td>\n",
       "      <td>None</td>\n",
       "      <td>None</td>\n",
       "      <td>None</td>\n",
       "    </tr>\n",
       "    <tr>\n",
       "      <th>776</th>\n",
       "      <td>2023-06-26</td>\n",
       "      <td>12:49</td>\n",
       "      <td>Pay Mine</td>\n",
       "      <td>NaN</td>\n",
       "      <td>NaN</td>\n",
       "      <td>814795247</td>\n",
       "      <td>NaN</td>\n",
       "      <td>NaN</td>\n",
       "      <td>1.533953e+09</td>\n",
       "      <td>{'analytics_storage': None, 'ads_storage': Non...</td>\n",
       "      <td>...</td>\n",
       "      <td>{'key': 'options', 'value.string_value': 'pay_...</td>\n",
       "      <td>{'key': 'ignore_referrer', 'value.string_value...</td>\n",
       "      <td>{'key': 'ga_session_number', 'value.string_val...</td>\n",
       "      <td>{'key': 'engagement_time_msec', 'value.string_...</td>\n",
       "      <td>None</td>\n",
       "      <td>None</td>\n",
       "      <td>None</td>\n",
       "      <td>None</td>\n",
       "      <td>None</td>\n",
       "      <td>None</td>\n",
       "    </tr>\n",
       "    <tr>\n",
       "      <th>779</th>\n",
       "      <td>2023-06-26</td>\n",
       "      <td>12:49</td>\n",
       "      <td>final_pay_btn</td>\n",
       "      <td>NaN</td>\n",
       "      <td>NaN</td>\n",
       "      <td>-1142570752</td>\n",
       "      <td>NaN</td>\n",
       "      <td>NaN</td>\n",
       "      <td>1.533953e+09</td>\n",
       "      <td>{'analytics_storage': None, 'ads_storage': Non...</td>\n",
       "      <td>...</td>\n",
       "      <td>{'key': 'page_location', 'value.string_value':...</td>\n",
       "      <td>{'key': 'ga_session_id', 'value.string_value':...</td>\n",
       "      <td>None</td>\n",
       "      <td>None</td>\n",
       "      <td>None</td>\n",
       "      <td>None</td>\n",
       "      <td>None</td>\n",
       "      <td>None</td>\n",
       "      <td>None</td>\n",
       "      <td>None</td>\n",
       "    </tr>\n",
       "    <tr>\n",
       "      <th>810</th>\n",
       "      <td>2023-06-26</td>\n",
       "      <td>12:49</td>\n",
       "      <td>Pay Mine</td>\n",
       "      <td>NaN</td>\n",
       "      <td>NaN</td>\n",
       "      <td>1965628584</td>\n",
       "      <td>NaN</td>\n",
       "      <td>NaN</td>\n",
       "      <td>1.019951e+09</td>\n",
       "      <td>{'analytics_storage': None, 'ads_storage': Non...</td>\n",
       "      <td>...</td>\n",
       "      <td>{'key': 'page_title', 'value.string_value': 'O...</td>\n",
       "      <td>{'key': 'options', 'value.string_value': 'pay_...</td>\n",
       "      <td>{'key': 'page_referrer', 'value.string_value':...</td>\n",
       "      <td>{'key': 'session_engaged', 'value.string_value...</td>\n",
       "      <td>{'key': 'ga_session_id', 'value.string_value':...</td>\n",
       "      <td>None</td>\n",
       "      <td>None</td>\n",
       "      <td>None</td>\n",
       "      <td>None</td>\n",
       "      <td>None</td>\n",
       "    </tr>\n",
       "    <tr>\n",
       "      <th>812</th>\n",
       "      <td>2023-06-26</td>\n",
       "      <td>12:49</td>\n",
       "      <td>final_pay_btn</td>\n",
       "      <td>NaN</td>\n",
       "      <td>NaN</td>\n",
       "      <td>1971940659</td>\n",
       "      <td>NaN</td>\n",
       "      <td>NaN</td>\n",
       "      <td>1.019951e+09</td>\n",
       "      <td>{'analytics_storage': None, 'ads_storage': Non...</td>\n",
       "      <td>...</td>\n",
       "      <td>{'key': 'page_referrer', 'value.string_value':...</td>\n",
       "      <td>{'key': 'ga_session_number', 'value.string_val...</td>\n",
       "      <td>{'key': 'ignore_referrer', 'value.string_value...</td>\n",
       "      <td>{'key': 'page_location', 'value.string_value':...</td>\n",
       "      <td>None</td>\n",
       "      <td>None</td>\n",
       "      <td>None</td>\n",
       "      <td>None</td>\n",
       "      <td>None</td>\n",
       "      <td>None</td>\n",
       "    </tr>\n",
       "    <tr>\n",
       "      <th>826</th>\n",
       "      <td>2023-06-26</td>\n",
       "      <td>12:49</td>\n",
       "      <td>Pay Mine</td>\n",
       "      <td>NaN</td>\n",
       "      <td>NaN</td>\n",
       "      <td>2036797159</td>\n",
       "      <td>NaN</td>\n",
       "      <td>NaN</td>\n",
       "      <td>2.258223e+08</td>\n",
       "      <td>{'analytics_storage': None, 'ads_storage': Non...</td>\n",
       "      <td>...</td>\n",
       "      <td>{'key': 'engagement_time_msec', 'value.string_...</td>\n",
       "      <td>{'key': 'page_title', 'value.string_value': 'O...</td>\n",
       "      <td>{'key': 'page_referrer', 'value.string_value':...</td>\n",
       "      <td>{'key': 'session_engaged', 'value.string_value...</td>\n",
       "      <td>None</td>\n",
       "      <td>None</td>\n",
       "      <td>None</td>\n",
       "      <td>None</td>\n",
       "      <td>None</td>\n",
       "      <td>None</td>\n",
       "    </tr>\n",
       "    <tr>\n",
       "      <th>832</th>\n",
       "      <td>2023-06-26</td>\n",
       "      <td>12:49</td>\n",
       "      <td>final_pay_btn</td>\n",
       "      <td>NaN</td>\n",
       "      <td>NaN</td>\n",
       "      <td>2047314098</td>\n",
       "      <td>NaN</td>\n",
       "      <td>NaN</td>\n",
       "      <td>2.258223e+08</td>\n",
       "      <td>{'analytics_storage': None, 'ads_storage': Non...</td>\n",
       "      <td>...</td>\n",
       "      <td>{'key': 'ga_session_number', 'value.string_val...</td>\n",
       "      <td>{'key': 'page_title', 'value.string_value': 'O...</td>\n",
       "      <td>{'key': 'page_location', 'value.string_value':...</td>\n",
       "      <td>None</td>\n",
       "      <td>None</td>\n",
       "      <td>None</td>\n",
       "      <td>None</td>\n",
       "      <td>None</td>\n",
       "      <td>None</td>\n",
       "      <td>None</td>\n",
       "    </tr>\n",
       "    <tr>\n",
       "      <th>848</th>\n",
       "      <td>2023-06-26</td>\n",
       "      <td>12:49</td>\n",
       "      <td>Pay Mine</td>\n",
       "      <td>NaN</td>\n",
       "      <td>NaN</td>\n",
       "      <td>1408556372</td>\n",
       "      <td>NaN</td>\n",
       "      <td>NaN</td>\n",
       "      <td>1.727100e+09</td>\n",
       "      <td>{'analytics_storage': None, 'ads_storage': Non...</td>\n",
       "      <td>...</td>\n",
       "      <td>{'key': 'ga_session_number', 'value.string_val...</td>\n",
       "      <td>{'key': 'page_location', 'value.string_value':...</td>\n",
       "      <td>{'key': 'ga_session_id', 'value.string_value':...</td>\n",
       "      <td>{'key': 'engagement_time_msec', 'value.string_...</td>\n",
       "      <td>None</td>\n",
       "      <td>None</td>\n",
       "      <td>None</td>\n",
       "      <td>None</td>\n",
       "      <td>None</td>\n",
       "      <td>None</td>\n",
       "    </tr>\n",
       "    <tr>\n",
       "      <th>864</th>\n",
       "      <td>2023-06-26</td>\n",
       "      <td>12:49</td>\n",
       "      <td>Pay Mine</td>\n",
       "      <td>NaN</td>\n",
       "      <td>NaN</td>\n",
       "      <td>1802870952</td>\n",
       "      <td>NaN</td>\n",
       "      <td>NaN</td>\n",
       "      <td>1.875994e+09</td>\n",
       "      <td>{'analytics_storage': None, 'ads_storage': Non...</td>\n",
       "      <td>...</td>\n",
       "      <td>{'key': 'session_engaged', 'value.string_value...</td>\n",
       "      <td>{'key': 'page_referrer', 'value.string_value':...</td>\n",
       "      <td>{'key': 'ignore_referrer', 'value.string_value...</td>\n",
       "      <td>{'key': 'engaged_session_event', 'value.string...</td>\n",
       "      <td>{'key': 'ga_session_id', 'value.string_value':...</td>\n",
       "      <td>None</td>\n",
       "      <td>None</td>\n",
       "      <td>None</td>\n",
       "      <td>None</td>\n",
       "      <td>None</td>\n",
       "    </tr>\n",
       "    <tr>\n",
       "      <th>867</th>\n",
       "      <td>2023-06-26</td>\n",
       "      <td>12:49</td>\n",
       "      <td>final_pay_btn</td>\n",
       "      <td>NaN</td>\n",
       "      <td>NaN</td>\n",
       "      <td>1810628813</td>\n",
       "      <td>NaN</td>\n",
       "      <td>NaN</td>\n",
       "      <td>1.875994e+09</td>\n",
       "      <td>{'analytics_storage': None, 'ads_storage': Non...</td>\n",
       "      <td>...</td>\n",
       "      <td>{'key': 'page_location', 'value.string_value':...</td>\n",
       "      <td>{'key': 'session_engaged', 'value.string_value...</td>\n",
       "      <td>{'key': 'page_referrer', 'value.string_value':...</td>\n",
       "      <td>{'key': 'ignore_referrer', 'value.string_value...</td>\n",
       "      <td>None</td>\n",
       "      <td>None</td>\n",
       "      <td>None</td>\n",
       "      <td>None</td>\n",
       "      <td>None</td>\n",
       "      <td>None</td>\n",
       "    </tr>\n",
       "    <tr>\n",
       "      <th>874</th>\n",
       "      <td>2023-06-26</td>\n",
       "      <td>12:49</td>\n",
       "      <td>Pay Mine</td>\n",
       "      <td>NaN</td>\n",
       "      <td>NaN</td>\n",
       "      <td>326701021</td>\n",
       "      <td>NaN</td>\n",
       "      <td>NaN</td>\n",
       "      <td>1.875994e+09</td>\n",
       "      <td>{'analytics_storage': None, 'ads_storage': Non...</td>\n",
       "      <td>...</td>\n",
       "      <td>{'key': 'session_engaged', 'value.string_value...</td>\n",
       "      <td>{'key': 'page_referrer', 'value.string_value':...</td>\n",
       "      <td>{'key': 'ignore_referrer', 'value.string_value...</td>\n",
       "      <td>{'key': 'ga_session_number', 'value.string_val...</td>\n",
       "      <td>None</td>\n",
       "      <td>None</td>\n",
       "      <td>None</td>\n",
       "      <td>None</td>\n",
       "      <td>None</td>\n",
       "      <td>None</td>\n",
       "    </tr>\n",
       "    <tr>\n",
       "      <th>889</th>\n",
       "      <td>2023-06-26</td>\n",
       "      <td>12:49</td>\n",
       "      <td>Pay Mine</td>\n",
       "      <td>NaN</td>\n",
       "      <td>NaN</td>\n",
       "      <td>1873544558</td>\n",
       "      <td>NaN</td>\n",
       "      <td>NaN</td>\n",
       "      <td>1.875994e+09</td>\n",
       "      <td>{'analytics_storage': None, 'ads_storage': Non...</td>\n",
       "      <td>...</td>\n",
       "      <td>{'key': 'session_engaged', 'value.string_value...</td>\n",
       "      <td>{'key': 'ga_session_number', 'value.string_val...</td>\n",
       "      <td>{'key': 'ga_session_id', 'value.string_value':...</td>\n",
       "      <td>{'key': 'ignore_referrer', 'value.string_value...</td>\n",
       "      <td>None</td>\n",
       "      <td>None</td>\n",
       "      <td>None</td>\n",
       "      <td>None</td>\n",
       "      <td>None</td>\n",
       "      <td>None</td>\n",
       "    </tr>\n",
       "    <tr>\n",
       "      <th>892</th>\n",
       "      <td>2023-06-26</td>\n",
       "      <td>12:49</td>\n",
       "      <td>final_pay_btn</td>\n",
       "      <td>NaN</td>\n",
       "      <td>NaN</td>\n",
       "      <td>1883039357</td>\n",
       "      <td>NaN</td>\n",
       "      <td>NaN</td>\n",
       "      <td>1.875994e+09</td>\n",
       "      <td>{'analytics_storage': None, 'ads_storage': Non...</td>\n",
       "      <td>...</td>\n",
       "      <td>{'key': 'ignore_referrer', 'value.string_value...</td>\n",
       "      <td>{'key': 'ga_session_id', 'value.string_value':...</td>\n",
       "      <td>{'key': 'page_referrer', 'value.string_value':...</td>\n",
       "      <td>None</td>\n",
       "      <td>None</td>\n",
       "      <td>None</td>\n",
       "      <td>None</td>\n",
       "      <td>None</td>\n",
       "      <td>None</td>\n",
       "      <td>None</td>\n",
       "    </tr>\n",
       "    <tr>\n",
       "      <th>910</th>\n",
       "      <td>2023-06-26</td>\n",
       "      <td>12:49</td>\n",
       "      <td>final_pay_btn</td>\n",
       "      <td>NaN</td>\n",
       "      <td>NaN</td>\n",
       "      <td>1325275901</td>\n",
       "      <td>NaN</td>\n",
       "      <td>NaN</td>\n",
       "      <td>8.633164e+08</td>\n",
       "      <td>{'analytics_storage': None, 'ads_storage': Non...</td>\n",
       "      <td>...</td>\n",
       "      <td>{'key': 'page_location', 'value.string_value':...</td>\n",
       "      <td>{'key': 'ignore_referrer', 'value.string_value...</td>\n",
       "      <td>{'key': 'session_engaged', 'value.string_value...</td>\n",
       "      <td>None</td>\n",
       "      <td>None</td>\n",
       "      <td>None</td>\n",
       "      <td>None</td>\n",
       "      <td>None</td>\n",
       "      <td>None</td>\n",
       "      <td>None</td>\n",
       "    </tr>\n",
       "    <tr>\n",
       "      <th>945</th>\n",
       "      <td>2023-06-26</td>\n",
       "      <td>12:49</td>\n",
       "      <td>Pay Mine</td>\n",
       "      <td>NaN</td>\n",
       "      <td>NaN</td>\n",
       "      <td>-37168786</td>\n",
       "      <td>NaN</td>\n",
       "      <td>NaN</td>\n",
       "      <td>8.633164e+08</td>\n",
       "      <td>{'analytics_storage': None, 'ads_storage': Non...</td>\n",
       "      <td>...</td>\n",
       "      <td>{'key': 'ignore_referrer', 'value.string_value...</td>\n",
       "      <td>{'key': 'ga_session_number', 'value.string_val...</td>\n",
       "      <td>{'key': 'options', 'value.string_value': 'pay_...</td>\n",
       "      <td>{'key': 'engagement_time_msec', 'value.string_...</td>\n",
       "      <td>None</td>\n",
       "      <td>None</td>\n",
       "      <td>None</td>\n",
       "      <td>None</td>\n",
       "      <td>None</td>\n",
       "      <td>None</td>\n",
       "    </tr>\n",
       "    <tr>\n",
       "      <th>947</th>\n",
       "      <td>2023-06-26</td>\n",
       "      <td>12:49</td>\n",
       "      <td>final_pay_btn</td>\n",
       "      <td>NaN</td>\n",
       "      <td>NaN</td>\n",
       "      <td>-30327972</td>\n",
       "      <td>NaN</td>\n",
       "      <td>NaN</td>\n",
       "      <td>8.633164e+08</td>\n",
       "      <td>{'analytics_storage': None, 'ads_storage': Non...</td>\n",
       "      <td>...</td>\n",
       "      <td>{'key': 'page_location', 'value.string_value':...</td>\n",
       "      <td>{'key': 'ga_session_id', 'value.string_value':...</td>\n",
       "      <td>{'key': 'session_engaged', 'value.string_value...</td>\n",
       "      <td>None</td>\n",
       "      <td>None</td>\n",
       "      <td>None</td>\n",
       "      <td>None</td>\n",
       "      <td>None</td>\n",
       "      <td>None</td>\n",
       "      <td>None</td>\n",
       "    </tr>\n",
       "    <tr>\n",
       "      <th>1094</th>\n",
       "      <td>2023-06-26</td>\n",
       "      <td>12:49</td>\n",
       "      <td>Pay Mine</td>\n",
       "      <td>NaN</td>\n",
       "      <td>NaN</td>\n",
       "      <td>-2055983951</td>\n",
       "      <td>NaN</td>\n",
       "      <td>NaN</td>\n",
       "      <td>5.643166e+08</td>\n",
       "      <td>{'analytics_storage': None, 'ads_storage': Non...</td>\n",
       "      <td>...</td>\n",
       "      <td>{'key': 'engagement_time_msec', 'value.string_...</td>\n",
       "      <td>{'key': 'session_engaged', 'value.string_value...</td>\n",
       "      <td>{'key': 'page_title', 'value.string_value': 'O...</td>\n",
       "      <td>{'key': 'page_referrer', 'value.string_value':...</td>\n",
       "      <td>{'key': 'page_location', 'value.string_value':...</td>\n",
       "      <td>None</td>\n",
       "      <td>None</td>\n",
       "      <td>None</td>\n",
       "      <td>None</td>\n",
       "      <td>None</td>\n",
       "    </tr>\n",
       "    <tr>\n",
       "      <th>1095</th>\n",
       "      <td>2023-06-26</td>\n",
       "      <td>12:49</td>\n",
       "      <td>final_pay_btn</td>\n",
       "      <td>NaN</td>\n",
       "      <td>NaN</td>\n",
       "      <td>-2049261146</td>\n",
       "      <td>NaN</td>\n",
       "      <td>NaN</td>\n",
       "      <td>5.643166e+08</td>\n",
       "      <td>{'analytics_storage': None, 'ads_storage': Non...</td>\n",
       "      <td>...</td>\n",
       "      <td>{'key': 'ignore_referrer', 'value.string_value...</td>\n",
       "      <td>{'key': 'session_engaged', 'value.string_value...</td>\n",
       "      <td>{'key': 'page_referrer', 'value.string_value':...</td>\n",
       "      <td>{'key': 'ga_session_number', 'value.string_val...</td>\n",
       "      <td>None</td>\n",
       "      <td>None</td>\n",
       "      <td>None</td>\n",
       "      <td>None</td>\n",
       "      <td>None</td>\n",
       "      <td>None</td>\n",
       "    </tr>\n",
       "    <tr>\n",
       "      <th>1121</th>\n",
       "      <td>2023-06-26</td>\n",
       "      <td>12:49</td>\n",
       "      <td>Pay Mine</td>\n",
       "      <td>NaN</td>\n",
       "      <td>NaN</td>\n",
       "      <td>1690205887</td>\n",
       "      <td>NaN</td>\n",
       "      <td>NaN</td>\n",
       "      <td>1.768318e+08</td>\n",
       "      <td>{'analytics_storage': None, 'ads_storage': Non...</td>\n",
       "      <td>...</td>\n",
       "      <td>{'key': 'page_title', 'value.string_value': 'O...</td>\n",
       "      <td>{'key': 'ignore_referrer', 'value.string_value...</td>\n",
       "      <td>{'key': 'ga_session_number', 'value.string_val...</td>\n",
       "      <td>{'key': 'engagement_time_msec', 'value.string_...</td>\n",
       "      <td>None</td>\n",
       "      <td>None</td>\n",
       "      <td>None</td>\n",
       "      <td>None</td>\n",
       "      <td>None</td>\n",
       "      <td>None</td>\n",
       "    </tr>\n",
       "    <tr>\n",
       "      <th>1124</th>\n",
       "      <td>2023-06-26</td>\n",
       "      <td>12:49</td>\n",
       "      <td>final_pay_btn</td>\n",
       "      <td>NaN</td>\n",
       "      <td>NaN</td>\n",
       "      <td>1695315991</td>\n",
       "      <td>NaN</td>\n",
       "      <td>NaN</td>\n",
       "      <td>1.768318e+08</td>\n",
       "      <td>{'analytics_storage': None, 'ads_storage': Non...</td>\n",
       "      <td>...</td>\n",
       "      <td>{'key': 'ga_session_id', 'value.string_value':...</td>\n",
       "      <td>{'key': 'page_location', 'value.string_value':...</td>\n",
       "      <td>{'key': 'page_referrer', 'value.string_value':...</td>\n",
       "      <td>None</td>\n",
       "      <td>None</td>\n",
       "      <td>None</td>\n",
       "      <td>None</td>\n",
       "      <td>None</td>\n",
       "      <td>None</td>\n",
       "      <td>None</td>\n",
       "    </tr>\n",
       "    <tr>\n",
       "      <th>1133</th>\n",
       "      <td>2023-06-26</td>\n",
       "      <td>12:49</td>\n",
       "      <td>Pay Mine</td>\n",
       "      <td>NaN</td>\n",
       "      <td>NaN</td>\n",
       "      <td>1846414190</td>\n",
       "      <td>NaN</td>\n",
       "      <td>NaN</td>\n",
       "      <td>1.768318e+08</td>\n",
       "      <td>{'analytics_storage': None, 'ads_storage': Non...</td>\n",
       "      <td>...</td>\n",
       "      <td>{'key': 'session_engaged', 'value.string_value...</td>\n",
       "      <td>{'key': 'options', 'value.string_value': 'pay_...</td>\n",
       "      <td>{'key': 'ga_session_id', 'value.string_value':...</td>\n",
       "      <td>{'key': 'ga_session_number', 'value.string_val...</td>\n",
       "      <td>None</td>\n",
       "      <td>None</td>\n",
       "      <td>None</td>\n",
       "      <td>None</td>\n",
       "      <td>None</td>\n",
       "      <td>None</td>\n",
       "    </tr>\n",
       "    <tr>\n",
       "      <th>1161</th>\n",
       "      <td>2023-06-26</td>\n",
       "      <td>12:49</td>\n",
       "      <td>Pay Mine</td>\n",
       "      <td>NaN</td>\n",
       "      <td>NaN</td>\n",
       "      <td>1512187738</td>\n",
       "      <td>NaN</td>\n",
       "      <td>NaN</td>\n",
       "      <td>1.281749e+09</td>\n",
       "      <td>{'analytics_storage': None, 'ads_storage': Non...</td>\n",
       "      <td>...</td>\n",
       "      <td>{'key': 'options', 'value.string_value': 'pay_...</td>\n",
       "      <td>{'key': 'ga_session_number', 'value.string_val...</td>\n",
       "      <td>{'key': 'ignore_referrer', 'value.string_value...</td>\n",
       "      <td>{'key': 'page_location', 'value.string_value':...</td>\n",
       "      <td>None</td>\n",
       "      <td>None</td>\n",
       "      <td>None</td>\n",
       "      <td>None</td>\n",
       "      <td>None</td>\n",
       "      <td>None</td>\n",
       "    </tr>\n",
       "    <tr>\n",
       "      <th>1162</th>\n",
       "      <td>2023-06-26</td>\n",
       "      <td>12:49</td>\n",
       "      <td>final_pay_btn</td>\n",
       "      <td>NaN</td>\n",
       "      <td>NaN</td>\n",
       "      <td>1517275105</td>\n",
       "      <td>NaN</td>\n",
       "      <td>NaN</td>\n",
       "      <td>1.281749e+09</td>\n",
       "      <td>{'analytics_storage': None, 'ads_storage': Non...</td>\n",
       "      <td>...</td>\n",
       "      <td>{'key': 'ga_session_id', 'value.string_value':...</td>\n",
       "      <td>{'key': 'session_engaged', 'value.string_value...</td>\n",
       "      <td>{'key': 'page_title', 'value.string_value': 'O...</td>\n",
       "      <td>None</td>\n",
       "      <td>None</td>\n",
       "      <td>None</td>\n",
       "      <td>None</td>\n",
       "      <td>None</td>\n",
       "      <td>None</td>\n",
       "      <td>None</td>\n",
       "    </tr>\n",
       "    <tr>\n",
       "      <th>1185</th>\n",
       "      <td>2023-06-26</td>\n",
       "      <td>12:49</td>\n",
       "      <td>Pay Mine</td>\n",
       "      <td>NaN</td>\n",
       "      <td>NaN</td>\n",
       "      <td>1781920080</td>\n",
       "      <td>NaN</td>\n",
       "      <td>NaN</td>\n",
       "      <td>6.252510e+08</td>\n",
       "      <td>{'analytics_storage': None, 'ads_storage': Non...</td>\n",
       "      <td>...</td>\n",
       "      <td>{'key': 'page_location', 'value.string_value':...</td>\n",
       "      <td>{'key': 'options', 'value.string_value': 'pay_...</td>\n",
       "      <td>{'key': 'engagement_time_msec', 'value.string_...</td>\n",
       "      <td>{'key': 'page_title', 'value.string_value': 'O...</td>\n",
       "      <td>None</td>\n",
       "      <td>None</td>\n",
       "      <td>None</td>\n",
       "      <td>None</td>\n",
       "      <td>None</td>\n",
       "      <td>None</td>\n",
       "    </tr>\n",
       "    <tr>\n",
       "      <th>1187</th>\n",
       "      <td>2023-06-26</td>\n",
       "      <td>12:49</td>\n",
       "      <td>final_pay_btn</td>\n",
       "      <td>NaN</td>\n",
       "      <td>NaN</td>\n",
       "      <td>1790084826</td>\n",
       "      <td>NaN</td>\n",
       "      <td>NaN</td>\n",
       "      <td>6.252510e+08</td>\n",
       "      <td>{'analytics_storage': None, 'ads_storage': Non...</td>\n",
       "      <td>...</td>\n",
       "      <td>{'key': 'page_location', 'value.string_value':...</td>\n",
       "      <td>{'key': 'page_title', 'value.string_value': 'O...</td>\n",
       "      <td>{'key': 'ga_session_number', 'value.string_val...</td>\n",
       "      <td>None</td>\n",
       "      <td>None</td>\n",
       "      <td>None</td>\n",
       "      <td>None</td>\n",
       "      <td>None</td>\n",
       "      <td>None</td>\n",
       "      <td>None</td>\n",
       "    </tr>\n",
       "    <tr>\n",
       "      <th>1195</th>\n",
       "      <td>2023-06-26</td>\n",
       "      <td>12:49</td>\n",
       "      <td>Pay Mine</td>\n",
       "      <td>NaN</td>\n",
       "      <td>NaN</td>\n",
       "      <td>1968449368</td>\n",
       "      <td>NaN</td>\n",
       "      <td>NaN</td>\n",
       "      <td>6.252510e+08</td>\n",
       "      <td>{'analytics_storage': None, 'ads_storage': Non...</td>\n",
       "      <td>...</td>\n",
       "      <td>{'key': 'ga_session_number', 'value.string_val...</td>\n",
       "      <td>{'key': 'ignore_referrer', 'value.string_value...</td>\n",
       "      <td>{'key': 'options', 'value.string_value': 'pay_...</td>\n",
       "      <td>{'key': 'page_title', 'value.string_value': 'O...</td>\n",
       "      <td>None</td>\n",
       "      <td>None</td>\n",
       "      <td>None</td>\n",
       "      <td>None</td>\n",
       "      <td>None</td>\n",
       "      <td>None</td>\n",
       "    </tr>\n",
       "    <tr>\n",
       "      <th>1197</th>\n",
       "      <td>2023-06-26</td>\n",
       "      <td>12:49</td>\n",
       "      <td>final_pay_btn</td>\n",
       "      <td>NaN</td>\n",
       "      <td>NaN</td>\n",
       "      <td>1975600987</td>\n",
       "      <td>NaN</td>\n",
       "      <td>NaN</td>\n",
       "      <td>6.252510e+08</td>\n",
       "      <td>{'analytics_storage': None, 'ads_storage': Non...</td>\n",
       "      <td>...</td>\n",
       "      <td>{'key': 'engagement_time_msec', 'value.string_...</td>\n",
       "      <td>{'key': 'ga_session_id', 'value.string_value':...</td>\n",
       "      <td>{'key': 'session_engaged', 'value.string_value...</td>\n",
       "      <td>None</td>\n",
       "      <td>None</td>\n",
       "      <td>None</td>\n",
       "      <td>None</td>\n",
       "      <td>None</td>\n",
       "      <td>None</td>\n",
       "      <td>None</td>\n",
       "    </tr>\n",
       "    <tr>\n",
       "      <th>1266</th>\n",
       "      <td>2023-06-26</td>\n",
       "      <td>12:49</td>\n",
       "      <td>Pay Mine</td>\n",
       "      <td>NaN</td>\n",
       "      <td>NaN</td>\n",
       "      <td>-1879018759</td>\n",
       "      <td>NaN</td>\n",
       "      <td>NaN</td>\n",
       "      <td>6.062367e+08</td>\n",
       "      <td>{'analytics_storage': None, 'ads_storage': Non...</td>\n",
       "      <td>...</td>\n",
       "      <td>{'key': 'page_title', 'value.string_value': 'O...</td>\n",
       "      <td>{'key': 'session_engaged', 'value.string_value...</td>\n",
       "      <td>{'key': 'options', 'value.string_value': 'pay_...</td>\n",
       "      <td>{'key': 'ga_session_number', 'value.string_val...</td>\n",
       "      <td>None</td>\n",
       "      <td>None</td>\n",
       "      <td>None</td>\n",
       "      <td>None</td>\n",
       "      <td>None</td>\n",
       "      <td>None</td>\n",
       "    </tr>\n",
       "    <tr>\n",
       "      <th>1267</th>\n",
       "      <td>2023-06-26</td>\n",
       "      <td>12:49</td>\n",
       "      <td>final_pay_btn</td>\n",
       "      <td>NaN</td>\n",
       "      <td>NaN</td>\n",
       "      <td>-1872518495</td>\n",
       "      <td>NaN</td>\n",
       "      <td>NaN</td>\n",
       "      <td>6.062367e+08</td>\n",
       "      <td>{'analytics_storage': None, 'ads_storage': Non...</td>\n",
       "      <td>...</td>\n",
       "      <td>{'key': 'page_referrer', 'value.string_value':...</td>\n",
       "      <td>{'key': 'engagement_time_msec', 'value.string_...</td>\n",
       "      <td>{'key': 'page_location', 'value.string_value':...</td>\n",
       "      <td>None</td>\n",
       "      <td>None</td>\n",
       "      <td>None</td>\n",
       "      <td>None</td>\n",
       "      <td>None</td>\n",
       "      <td>None</td>\n",
       "      <td>None</td>\n",
       "    </tr>\n",
       "  </tbody>\n",
       "</table>\n",
       "<p>53 rows × 62 columns</p>\n",
       "</div>"
      ],
      "text/plain": [
       "     event_date event_timestamp     event_name  event_previous_timestamp  \\\n",
       "44   2023-06-30           12:55        Pay All                       NaN   \n",
       "127  2023-06-30           12:55       Pay Mine                       NaN   \n",
       "129  2023-06-30           12:55  final_pay_btn                       NaN   \n",
       "251  2023-06-30           12:55        Pay All                       NaN   \n",
       "252  2023-06-30           12:55       Pay Mine                       NaN   \n",
       "439  2023-07-24           13:30       Pay Mine                       NaN   \n",
       "440  2023-07-24           13:30  final_pay_btn                       NaN   \n",
       "512  2023-07-24           13:29   Split evenly                       NaN   \n",
       "623  2023-07-24           13:29       Pay Mine                       NaN   \n",
       "624  2023-07-24           13:29   Split evenly                       NaN   \n",
       "625  2023-07-24           13:29        Pay All                       NaN   \n",
       "626  2023-07-24           13:29   Split evenly                       NaN   \n",
       "629  2023-07-24           13:29  final_pay_btn                       NaN   \n",
       "639  2023-07-24           13:29       Pay Mine                       NaN   \n",
       "640  2023-07-24           13:29   Split evenly                       NaN   \n",
       "641  2023-07-24           13:29        Pay All                       NaN   \n",
       "642  2023-07-24           13:29  final_pay_btn                       NaN   \n",
       "649  2023-07-24           13:29       Pay Mine                       NaN   \n",
       "677  2023-07-24           13:29       Pay Mine                       NaN   \n",
       "678  2023-07-24           13:29   Split evenly                       NaN   \n",
       "679  2023-07-24           13:29        Pay All                       NaN   \n",
       "680  2023-07-24           13:29   Split evenly                       NaN   \n",
       "681  2023-07-24           13:29        Pay All                       NaN   \n",
       "682  2023-07-24           13:29       Pay Mine                       NaN   \n",
       "765  2023-06-26           12:49       Pay Mine                       NaN   \n",
       "776  2023-06-26           12:49       Pay Mine                       NaN   \n",
       "779  2023-06-26           12:49  final_pay_btn                       NaN   \n",
       "810  2023-06-26           12:49       Pay Mine                       NaN   \n",
       "812  2023-06-26           12:49  final_pay_btn                       NaN   \n",
       "826  2023-06-26           12:49       Pay Mine                       NaN   \n",
       "832  2023-06-26           12:49  final_pay_btn                       NaN   \n",
       "848  2023-06-26           12:49       Pay Mine                       NaN   \n",
       "864  2023-06-26           12:49       Pay Mine                       NaN   \n",
       "867  2023-06-26           12:49  final_pay_btn                       NaN   \n",
       "874  2023-06-26           12:49       Pay Mine                       NaN   \n",
       "889  2023-06-26           12:49       Pay Mine                       NaN   \n",
       "892  2023-06-26           12:49  final_pay_btn                       NaN   \n",
       "910  2023-06-26           12:49  final_pay_btn                       NaN   \n",
       "945  2023-06-26           12:49       Pay Mine                       NaN   \n",
       "947  2023-06-26           12:49  final_pay_btn                       NaN   \n",
       "1094 2023-06-26           12:49       Pay Mine                       NaN   \n",
       "1095 2023-06-26           12:49  final_pay_btn                       NaN   \n",
       "1121 2023-06-26           12:49       Pay Mine                       NaN   \n",
       "1124 2023-06-26           12:49  final_pay_btn                       NaN   \n",
       "1133 2023-06-26           12:49       Pay Mine                       NaN   \n",
       "1161 2023-06-26           12:49       Pay Mine                       NaN   \n",
       "1162 2023-06-26           12:49  final_pay_btn                       NaN   \n",
       "1185 2023-06-26           12:49       Pay Mine                       NaN   \n",
       "1187 2023-06-26           12:49  final_pay_btn                       NaN   \n",
       "1195 2023-06-26           12:49       Pay Mine                       NaN   \n",
       "1197 2023-06-26           12:49  final_pay_btn                       NaN   \n",
       "1266 2023-06-26           12:49       Pay Mine                       NaN   \n",
       "1267 2023-06-26           12:49  final_pay_btn                       NaN   \n",
       "\n",
       "      event_value_in_usd  event_bundle_sequence_id  \\\n",
       "44                   NaN                -298342540   \n",
       "127                  NaN               -1189136821   \n",
       "129                  NaN               -1179388561   \n",
       "251                  NaN                -224300855   \n",
       "252                  NaN                -200464787   \n",
       "439                  NaN                 981437846   \n",
       "440                  NaN                 984663433   \n",
       "512                  NaN                 777835465   \n",
       "623                  NaN                 761692245   \n",
       "624                  NaN                 770232054   \n",
       "625                  NaN                 786922789   \n",
       "626                  NaN                 786922789   \n",
       "629                  NaN                 811952677   \n",
       "639                  NaN                1950923850   \n",
       "640                  NaN                1957358420   \n",
       "641                  NaN                1962809793   \n",
       "642                  NaN                1965913049   \n",
       "649                  NaN                2055395741   \n",
       "677                  NaN                1953728342   \n",
       "678                  NaN                1953728342   \n",
       "679                  NaN                1975561981   \n",
       "680                  NaN                1975561981   \n",
       "681                  NaN                1975561981   \n",
       "682                  NaN                2054540079   \n",
       "765                  NaN                 755884340   \n",
       "776                  NaN                 814795247   \n",
       "779                  NaN               -1142570752   \n",
       "810                  NaN                1965628584   \n",
       "812                  NaN                1971940659   \n",
       "826                  NaN                2036797159   \n",
       "832                  NaN                2047314098   \n",
       "848                  NaN                1408556372   \n",
       "864                  NaN                1802870952   \n",
       "867                  NaN                1810628813   \n",
       "874                  NaN                 326701021   \n",
       "889                  NaN                1873544558   \n",
       "892                  NaN                1883039357   \n",
       "910                  NaN                1325275901   \n",
       "945                  NaN                 -37168786   \n",
       "947                  NaN                 -30327972   \n",
       "1094                 NaN               -2055983951   \n",
       "1095                 NaN               -2049261146   \n",
       "1121                 NaN                1690205887   \n",
       "1124                 NaN                1695315991   \n",
       "1133                 NaN                1846414190   \n",
       "1161                 NaN                1512187738   \n",
       "1162                 NaN                1517275105   \n",
       "1185                 NaN                1781920080   \n",
       "1187                 NaN                1790084826   \n",
       "1195                 NaN                1968449368   \n",
       "1197                 NaN                1975600987   \n",
       "1266                 NaN               -1879018759   \n",
       "1267                 NaN               -1872518495   \n",
       "\n",
       "      event_server_timestamp_offset user_id  user_pseudo_id  \\\n",
       "44                              NaN     NaN    1.942013e+09   \n",
       "127                             NaN     NaN    1.117981e+09   \n",
       "129                             NaN     NaN    1.117981e+09   \n",
       "251                             NaN     NaN    4.794473e+08   \n",
       "252                             NaN     NaN    4.794473e+08   \n",
       "439                             NaN     NaN    9.268176e+08   \n",
       "440                             NaN     NaN    9.268176e+08   \n",
       "512                             NaN     NaN    8.314175e+08   \n",
       "623                             NaN     NaN    1.733623e+08   \n",
       "624                             NaN     NaN    1.733623e+08   \n",
       "625                             NaN     NaN    1.733623e+08   \n",
       "626                             NaN     NaN    1.733623e+08   \n",
       "629                             NaN     NaN    1.733623e+08   \n",
       "639                             NaN     NaN    1.733623e+08   \n",
       "640                             NaN     NaN    1.733623e+08   \n",
       "641                             NaN     NaN    1.733623e+08   \n",
       "642                             NaN     NaN    1.733623e+08   \n",
       "649                             NaN     NaN    1.733623e+08   \n",
       "677                             NaN     NaN    1.192256e+09   \n",
       "678                             NaN     NaN    1.192256e+09   \n",
       "679                             NaN     NaN    1.192256e+09   \n",
       "680                             NaN     NaN    1.192256e+09   \n",
       "681                             NaN     NaN    1.192256e+09   \n",
       "682                             NaN     NaN    1.192256e+09   \n",
       "765                             NaN     NaN    1.922823e+09   \n",
       "776                             NaN     NaN    1.533953e+09   \n",
       "779                             NaN     NaN    1.533953e+09   \n",
       "810                             NaN     NaN    1.019951e+09   \n",
       "812                             NaN     NaN    1.019951e+09   \n",
       "826                             NaN     NaN    2.258223e+08   \n",
       "832                             NaN     NaN    2.258223e+08   \n",
       "848                             NaN     NaN    1.727100e+09   \n",
       "864                             NaN     NaN    1.875994e+09   \n",
       "867                             NaN     NaN    1.875994e+09   \n",
       "874                             NaN     NaN    1.875994e+09   \n",
       "889                             NaN     NaN    1.875994e+09   \n",
       "892                             NaN     NaN    1.875994e+09   \n",
       "910                             NaN     NaN    8.633164e+08   \n",
       "945                             NaN     NaN    8.633164e+08   \n",
       "947                             NaN     NaN    8.633164e+08   \n",
       "1094                            NaN     NaN    5.643166e+08   \n",
       "1095                            NaN     NaN    5.643166e+08   \n",
       "1121                            NaN     NaN    1.768318e+08   \n",
       "1124                            NaN     NaN    1.768318e+08   \n",
       "1133                            NaN     NaN    1.768318e+08   \n",
       "1161                            NaN     NaN    1.281749e+09   \n",
       "1162                            NaN     NaN    1.281749e+09   \n",
       "1185                            NaN     NaN    6.252510e+08   \n",
       "1187                            NaN     NaN    6.252510e+08   \n",
       "1195                            NaN     NaN    6.252510e+08   \n",
       "1197                            NaN     NaN    6.252510e+08   \n",
       "1266                            NaN     NaN    6.062367e+08   \n",
       "1267                            NaN     NaN    6.062367e+08   \n",
       "\n",
       "                                           privacy_info  ...  \\\n",
       "44    {'analytics_storage': None, 'ads_storage': Non...  ...   \n",
       "127   {'analytics_storage': None, 'ads_storage': Non...  ...   \n",
       "129   {'analytics_storage': None, 'ads_storage': Non...  ...   \n",
       "251   {'analytics_storage': None, 'ads_storage': Non...  ...   \n",
       "252   {'analytics_storage': None, 'ads_storage': Non...  ...   \n",
       "439   {'analytics_storage': None, 'ads_storage': Non...  ...   \n",
       "440   {'analytics_storage': None, 'ads_storage': Non...  ...   \n",
       "512   {'analytics_storage': None, 'ads_storage': Non...  ...   \n",
       "623   {'analytics_storage': None, 'ads_storage': Non...  ...   \n",
       "624   {'analytics_storage': None, 'ads_storage': Non...  ...   \n",
       "625   {'analytics_storage': None, 'ads_storage': Non...  ...   \n",
       "626   {'analytics_storage': None, 'ads_storage': Non...  ...   \n",
       "629   {'analytics_storage': None, 'ads_storage': Non...  ...   \n",
       "639   {'analytics_storage': None, 'ads_storage': Non...  ...   \n",
       "640   {'analytics_storage': None, 'ads_storage': Non...  ...   \n",
       "641   {'analytics_storage': None, 'ads_storage': Non...  ...   \n",
       "642   {'analytics_storage': None, 'ads_storage': Non...  ...   \n",
       "649   {'analytics_storage': None, 'ads_storage': Non...  ...   \n",
       "677   {'analytics_storage': None, 'ads_storage': Non...  ...   \n",
       "678   {'analytics_storage': None, 'ads_storage': Non...  ...   \n",
       "679   {'analytics_storage': None, 'ads_storage': Non...  ...   \n",
       "680   {'analytics_storage': None, 'ads_storage': Non...  ...   \n",
       "681   {'analytics_storage': None, 'ads_storage': Non...  ...   \n",
       "682   {'analytics_storage': None, 'ads_storage': Non...  ...   \n",
       "765   {'analytics_storage': None, 'ads_storage': Non...  ...   \n",
       "776   {'analytics_storage': None, 'ads_storage': Non...  ...   \n",
       "779   {'analytics_storage': None, 'ads_storage': Non...  ...   \n",
       "810   {'analytics_storage': None, 'ads_storage': Non...  ...   \n",
       "812   {'analytics_storage': None, 'ads_storage': Non...  ...   \n",
       "826   {'analytics_storage': None, 'ads_storage': Non...  ...   \n",
       "832   {'analytics_storage': None, 'ads_storage': Non...  ...   \n",
       "848   {'analytics_storage': None, 'ads_storage': Non...  ...   \n",
       "864   {'analytics_storage': None, 'ads_storage': Non...  ...   \n",
       "867   {'analytics_storage': None, 'ads_storage': Non...  ...   \n",
       "874   {'analytics_storage': None, 'ads_storage': Non...  ...   \n",
       "889   {'analytics_storage': None, 'ads_storage': Non...  ...   \n",
       "892   {'analytics_storage': None, 'ads_storage': Non...  ...   \n",
       "910   {'analytics_storage': None, 'ads_storage': Non...  ...   \n",
       "945   {'analytics_storage': None, 'ads_storage': Non...  ...   \n",
       "947   {'analytics_storage': None, 'ads_storage': Non...  ...   \n",
       "1094  {'analytics_storage': None, 'ads_storage': Non...  ...   \n",
       "1095  {'analytics_storage': None, 'ads_storage': Non...  ...   \n",
       "1121  {'analytics_storage': None, 'ads_storage': Non...  ...   \n",
       "1124  {'analytics_storage': None, 'ads_storage': Non...  ...   \n",
       "1133  {'analytics_storage': None, 'ads_storage': Non...  ...   \n",
       "1161  {'analytics_storage': None, 'ads_storage': Non...  ...   \n",
       "1162  {'analytics_storage': None, 'ads_storage': Non...  ...   \n",
       "1185  {'analytics_storage': None, 'ads_storage': Non...  ...   \n",
       "1187  {'analytics_storage': None, 'ads_storage': Non...  ...   \n",
       "1195  {'analytics_storage': None, 'ads_storage': Non...  ...   \n",
       "1197  {'analytics_storage': None, 'ads_storage': Non...  ...   \n",
       "1266  {'analytics_storage': None, 'ads_storage': Non...  ...   \n",
       "1267  {'analytics_storage': None, 'ads_storage': Non...  ...   \n",
       "\n",
       "                                                      5  \\\n",
       "44    {'key': 'session_engaged', 'value.string_value...   \n",
       "127   {'key': 'ga_session_id', 'value.string_value':...   \n",
       "129   {'key': 'engagement_time_msec', 'value.string_...   \n",
       "251   {'key': 'page_location', 'value.string_value':...   \n",
       "252   {'key': 'session_engaged', 'value.string_value...   \n",
       "439   {'key': 'medium', 'value.string_value': 'refer...   \n",
       "440   {'key': 'page_referrer', 'value.string_value':...   \n",
       "512   {'key': 'ga_session_id', 'value.string_value':...   \n",
       "623   {'key': 'page_location', 'value.string_value':...   \n",
       "624   {'key': 'page_referrer', 'value.string_value':...   \n",
       "625   {'key': 'session_engaged', 'value.string_value...   \n",
       "626   {'key': 'ga_session_id', 'value.string_value':...   \n",
       "629   {'key': 'ga_session_id', 'value.string_value':...   \n",
       "639   {'key': 'engagement_time_msec', 'value.string_...   \n",
       "640   {'key': 'engaged_session_event', 'value.string...   \n",
       "641   {'key': 'page_location', 'value.string_value':...   \n",
       "642   {'key': 'session_engaged', 'value.string_value...   \n",
       "649   {'key': 'options', 'value.string_value': 'pay_...   \n",
       "677   {'key': 'options', 'value.string_value': 'pay_...   \n",
       "678   {'key': 'engaged_session_event', 'value.string...   \n",
       "679   {'key': 'page_referrer', 'value.string_value':...   \n",
       "680   {'key': 'session_engaged', 'value.string_value...   \n",
       "681   {'key': 'ignore_referrer', 'value.string_value...   \n",
       "682   {'key': 'ga_session_id', 'value.string_value':...   \n",
       "765   {'key': 'options', 'value.string_value': 'pay_...   \n",
       "776   {'key': 'options', 'value.string_value': 'pay_...   \n",
       "779   {'key': 'page_location', 'value.string_value':...   \n",
       "810   {'key': 'page_title', 'value.string_value': 'O...   \n",
       "812   {'key': 'page_referrer', 'value.string_value':...   \n",
       "826   {'key': 'engagement_time_msec', 'value.string_...   \n",
       "832   {'key': 'ga_session_number', 'value.string_val...   \n",
       "848   {'key': 'ga_session_number', 'value.string_val...   \n",
       "864   {'key': 'session_engaged', 'value.string_value...   \n",
       "867   {'key': 'page_location', 'value.string_value':...   \n",
       "874   {'key': 'session_engaged', 'value.string_value...   \n",
       "889   {'key': 'session_engaged', 'value.string_value...   \n",
       "892   {'key': 'ignore_referrer', 'value.string_value...   \n",
       "910   {'key': 'page_location', 'value.string_value':...   \n",
       "945   {'key': 'ignore_referrer', 'value.string_value...   \n",
       "947   {'key': 'page_location', 'value.string_value':...   \n",
       "1094  {'key': 'engagement_time_msec', 'value.string_...   \n",
       "1095  {'key': 'ignore_referrer', 'value.string_value...   \n",
       "1121  {'key': 'page_title', 'value.string_value': 'O...   \n",
       "1124  {'key': 'ga_session_id', 'value.string_value':...   \n",
       "1133  {'key': 'session_engaged', 'value.string_value...   \n",
       "1161  {'key': 'options', 'value.string_value': 'pay_...   \n",
       "1162  {'key': 'ga_session_id', 'value.string_value':...   \n",
       "1185  {'key': 'page_location', 'value.string_value':...   \n",
       "1187  {'key': 'page_location', 'value.string_value':...   \n",
       "1195  {'key': 'ga_session_number', 'value.string_val...   \n",
       "1197  {'key': 'engagement_time_msec', 'value.string_...   \n",
       "1266  {'key': 'page_title', 'value.string_value': 'O...   \n",
       "1267  {'key': 'page_referrer', 'value.string_value':...   \n",
       "\n",
       "                                                      6  \\\n",
       "44    {'key': 'ga_session_id', 'value.string_value':...   \n",
       "127   {'key': 'ignore_referrer', 'value.string_value...   \n",
       "129   {'key': 'ignore_referrer', 'value.string_value...   \n",
       "251   {'key': 'ignore_referrer', 'value.string_value...   \n",
       "252   {'key': 'ga_session_id', 'value.string_value':...   \n",
       "439   {'key': 'engagement_time_msec', 'value.string_...   \n",
       "440   {'key': 'page_title', 'value.string_value': 'O...   \n",
       "512   {'key': 'session_engaged', 'value.string_value...   \n",
       "623   {'key': 'ga_session_number', 'value.string_val...   \n",
       "624   {'key': 'page_location', 'value.string_value':...   \n",
       "625   {'key': 'ga_session_number', 'value.string_val...   \n",
       "626   {'key': 'session_engaged', 'value.string_value...   \n",
       "629   {'key': 'engaged_session_event', 'value.string...   \n",
       "639   {'key': 'page_title', 'value.string_value': 'O...   \n",
       "640   {'key': 'page_location', 'value.string_value':...   \n",
       "641   {'key': 'page_referrer', 'value.string_value':...   \n",
       "642   {'key': 'page_referrer', 'value.string_value':...   \n",
       "649   {'key': 'engaged_session_event', 'value.string...   \n",
       "677   {'key': 'page_location', 'value.string_value':...   \n",
       "678   {'key': 'ignore_referrer', 'value.string_value...   \n",
       "679   {'key': 'ga_session_number', 'value.string_val...   \n",
       "680   {'key': 'page_title', 'value.string_value': 'O...   \n",
       "681   {'key': 'engagement_time_msec', 'value.string_...   \n",
       "682   {'key': 'ga_session_number', 'value.string_val...   \n",
       "765   {'key': 'page_title', 'value.string_value': 'O...   \n",
       "776   {'key': 'ignore_referrer', 'value.string_value...   \n",
       "779   {'key': 'ga_session_id', 'value.string_value':...   \n",
       "810   {'key': 'options', 'value.string_value': 'pay_...   \n",
       "812   {'key': 'ga_session_number', 'value.string_val...   \n",
       "826   {'key': 'page_title', 'value.string_value': 'O...   \n",
       "832   {'key': 'page_title', 'value.string_value': 'O...   \n",
       "848   {'key': 'page_location', 'value.string_value':...   \n",
       "864   {'key': 'page_referrer', 'value.string_value':...   \n",
       "867   {'key': 'session_engaged', 'value.string_value...   \n",
       "874   {'key': 'page_referrer', 'value.string_value':...   \n",
       "889   {'key': 'ga_session_number', 'value.string_val...   \n",
       "892   {'key': 'ga_session_id', 'value.string_value':...   \n",
       "910   {'key': 'ignore_referrer', 'value.string_value...   \n",
       "945   {'key': 'ga_session_number', 'value.string_val...   \n",
       "947   {'key': 'ga_session_id', 'value.string_value':...   \n",
       "1094  {'key': 'session_engaged', 'value.string_value...   \n",
       "1095  {'key': 'session_engaged', 'value.string_value...   \n",
       "1121  {'key': 'ignore_referrer', 'value.string_value...   \n",
       "1124  {'key': 'page_location', 'value.string_value':...   \n",
       "1133  {'key': 'options', 'value.string_value': 'pay_...   \n",
       "1161  {'key': 'ga_session_number', 'value.string_val...   \n",
       "1162  {'key': 'session_engaged', 'value.string_value...   \n",
       "1185  {'key': 'options', 'value.string_value': 'pay_...   \n",
       "1187  {'key': 'page_title', 'value.string_value': 'O...   \n",
       "1195  {'key': 'ignore_referrer', 'value.string_value...   \n",
       "1197  {'key': 'ga_session_id', 'value.string_value':...   \n",
       "1266  {'key': 'session_engaged', 'value.string_value...   \n",
       "1267  {'key': 'engagement_time_msec', 'value.string_...   \n",
       "\n",
       "                                                      7  \\\n",
       "44    {'key': 'ga_session_number', 'value.string_val...   \n",
       "127   {'key': 'page_title', 'value.string_value': 'O...   \n",
       "129   {'key': 'ga_session_id', 'value.string_value':...   \n",
       "251   {'key': 'page_referrer', 'value.string_value':...   \n",
       "252   {'key': 'page_location', 'value.string_value':...   \n",
       "439   {'key': 'campaign', 'value.string_value': '(re...   \n",
       "440   {'key': 'ga_session_number', 'value.string_val...   \n",
       "512   {'key': 'page_referrer', 'value.string_value':...   \n",
       "623   {'key': 'options', 'value.string_value': 'pay_...   \n",
       "624   {'key': 'ignore_referrer', 'value.string_value...   \n",
       "625   {'key': 'engagement_time_msec', 'value.string_...   \n",
       "626   {'key': 'page_location', 'value.string_value':...   \n",
       "629   {'key': 'engagement_time_msec', 'value.string_...   \n",
       "639   {'key': 'ga_session_id', 'value.string_value':...   \n",
       "640   {'key': 'ignore_referrer', 'value.string_value...   \n",
       "641   {'key': 'engagement_time_msec', 'value.string_...   \n",
       "642   {'key': 'page_location', 'value.string_value':...   \n",
       "649   {'key': 'session_engaged', 'value.string_value...   \n",
       "677   {'key': 'ga_session_number', 'value.string_val...   \n",
       "678   {'key': 'ga_session_number', 'value.string_val...   \n",
       "679   {'key': 'options', 'value.string_value': 'its_...   \n",
       "680   {'key': 'engaged_session_event', 'value.string...   \n",
       "681   {'key': 'page_referrer', 'value.string_value':...   \n",
       "682   {'key': 'session_engaged', 'value.string_value...   \n",
       "765   {'key': 'page_location', 'value.string_value':...   \n",
       "776   {'key': 'ga_session_number', 'value.string_val...   \n",
       "779                                                None   \n",
       "810   {'key': 'page_referrer', 'value.string_value':...   \n",
       "812   {'key': 'ignore_referrer', 'value.string_value...   \n",
       "826   {'key': 'page_referrer', 'value.string_value':...   \n",
       "832   {'key': 'page_location', 'value.string_value':...   \n",
       "848   {'key': 'ga_session_id', 'value.string_value':...   \n",
       "864   {'key': 'ignore_referrer', 'value.string_value...   \n",
       "867   {'key': 'page_referrer', 'value.string_value':...   \n",
       "874   {'key': 'ignore_referrer', 'value.string_value...   \n",
       "889   {'key': 'ga_session_id', 'value.string_value':...   \n",
       "892   {'key': 'page_referrer', 'value.string_value':...   \n",
       "910   {'key': 'session_engaged', 'value.string_value...   \n",
       "945   {'key': 'options', 'value.string_value': 'pay_...   \n",
       "947   {'key': 'session_engaged', 'value.string_value...   \n",
       "1094  {'key': 'page_title', 'value.string_value': 'O...   \n",
       "1095  {'key': 'page_referrer', 'value.string_value':...   \n",
       "1121  {'key': 'ga_session_number', 'value.string_val...   \n",
       "1124  {'key': 'page_referrer', 'value.string_value':...   \n",
       "1133  {'key': 'ga_session_id', 'value.string_value':...   \n",
       "1161  {'key': 'ignore_referrer', 'value.string_value...   \n",
       "1162  {'key': 'page_title', 'value.string_value': 'O...   \n",
       "1185  {'key': 'engagement_time_msec', 'value.string_...   \n",
       "1187  {'key': 'ga_session_number', 'value.string_val...   \n",
       "1195  {'key': 'options', 'value.string_value': 'pay_...   \n",
       "1197  {'key': 'session_engaged', 'value.string_value...   \n",
       "1266  {'key': 'options', 'value.string_value': 'pay_...   \n",
       "1267  {'key': 'page_location', 'value.string_value':...   \n",
       "\n",
       "                                                      8  \\\n",
       "44    {'key': 'page_title', 'value.string_value': 'O...   \n",
       "127   {'key': 'page_location', 'value.string_value':...   \n",
       "129                                                None   \n",
       "251   {'key': 'ga_session_id', 'value.string_value':...   \n",
       "252   {'key': 'page_referrer', 'value.string_value':...   \n",
       "439   {'key': 'ga_session_id', 'value.string_value':...   \n",
       "440                                                None   \n",
       "512   {'key': 'options', 'value.string_value': 'spli...   \n",
       "623   {'key': 'page_referrer', 'value.string_value':...   \n",
       "624   {'key': 'session_engaged', 'value.string_value...   \n",
       "625   {'key': 'page_location', 'value.string_value':...   \n",
       "626   {'key': 'engagement_time_msec', 'value.string_...   \n",
       "629   {'key': 'session_engaged', 'value.string_value...   \n",
       "639   {'key': 'ga_session_number', 'value.string_val...   \n",
       "640   {'key': 'options', 'value.string_value': 'spli...   \n",
       "641   {'key': 'options', 'value.string_value': 'its_...   \n",
       "642   {'key': 'page_title', 'value.string_value': 'O...   \n",
       "649   {'key': 'page_referrer', 'value.string_value':...   \n",
       "677   {'key': 'page_title', 'value.string_value': 'O...   \n",
       "678   {'key': 'page_referrer', 'value.string_value':...   \n",
       "679   {'key': 'engaged_session_event', 'value.string...   \n",
       "680   {'key': 'ignore_referrer', 'value.string_value...   \n",
       "681   {'key': 'page_title', 'value.string_value': 'O...   \n",
       "682   {'key': 'ignore_referrer', 'value.string_value...   \n",
       "765   {'key': 'session_engaged', 'value.string_value...   \n",
       "776   {'key': 'engagement_time_msec', 'value.string_...   \n",
       "779                                                None   \n",
       "810   {'key': 'session_engaged', 'value.string_value...   \n",
       "812   {'key': 'page_location', 'value.string_value':...   \n",
       "826   {'key': 'session_engaged', 'value.string_value...   \n",
       "832                                                None   \n",
       "848   {'key': 'engagement_time_msec', 'value.string_...   \n",
       "864   {'key': 'engaged_session_event', 'value.string...   \n",
       "867   {'key': 'ignore_referrer', 'value.string_value...   \n",
       "874   {'key': 'ga_session_number', 'value.string_val...   \n",
       "889   {'key': 'ignore_referrer', 'value.string_value...   \n",
       "892                                                None   \n",
       "910                                                None   \n",
       "945   {'key': 'engagement_time_msec', 'value.string_...   \n",
       "947                                                None   \n",
       "1094  {'key': 'page_referrer', 'value.string_value':...   \n",
       "1095  {'key': 'ga_session_number', 'value.string_val...   \n",
       "1121  {'key': 'engagement_time_msec', 'value.string_...   \n",
       "1124                                               None   \n",
       "1133  {'key': 'ga_session_number', 'value.string_val...   \n",
       "1161  {'key': 'page_location', 'value.string_value':...   \n",
       "1162                                               None   \n",
       "1185  {'key': 'page_title', 'value.string_value': 'O...   \n",
       "1187                                               None   \n",
       "1195  {'key': 'page_title', 'value.string_value': 'O...   \n",
       "1197                                               None   \n",
       "1266  {'key': 'ga_session_number', 'value.string_val...   \n",
       "1267                                               None   \n",
       "\n",
       "                                                      9  \\\n",
       "44                                                 None   \n",
       "127                                                None   \n",
       "129                                                None   \n",
       "251                                                None   \n",
       "252                                                None   \n",
       "439   {'key': 'options', 'value.string_value': 'pay_...   \n",
       "440                                                None   \n",
       "512   {'key': 'page_title', 'value.string_value': 'O...   \n",
       "623   {'key': 'session_engaged', 'value.string_value...   \n",
       "624   {'key': 'ga_session_number', 'value.string_val...   \n",
       "625   {'key': 'options', 'value.string_value': 'its_...   \n",
       "626   {'key': 'options', 'value.string_value': 'spli...   \n",
       "629                                                None   \n",
       "639   {'key': 'session_engaged', 'value.string_value...   \n",
       "640   {'key': 'page_title', 'value.string_value': 'O...   \n",
       "641   {'key': 'session_engaged', 'value.string_value...   \n",
       "642                                                None   \n",
       "649   {'key': 'page_title', 'value.string_value': 'O...   \n",
       "677   {'key': 'ignore_referrer', 'value.string_value...   \n",
       "678   {'key': 'engagement_time_msec', 'value.string_...   \n",
       "679   {'key': 'ignore_referrer', 'value.string_value...   \n",
       "680   {'key': 'ga_session_id', 'value.string_value':...   \n",
       "681   {'key': 'ga_session_number', 'value.string_val...   \n",
       "682   {'key': 'engaged_session_event', 'value.string...   \n",
       "765                                                None   \n",
       "776                                                None   \n",
       "779                                                None   \n",
       "810   {'key': 'ga_session_id', 'value.string_value':...   \n",
       "812                                                None   \n",
       "826                                                None   \n",
       "832                                                None   \n",
       "848                                                None   \n",
       "864   {'key': 'ga_session_id', 'value.string_value':...   \n",
       "867                                                None   \n",
       "874                                                None   \n",
       "889                                                None   \n",
       "892                                                None   \n",
       "910                                                None   \n",
       "945                                                None   \n",
       "947                                                None   \n",
       "1094  {'key': 'page_location', 'value.string_value':...   \n",
       "1095                                               None   \n",
       "1121                                               None   \n",
       "1124                                               None   \n",
       "1133                                               None   \n",
       "1161                                               None   \n",
       "1162                                               None   \n",
       "1185                                               None   \n",
       "1187                                               None   \n",
       "1195                                               None   \n",
       "1197                                               None   \n",
       "1266                                               None   \n",
       "1267                                               None   \n",
       "\n",
       "                                                     10    11    12    13  \\\n",
       "44                                                 None  None  None  None   \n",
       "127                                                None  None  None  None   \n",
       "129                                                None  None  None  None   \n",
       "251                                                None  None  None  None   \n",
       "252                                                None  None  None  None   \n",
       "439   {'key': 'source', 'value.string_value': 'accou...  None  None  None   \n",
       "440                                                None  None  None  None   \n",
       "512                                                None  None  None  None   \n",
       "623                                                None  None  None  None   \n",
       "624                                                None  None  None  None   \n",
       "625                                                None  None  None  None   \n",
       "626                                                None  None  None  None   \n",
       "629                                                None  None  None  None   \n",
       "639                                                None  None  None  None   \n",
       "640                                                None  None  None  None   \n",
       "641                                                None  None  None  None   \n",
       "642                                                None  None  None  None   \n",
       "649                                                None  None  None  None   \n",
       "677                                                None  None  None  None   \n",
       "678                                                None  None  None  None   \n",
       "679                                                None  None  None  None   \n",
       "680                                                None  None  None  None   \n",
       "681                                                None  None  None  None   \n",
       "682                                                None  None  None  None   \n",
       "765                                                None  None  None  None   \n",
       "776                                                None  None  None  None   \n",
       "779                                                None  None  None  None   \n",
       "810                                                None  None  None  None   \n",
       "812                                                None  None  None  None   \n",
       "826                                                None  None  None  None   \n",
       "832                                                None  None  None  None   \n",
       "848                                                None  None  None  None   \n",
       "864                                                None  None  None  None   \n",
       "867                                                None  None  None  None   \n",
       "874                                                None  None  None  None   \n",
       "889                                                None  None  None  None   \n",
       "892                                                None  None  None  None   \n",
       "910                                                None  None  None  None   \n",
       "945                                                None  None  None  None   \n",
       "947                                                None  None  None  None   \n",
       "1094                                               None  None  None  None   \n",
       "1095                                               None  None  None  None   \n",
       "1121                                               None  None  None  None   \n",
       "1124                                               None  None  None  None   \n",
       "1133                                               None  None  None  None   \n",
       "1161                                               None  None  None  None   \n",
       "1162                                               None  None  None  None   \n",
       "1185                                               None  None  None  None   \n",
       "1187                                               None  None  None  None   \n",
       "1195                                               None  None  None  None   \n",
       "1197                                               None  None  None  None   \n",
       "1266                                               None  None  None  None   \n",
       "1267                                               None  None  None  None   \n",
       "\n",
       "        14  \n",
       "44    None  \n",
       "127   None  \n",
       "129   None  \n",
       "251   None  \n",
       "252   None  \n",
       "439   None  \n",
       "440   None  \n",
       "512   None  \n",
       "623   None  \n",
       "624   None  \n",
       "625   None  \n",
       "626   None  \n",
       "629   None  \n",
       "639   None  \n",
       "640   None  \n",
       "641   None  \n",
       "642   None  \n",
       "649   None  \n",
       "677   None  \n",
       "678   None  \n",
       "679   None  \n",
       "680   None  \n",
       "681   None  \n",
       "682   None  \n",
       "765   None  \n",
       "776   None  \n",
       "779   None  \n",
       "810   None  \n",
       "812   None  \n",
       "826   None  \n",
       "832   None  \n",
       "848   None  \n",
       "864   None  \n",
       "867   None  \n",
       "874   None  \n",
       "889   None  \n",
       "892   None  \n",
       "910   None  \n",
       "945   None  \n",
       "947   None  \n",
       "1094  None  \n",
       "1095  None  \n",
       "1121  None  \n",
       "1124  None  \n",
       "1133  None  \n",
       "1161  None  \n",
       "1162  None  \n",
       "1185  None  \n",
       "1187  None  \n",
       "1195  None  \n",
       "1197  None  \n",
       "1266  None  \n",
       "1267  None  \n",
       "\n",
       "[53 rows x 62 columns]"
      ]
     },
     "execution_count": 373,
     "metadata": {},
     "output_type": "execute_result"
    }
   ],
   "source": [
    "checkout_df"
   ]
  },
  {
   "cell_type": "code",
   "execution_count": 374,
   "id": "eae387e9-bd57-4410-9cf9-b76b6e2533ea",
   "metadata": {
    "scrolled": true
   },
   "outputs": [
    {
     "name": "stdout",
     "output_type": "stream",
     "text": [
      "Percentage of checkout = 2.65\n"
     ]
    }
   ],
   "source": [
    "checkout = checkout_df.shape[0] ## a total number of ___ made it to the final check out\n",
    "nocheckOut = overall_df.shape[0] - checkout\n",
    "\n",
    "percentageChurn = checkout/overall_df.shape[0]\n",
    "print(f\"Percentage of checkout = {percentageChurn * 100}\")"
   ]
  },
  {
   "cell_type": "markdown",
   "id": "32fe85f7-c998-4669-b8f8-31dd0693f28d",
   "metadata": {},
   "source": [
    "### Funnel Analysis General"
   ]
  },
  {
   "cell_type": "code",
   "execution_count": 375,
   "id": "ea9e81bb-a877-4f2b-b181-5dc5b1c4ba90",
   "metadata": {},
   "outputs": [],
   "source": [
    "funnel_steps = pd.get_dummies(df['event_name'], prefix='Step')"
   ]
  },
  {
   "cell_type": "code",
   "execution_count": 376,
   "id": "6c8b7059-cd61-408b-828a-eb8b053dce2f",
   "metadata": {},
   "outputs": [
    {
     "data": {
      "text/html": [
       "<div>\n",
       "<style scoped>\n",
       "    .dataframe tbody tr th:only-of-type {\n",
       "        vertical-align: middle;\n",
       "    }\n",
       "\n",
       "    .dataframe tbody tr th {\n",
       "        vertical-align: top;\n",
       "    }\n",
       "\n",
       "    .dataframe thead th {\n",
       "        text-align: right;\n",
       "    }\n",
       "</style>\n",
       "<table border=\"1\" class=\"dataframe\">\n",
       "  <thead>\n",
       "    <tr style=\"text-align: right;\">\n",
       "      <th></th>\n",
       "      <th>Step_Category</th>\n",
       "      <th>Step_Click</th>\n",
       "      <th>Step_Event_menu</th>\n",
       "      <th>Step_Login_btn</th>\n",
       "      <th>Step_Menu_card</th>\n",
       "      <th>Step_Pay All</th>\n",
       "      <th>Step_Pay Mine</th>\n",
       "      <th>Step_Split evenly</th>\n",
       "      <th>Step_add_menu</th>\n",
       "      <th>Step_final_pay_btn</th>\n",
       "      <th>Step_first_visit</th>\n",
       "      <th>Step_page_view</th>\n",
       "      <th>Step_quick_add_menu</th>\n",
       "      <th>Step_react-modal-sheet-backdrop</th>\n",
       "      <th>Step_scroll</th>\n",
       "      <th>Step_session_start</th>\n",
       "      <th>Step_tab_chg_amt</th>\n",
       "      <th>Step_user_engagement</th>\n",
       "    </tr>\n",
       "  </thead>\n",
       "  <tbody>\n",
       "    <tr>\n",
       "      <th>0</th>\n",
       "      <td>False</td>\n",
       "      <td>False</td>\n",
       "      <td>False</td>\n",
       "      <td>False</td>\n",
       "      <td>False</td>\n",
       "      <td>False</td>\n",
       "      <td>False</td>\n",
       "      <td>False</td>\n",
       "      <td>False</td>\n",
       "      <td>False</td>\n",
       "      <td>True</td>\n",
       "      <td>False</td>\n",
       "      <td>False</td>\n",
       "      <td>False</td>\n",
       "      <td>False</td>\n",
       "      <td>False</td>\n",
       "      <td>False</td>\n",
       "      <td>False</td>\n",
       "    </tr>\n",
       "    <tr>\n",
       "      <th>1</th>\n",
       "      <td>False</td>\n",
       "      <td>False</td>\n",
       "      <td>False</td>\n",
       "      <td>False</td>\n",
       "      <td>False</td>\n",
       "      <td>False</td>\n",
       "      <td>False</td>\n",
       "      <td>False</td>\n",
       "      <td>False</td>\n",
       "      <td>False</td>\n",
       "      <td>False</td>\n",
       "      <td>False</td>\n",
       "      <td>False</td>\n",
       "      <td>False</td>\n",
       "      <td>False</td>\n",
       "      <td>True</td>\n",
       "      <td>False</td>\n",
       "      <td>False</td>\n",
       "    </tr>\n",
       "    <tr>\n",
       "      <th>2</th>\n",
       "      <td>False</td>\n",
       "      <td>False</td>\n",
       "      <td>False</td>\n",
       "      <td>False</td>\n",
       "      <td>False</td>\n",
       "      <td>False</td>\n",
       "      <td>False</td>\n",
       "      <td>False</td>\n",
       "      <td>False</td>\n",
       "      <td>False</td>\n",
       "      <td>False</td>\n",
       "      <td>True</td>\n",
       "      <td>False</td>\n",
       "      <td>False</td>\n",
       "      <td>False</td>\n",
       "      <td>False</td>\n",
       "      <td>False</td>\n",
       "      <td>False</td>\n",
       "    </tr>\n",
       "    <tr>\n",
       "      <th>3</th>\n",
       "      <td>False</td>\n",
       "      <td>False</td>\n",
       "      <td>False</td>\n",
       "      <td>False</td>\n",
       "      <td>False</td>\n",
       "      <td>False</td>\n",
       "      <td>False</td>\n",
       "      <td>False</td>\n",
       "      <td>False</td>\n",
       "      <td>False</td>\n",
       "      <td>False</td>\n",
       "      <td>False</td>\n",
       "      <td>False</td>\n",
       "      <td>False</td>\n",
       "      <td>True</td>\n",
       "      <td>False</td>\n",
       "      <td>False</td>\n",
       "      <td>False</td>\n",
       "    </tr>\n",
       "    <tr>\n",
       "      <th>4</th>\n",
       "      <td>False</td>\n",
       "      <td>False</td>\n",
       "      <td>False</td>\n",
       "      <td>False</td>\n",
       "      <td>True</td>\n",
       "      <td>False</td>\n",
       "      <td>False</td>\n",
       "      <td>False</td>\n",
       "      <td>False</td>\n",
       "      <td>False</td>\n",
       "      <td>False</td>\n",
       "      <td>False</td>\n",
       "      <td>False</td>\n",
       "      <td>False</td>\n",
       "      <td>False</td>\n",
       "      <td>False</td>\n",
       "      <td>False</td>\n",
       "      <td>False</td>\n",
       "    </tr>\n",
       "    <tr>\n",
       "      <th>...</th>\n",
       "      <td>...</td>\n",
       "      <td>...</td>\n",
       "      <td>...</td>\n",
       "      <td>...</td>\n",
       "      <td>...</td>\n",
       "      <td>...</td>\n",
       "      <td>...</td>\n",
       "      <td>...</td>\n",
       "      <td>...</td>\n",
       "      <td>...</td>\n",
       "      <td>...</td>\n",
       "      <td>...</td>\n",
       "      <td>...</td>\n",
       "      <td>...</td>\n",
       "      <td>...</td>\n",
       "      <td>...</td>\n",
       "      <td>...</td>\n",
       "      <td>...</td>\n",
       "    </tr>\n",
       "    <tr>\n",
       "      <th>1995</th>\n",
       "      <td>False</td>\n",
       "      <td>False</td>\n",
       "      <td>False</td>\n",
       "      <td>False</td>\n",
       "      <td>False</td>\n",
       "      <td>False</td>\n",
       "      <td>False</td>\n",
       "      <td>False</td>\n",
       "      <td>False</td>\n",
       "      <td>False</td>\n",
       "      <td>False</td>\n",
       "      <td>True</td>\n",
       "      <td>False</td>\n",
       "      <td>False</td>\n",
       "      <td>False</td>\n",
       "      <td>False</td>\n",
       "      <td>False</td>\n",
       "      <td>False</td>\n",
       "    </tr>\n",
       "    <tr>\n",
       "      <th>1996</th>\n",
       "      <td>False</td>\n",
       "      <td>True</td>\n",
       "      <td>False</td>\n",
       "      <td>False</td>\n",
       "      <td>False</td>\n",
       "      <td>False</td>\n",
       "      <td>False</td>\n",
       "      <td>False</td>\n",
       "      <td>False</td>\n",
       "      <td>False</td>\n",
       "      <td>False</td>\n",
       "      <td>False</td>\n",
       "      <td>False</td>\n",
       "      <td>False</td>\n",
       "      <td>False</td>\n",
       "      <td>False</td>\n",
       "      <td>False</td>\n",
       "      <td>False</td>\n",
       "    </tr>\n",
       "    <tr>\n",
       "      <th>1997</th>\n",
       "      <td>False</td>\n",
       "      <td>False</td>\n",
       "      <td>False</td>\n",
       "      <td>False</td>\n",
       "      <td>False</td>\n",
       "      <td>False</td>\n",
       "      <td>False</td>\n",
       "      <td>False</td>\n",
       "      <td>False</td>\n",
       "      <td>False</td>\n",
       "      <td>False</td>\n",
       "      <td>True</td>\n",
       "      <td>False</td>\n",
       "      <td>False</td>\n",
       "      <td>False</td>\n",
       "      <td>False</td>\n",
       "      <td>False</td>\n",
       "      <td>False</td>\n",
       "    </tr>\n",
       "    <tr>\n",
       "      <th>1998</th>\n",
       "      <td>False</td>\n",
       "      <td>True</td>\n",
       "      <td>False</td>\n",
       "      <td>False</td>\n",
       "      <td>False</td>\n",
       "      <td>False</td>\n",
       "      <td>False</td>\n",
       "      <td>False</td>\n",
       "      <td>False</td>\n",
       "      <td>False</td>\n",
       "      <td>False</td>\n",
       "      <td>False</td>\n",
       "      <td>False</td>\n",
       "      <td>False</td>\n",
       "      <td>False</td>\n",
       "      <td>False</td>\n",
       "      <td>False</td>\n",
       "      <td>False</td>\n",
       "    </tr>\n",
       "    <tr>\n",
       "      <th>1999</th>\n",
       "      <td>False</td>\n",
       "      <td>False</td>\n",
       "      <td>False</td>\n",
       "      <td>False</td>\n",
       "      <td>False</td>\n",
       "      <td>False</td>\n",
       "      <td>False</td>\n",
       "      <td>False</td>\n",
       "      <td>False</td>\n",
       "      <td>False</td>\n",
       "      <td>False</td>\n",
       "      <td>False</td>\n",
       "      <td>False</td>\n",
       "      <td>False</td>\n",
       "      <td>False</td>\n",
       "      <td>False</td>\n",
       "      <td>False</td>\n",
       "      <td>True</td>\n",
       "    </tr>\n",
       "  </tbody>\n",
       "</table>\n",
       "<p>2000 rows × 18 columns</p>\n",
       "</div>"
      ],
      "text/plain": [
       "      Step_Category  Step_Click  Step_Event_menu  Step_Login_btn  \\\n",
       "0             False       False            False           False   \n",
       "1             False       False            False           False   \n",
       "2             False       False            False           False   \n",
       "3             False       False            False           False   \n",
       "4             False       False            False           False   \n",
       "...             ...         ...              ...             ...   \n",
       "1995          False       False            False           False   \n",
       "1996          False        True            False           False   \n",
       "1997          False       False            False           False   \n",
       "1998          False        True            False           False   \n",
       "1999          False       False            False           False   \n",
       "\n",
       "      Step_Menu_card  Step_Pay All  Step_Pay Mine  Step_Split evenly  \\\n",
       "0              False         False          False              False   \n",
       "1              False         False          False              False   \n",
       "2              False         False          False              False   \n",
       "3              False         False          False              False   \n",
       "4               True         False          False              False   \n",
       "...              ...           ...            ...                ...   \n",
       "1995           False         False          False              False   \n",
       "1996           False         False          False              False   \n",
       "1997           False         False          False              False   \n",
       "1998           False         False          False              False   \n",
       "1999           False         False          False              False   \n",
       "\n",
       "      Step_add_menu  Step_final_pay_btn  Step_first_visit  Step_page_view  \\\n",
       "0             False               False              True           False   \n",
       "1             False               False             False           False   \n",
       "2             False               False             False            True   \n",
       "3             False               False             False           False   \n",
       "4             False               False             False           False   \n",
       "...             ...                 ...               ...             ...   \n",
       "1995          False               False             False            True   \n",
       "1996          False               False             False           False   \n",
       "1997          False               False             False            True   \n",
       "1998          False               False             False           False   \n",
       "1999          False               False             False           False   \n",
       "\n",
       "      Step_quick_add_menu  Step_react-modal-sheet-backdrop  Step_scroll  \\\n",
       "0                   False                            False        False   \n",
       "1                   False                            False        False   \n",
       "2                   False                            False        False   \n",
       "3                   False                            False         True   \n",
       "4                   False                            False        False   \n",
       "...                   ...                              ...          ...   \n",
       "1995                False                            False        False   \n",
       "1996                False                            False        False   \n",
       "1997                False                            False        False   \n",
       "1998                False                            False        False   \n",
       "1999                False                            False        False   \n",
       "\n",
       "      Step_session_start  Step_tab_chg_amt  Step_user_engagement  \n",
       "0                  False             False                 False  \n",
       "1                   True             False                 False  \n",
       "2                  False             False                 False  \n",
       "3                  False             False                 False  \n",
       "4                  False             False                 False  \n",
       "...                  ...               ...                   ...  \n",
       "1995               False             False                 False  \n",
       "1996               False             False                 False  \n",
       "1997               False             False                 False  \n",
       "1998               False             False                 False  \n",
       "1999               False             False                  True  \n",
       "\n",
       "[2000 rows x 18 columns]"
      ]
     },
     "execution_count": 376,
     "metadata": {},
     "output_type": "execute_result"
    }
   ],
   "source": [
    "funnel_steps"
   ]
  },
  {
   "cell_type": "code",
   "execution_count": 420,
   "id": "8c10c440-4113-4b97-8bb1-455970f0437e",
   "metadata": {},
   "outputs": [],
   "source": [
    "# Assuming funnel_steps is a Series or DataFrame column\n",
    "# Replace \"funnel_steps\" with your actual column name\n",
    "\n",
    "funnel_order = [] ## give me the order of your events\n",
    "\n",
    "# Count the occurrences of true values\n",
    "true_counts = funnel_steps.sum(axis=0)\n",
    "\n",
    "frequency_table = pd.DataFrame({'Counts': true_counts.values}, index=true_counts.index)"
   ]
  },
  {
   "cell_type": "code",
   "execution_count": 378,
   "id": "25f6b3e1-bf43-4935-b6d5-45d44856ba7d",
   "metadata": {},
   "outputs": [
    {
     "data": {
      "application/vnd.plotly.v1+json": {
       "config": {
        "plotlyServerURL": "https://plot.ly"
       },
       "data": [
        {
         "hovertemplate": "index=%{x}<br>Counts=%{y}<extra></extra>",
         "legendgroup": "",
         "marker": {
          "color": "#636efa"
         },
         "name": "",
         "orientation": "v",
         "showlegend": false,
         "type": "funnel",
         "x": [
          "Step_Category",
          "Step_Click",
          "Step_Event_menu",
          "Step_Login_btn",
          "Step_Menu_card",
          "Step_Pay All",
          "Step_Pay Mine",
          "Step_Split evenly",
          "Step_add_menu",
          "Step_final_pay_btn",
          "Step_first_visit",
          "Step_page_view",
          "Step_quick_add_menu",
          "Step_react-modal-sheet-backdrop",
          "Step_scroll",
          "Step_session_start",
          "Step_tab_chg_amt",
          "Step_user_engagement"
         ],
         "xaxis": "x",
         "y": [
          93,
          621,
          12,
          10,
          30,
          6,
          24,
          6,
          1,
          17,
          74,
          516,
          49,
          16,
          220,
          140,
          1,
          164
         ],
         "yaxis": "y"
        }
       ],
       "layout": {
        "autosize": true,
        "legend": {
         "tracegroupgap": 0
        },
        "margin": {
         "t": 60
        },
        "template": {
         "data": {
          "bar": [
           {
            "error_x": {
             "color": "#2a3f5f"
            },
            "error_y": {
             "color": "#2a3f5f"
            },
            "marker": {
             "line": {
              "color": "#E5ECF6",
              "width": 0.5
             },
             "pattern": {
              "fillmode": "overlay",
              "size": 10,
              "solidity": 0.2
             }
            },
            "type": "bar"
           }
          ],
          "barpolar": [
           {
            "marker": {
             "line": {
              "color": "#E5ECF6",
              "width": 0.5
             },
             "pattern": {
              "fillmode": "overlay",
              "size": 10,
              "solidity": 0.2
             }
            },
            "type": "barpolar"
           }
          ],
          "carpet": [
           {
            "aaxis": {
             "endlinecolor": "#2a3f5f",
             "gridcolor": "white",
             "linecolor": "white",
             "minorgridcolor": "white",
             "startlinecolor": "#2a3f5f"
            },
            "baxis": {
             "endlinecolor": "#2a3f5f",
             "gridcolor": "white",
             "linecolor": "white",
             "minorgridcolor": "white",
             "startlinecolor": "#2a3f5f"
            },
            "type": "carpet"
           }
          ],
          "choropleth": [
           {
            "colorbar": {
             "outlinewidth": 0,
             "ticks": ""
            },
            "type": "choropleth"
           }
          ],
          "contour": [
           {
            "colorbar": {
             "outlinewidth": 0,
             "ticks": ""
            },
            "colorscale": [
             [
              0,
              "#0d0887"
             ],
             [
              0.1111111111111111,
              "#46039f"
             ],
             [
              0.2222222222222222,
              "#7201a8"
             ],
             [
              0.3333333333333333,
              "#9c179e"
             ],
             [
              0.4444444444444444,
              "#bd3786"
             ],
             [
              0.5555555555555556,
              "#d8576b"
             ],
             [
              0.6666666666666666,
              "#ed7953"
             ],
             [
              0.7777777777777778,
              "#fb9f3a"
             ],
             [
              0.8888888888888888,
              "#fdca26"
             ],
             [
              1,
              "#f0f921"
             ]
            ],
            "type": "contour"
           }
          ],
          "contourcarpet": [
           {
            "colorbar": {
             "outlinewidth": 0,
             "ticks": ""
            },
            "type": "contourcarpet"
           }
          ],
          "heatmap": [
           {
            "colorbar": {
             "outlinewidth": 0,
             "ticks": ""
            },
            "colorscale": [
             [
              0,
              "#0d0887"
             ],
             [
              0.1111111111111111,
              "#46039f"
             ],
             [
              0.2222222222222222,
              "#7201a8"
             ],
             [
              0.3333333333333333,
              "#9c179e"
             ],
             [
              0.4444444444444444,
              "#bd3786"
             ],
             [
              0.5555555555555556,
              "#d8576b"
             ],
             [
              0.6666666666666666,
              "#ed7953"
             ],
             [
              0.7777777777777778,
              "#fb9f3a"
             ],
             [
              0.8888888888888888,
              "#fdca26"
             ],
             [
              1,
              "#f0f921"
             ]
            ],
            "type": "heatmap"
           }
          ],
          "heatmapgl": [
           {
            "colorbar": {
             "outlinewidth": 0,
             "ticks": ""
            },
            "colorscale": [
             [
              0,
              "#0d0887"
             ],
             [
              0.1111111111111111,
              "#46039f"
             ],
             [
              0.2222222222222222,
              "#7201a8"
             ],
             [
              0.3333333333333333,
              "#9c179e"
             ],
             [
              0.4444444444444444,
              "#bd3786"
             ],
             [
              0.5555555555555556,
              "#d8576b"
             ],
             [
              0.6666666666666666,
              "#ed7953"
             ],
             [
              0.7777777777777778,
              "#fb9f3a"
             ],
             [
              0.8888888888888888,
              "#fdca26"
             ],
             [
              1,
              "#f0f921"
             ]
            ],
            "type": "heatmapgl"
           }
          ],
          "histogram": [
           {
            "marker": {
             "pattern": {
              "fillmode": "overlay",
              "size": 10,
              "solidity": 0.2
             }
            },
            "type": "histogram"
           }
          ],
          "histogram2d": [
           {
            "colorbar": {
             "outlinewidth": 0,
             "ticks": ""
            },
            "colorscale": [
             [
              0,
              "#0d0887"
             ],
             [
              0.1111111111111111,
              "#46039f"
             ],
             [
              0.2222222222222222,
              "#7201a8"
             ],
             [
              0.3333333333333333,
              "#9c179e"
             ],
             [
              0.4444444444444444,
              "#bd3786"
             ],
             [
              0.5555555555555556,
              "#d8576b"
             ],
             [
              0.6666666666666666,
              "#ed7953"
             ],
             [
              0.7777777777777778,
              "#fb9f3a"
             ],
             [
              0.8888888888888888,
              "#fdca26"
             ],
             [
              1,
              "#f0f921"
             ]
            ],
            "type": "histogram2d"
           }
          ],
          "histogram2dcontour": [
           {
            "colorbar": {
             "outlinewidth": 0,
             "ticks": ""
            },
            "colorscale": [
             [
              0,
              "#0d0887"
             ],
             [
              0.1111111111111111,
              "#46039f"
             ],
             [
              0.2222222222222222,
              "#7201a8"
             ],
             [
              0.3333333333333333,
              "#9c179e"
             ],
             [
              0.4444444444444444,
              "#bd3786"
             ],
             [
              0.5555555555555556,
              "#d8576b"
             ],
             [
              0.6666666666666666,
              "#ed7953"
             ],
             [
              0.7777777777777778,
              "#fb9f3a"
             ],
             [
              0.8888888888888888,
              "#fdca26"
             ],
             [
              1,
              "#f0f921"
             ]
            ],
            "type": "histogram2dcontour"
           }
          ],
          "mesh3d": [
           {
            "colorbar": {
             "outlinewidth": 0,
             "ticks": ""
            },
            "type": "mesh3d"
           }
          ],
          "parcoords": [
           {
            "line": {
             "colorbar": {
              "outlinewidth": 0,
              "ticks": ""
             }
            },
            "type": "parcoords"
           }
          ],
          "pie": [
           {
            "automargin": true,
            "type": "pie"
           }
          ],
          "scatter": [
           {
            "fillpattern": {
             "fillmode": "overlay",
             "size": 10,
             "solidity": 0.2
            },
            "type": "scatter"
           }
          ],
          "scatter3d": [
           {
            "line": {
             "colorbar": {
              "outlinewidth": 0,
              "ticks": ""
             }
            },
            "marker": {
             "colorbar": {
              "outlinewidth": 0,
              "ticks": ""
             }
            },
            "type": "scatter3d"
           }
          ],
          "scattercarpet": [
           {
            "marker": {
             "colorbar": {
              "outlinewidth": 0,
              "ticks": ""
             }
            },
            "type": "scattercarpet"
           }
          ],
          "scattergeo": [
           {
            "marker": {
             "colorbar": {
              "outlinewidth": 0,
              "ticks": ""
             }
            },
            "type": "scattergeo"
           }
          ],
          "scattergl": [
           {
            "marker": {
             "colorbar": {
              "outlinewidth": 0,
              "ticks": ""
             }
            },
            "type": "scattergl"
           }
          ],
          "scattermapbox": [
           {
            "marker": {
             "colorbar": {
              "outlinewidth": 0,
              "ticks": ""
             }
            },
            "type": "scattermapbox"
           }
          ],
          "scatterpolar": [
           {
            "marker": {
             "colorbar": {
              "outlinewidth": 0,
              "ticks": ""
             }
            },
            "type": "scatterpolar"
           }
          ],
          "scatterpolargl": [
           {
            "marker": {
             "colorbar": {
              "outlinewidth": 0,
              "ticks": ""
             }
            },
            "type": "scatterpolargl"
           }
          ],
          "scatterternary": [
           {
            "marker": {
             "colorbar": {
              "outlinewidth": 0,
              "ticks": ""
             }
            },
            "type": "scatterternary"
           }
          ],
          "surface": [
           {
            "colorbar": {
             "outlinewidth": 0,
             "ticks": ""
            },
            "colorscale": [
             [
              0,
              "#0d0887"
             ],
             [
              0.1111111111111111,
              "#46039f"
             ],
             [
              0.2222222222222222,
              "#7201a8"
             ],
             [
              0.3333333333333333,
              "#9c179e"
             ],
             [
              0.4444444444444444,
              "#bd3786"
             ],
             [
              0.5555555555555556,
              "#d8576b"
             ],
             [
              0.6666666666666666,
              "#ed7953"
             ],
             [
              0.7777777777777778,
              "#fb9f3a"
             ],
             [
              0.8888888888888888,
              "#fdca26"
             ],
             [
              1,
              "#f0f921"
             ]
            ],
            "type": "surface"
           }
          ],
          "table": [
           {
            "cells": {
             "fill": {
              "color": "#EBF0F8"
             },
             "line": {
              "color": "white"
             }
            },
            "header": {
             "fill": {
              "color": "#C8D4E3"
             },
             "line": {
              "color": "white"
             }
            },
            "type": "table"
           }
          ]
         },
         "layout": {
          "annotationdefaults": {
           "arrowcolor": "#2a3f5f",
           "arrowhead": 0,
           "arrowwidth": 1
          },
          "autotypenumbers": "strict",
          "coloraxis": {
           "colorbar": {
            "outlinewidth": 0,
            "ticks": ""
           }
          },
          "colorscale": {
           "diverging": [
            [
             0,
             "#8e0152"
            ],
            [
             0.1,
             "#c51b7d"
            ],
            [
             0.2,
             "#de77ae"
            ],
            [
             0.3,
             "#f1b6da"
            ],
            [
             0.4,
             "#fde0ef"
            ],
            [
             0.5,
             "#f7f7f7"
            ],
            [
             0.6,
             "#e6f5d0"
            ],
            [
             0.7,
             "#b8e186"
            ],
            [
             0.8,
             "#7fbc41"
            ],
            [
             0.9,
             "#4d9221"
            ],
            [
             1,
             "#276419"
            ]
           ],
           "sequential": [
            [
             0,
             "#0d0887"
            ],
            [
             0.1111111111111111,
             "#46039f"
            ],
            [
             0.2222222222222222,
             "#7201a8"
            ],
            [
             0.3333333333333333,
             "#9c179e"
            ],
            [
             0.4444444444444444,
             "#bd3786"
            ],
            [
             0.5555555555555556,
             "#d8576b"
            ],
            [
             0.6666666666666666,
             "#ed7953"
            ],
            [
             0.7777777777777778,
             "#fb9f3a"
            ],
            [
             0.8888888888888888,
             "#fdca26"
            ],
            [
             1,
             "#f0f921"
            ]
           ],
           "sequentialminus": [
            [
             0,
             "#0d0887"
            ],
            [
             0.1111111111111111,
             "#46039f"
            ],
            [
             0.2222222222222222,
             "#7201a8"
            ],
            [
             0.3333333333333333,
             "#9c179e"
            ],
            [
             0.4444444444444444,
             "#bd3786"
            ],
            [
             0.5555555555555556,
             "#d8576b"
            ],
            [
             0.6666666666666666,
             "#ed7953"
            ],
            [
             0.7777777777777778,
             "#fb9f3a"
            ],
            [
             0.8888888888888888,
             "#fdca26"
            ],
            [
             1,
             "#f0f921"
            ]
           ]
          },
          "colorway": [
           "#636efa",
           "#EF553B",
           "#00cc96",
           "#ab63fa",
           "#FFA15A",
           "#19d3f3",
           "#FF6692",
           "#B6E880",
           "#FF97FF",
           "#FECB52"
          ],
          "font": {
           "color": "#2a3f5f"
          },
          "geo": {
           "bgcolor": "white",
           "lakecolor": "white",
           "landcolor": "#E5ECF6",
           "showlakes": true,
           "showland": true,
           "subunitcolor": "white"
          },
          "hoverlabel": {
           "align": "left"
          },
          "hovermode": "closest",
          "mapbox": {
           "style": "light"
          },
          "paper_bgcolor": "white",
          "plot_bgcolor": "#E5ECF6",
          "polar": {
           "angularaxis": {
            "gridcolor": "white",
            "linecolor": "white",
            "ticks": ""
           },
           "bgcolor": "#E5ECF6",
           "radialaxis": {
            "gridcolor": "white",
            "linecolor": "white",
            "ticks": ""
           }
          },
          "scene": {
           "xaxis": {
            "backgroundcolor": "#E5ECF6",
            "gridcolor": "white",
            "gridwidth": 2,
            "linecolor": "white",
            "showbackground": true,
            "ticks": "",
            "zerolinecolor": "white"
           },
           "yaxis": {
            "backgroundcolor": "#E5ECF6",
            "gridcolor": "white",
            "gridwidth": 2,
            "linecolor": "white",
            "showbackground": true,
            "ticks": "",
            "zerolinecolor": "white"
           },
           "zaxis": {
            "backgroundcolor": "#E5ECF6",
            "gridcolor": "white",
            "gridwidth": 2,
            "linecolor": "white",
            "showbackground": true,
            "ticks": "",
            "zerolinecolor": "white"
           }
          },
          "shapedefaults": {
           "line": {
            "color": "#2a3f5f"
           }
          },
          "ternary": {
           "aaxis": {
            "gridcolor": "white",
            "linecolor": "white",
            "ticks": ""
           },
           "baxis": {
            "gridcolor": "white",
            "linecolor": "white",
            "ticks": ""
           },
           "bgcolor": "#E5ECF6",
           "caxis": {
            "gridcolor": "white",
            "linecolor": "white",
            "ticks": ""
           }
          },
          "title": {
           "x": 0.05
          },
          "xaxis": {
           "automargin": true,
           "gridcolor": "white",
           "linecolor": "white",
           "ticks": "",
           "title": {
            "standoff": 15
           },
           "zerolinecolor": "white",
           "zerolinewidth": 2
          },
          "yaxis": {
           "automargin": true,
           "gridcolor": "white",
           "linecolor": "white",
           "ticks": "",
           "title": {
            "standoff": 15
           },
           "zerolinecolor": "white",
           "zerolinewidth": 2
          }
         }
        },
        "xaxis": {
         "anchor": "y",
         "autorange": true,
         "domain": [
          0,
          1
         ],
         "range": [
          -0.5,
          17.5
         ],
         "title": {
          "text": "index"
         },
         "type": "category"
        },
        "yaxis": {
         "anchor": "x",
         "autorange": true,
         "domain": [
          0,
          1
         ],
         "range": [
          -345,
          345
         ],
         "title": {
          "text": "Counts"
         },
         "type": "linear"
        }
       }
      },
      "image/png": "[encoded data removed]",
      "text/html": [
       "<div>                            <div id=\"24547604-d0af-4d5c-be77-237534bd7a2c\" class=\"plotly-graph-div\" style=\"height:525px; width:100%;\"></div>            <script type=\"text/javascript\">                require([\"plotly\"], function(Plotly) {                    window.PLOTLYENV=window.PLOTLYENV || {};                                    if (document.getElementById(\"24547604-d0af-4d5c-be77-237534bd7a2c\")) {                    Plotly.newPlot(                        \"24547604-d0af-4d5c-be77-237534bd7a2c\",                        [{\"hovertemplate\":\"index=%{x}\\u003cbr\\u003eCounts=%{y}\\u003cextra\\u003e\\u003c\\u002fextra\\u003e\",\"legendgroup\":\"\",\"marker\":{\"color\":\"#636efa\"},\"name\":\"\",\"orientation\":\"v\",\"showlegend\":false,\"x\":[\"Step_Category\",\"Step_Click\",\"Step_Event_menu\",\"Step_Login_btn\",\"Step_Menu_card\",\"Step_Pay All\",\"Step_Pay Mine\",\"Step_Split evenly\",\"Step_add_menu\",\"Step_final_pay_btn\",\"Step_first_visit\",\"Step_page_view\",\"Step_quick_add_menu\",\"Step_react-modal-sheet-backdrop\",\"Step_scroll\",\"Step_session_start\",\"Step_tab_chg_amt\",\"Step_user_engagement\"],\"xaxis\":\"x\",\"y\":[93,621,12,10,30,6,24,6,1,17,74,516,49,16,220,140,1,164],\"yaxis\":\"y\",\"type\":\"funnel\"}],                        {\"template\":{\"data\":{\"histogram2dcontour\":[{\"type\":\"histogram2dcontour\",\"colorbar\":{\"outlinewidth\":0,\"ticks\":\"\"},\"colorscale\":[[0.0,\"#0d0887\"],[0.1111111111111111,\"#46039f\"],[0.2222222222222222,\"#7201a8\"],[0.3333333333333333,\"#9c179e\"],[0.4444444444444444,\"#bd3786\"],[0.5555555555555556,\"#d8576b\"],[0.6666666666666666,\"#ed7953\"],[0.7777777777777778,\"#fb9f3a\"],[0.8888888888888888,\"#fdca26\"],[1.0,\"#f0f921\"]]}],\"choropleth\":[{\"type\":\"choropleth\",\"colorbar\":{\"outlinewidth\":0,\"ticks\":\"\"}}],\"histogram2d\":[{\"type\":\"histogram2d\",\"colorbar\":{\"outlinewidth\":0,\"ticks\":\"\"},\"colorscale\":[[0.0,\"#0d0887\"],[0.1111111111111111,\"#46039f\"],[0.2222222222222222,\"#7201a8\"],[0.3333333333333333,\"#9c179e\"],[0.4444444444444444,\"#bd3786\"],[0.5555555555555556,\"#d8576b\"],[0.6666666666666666,\"#ed7953\"],[0.7777777777777778,\"#fb9f3a\"],[0.8888888888888888,\"#fdca26\"],[1.0,\"#f0f921\"]]}],\"heatmap\":[{\"type\":\"heatmap\",\"colorbar\":{\"outlinewidth\":0,\"ticks\":\"\"},\"colorscale\":[[0.0,\"#0d0887\"],[0.1111111111111111,\"#46039f\"],[0.2222222222222222,\"#7201a8\"],[0.3333333333333333,\"#9c179e\"],[0.4444444444444444,\"#bd3786\"],[0.5555555555555556,\"#d8576b\"],[0.6666666666666666,\"#ed7953\"],[0.7777777777777778,\"#fb9f3a\"],[0.8888888888888888,\"#fdca26\"],[1.0,\"#f0f921\"]]}],\"heatmapgl\":[{\"type\":\"heatmapgl\",\"colorbar\":{\"outlinewidth\":0,\"ticks\":\"\"},\"colorscale\":[[0.0,\"#0d0887\"],[0.1111111111111111,\"#46039f\"],[0.2222222222222222,\"#7201a8\"],[0.3333333333333333,\"#9c179e\"],[0.4444444444444444,\"#bd3786\"],[0.5555555555555556,\"#d8576b\"],[0.6666666666666666,\"#ed7953\"],[0.7777777777777778,\"#fb9f3a\"],[0.8888888888888888,\"#fdca26\"],[1.0,\"#f0f921\"]]}],\"contourcarpet\":[{\"type\":\"contourcarpet\",\"colorbar\":{\"outlinewidth\":0,\"ticks\":\"\"}}],\"contour\":[{\"type\":\"contour\",\"colorbar\":{\"outlinewidth\":0,\"ticks\":\"\"},\"colorscale\":[[0.0,\"#0d0887\"],[0.1111111111111111,\"#46039f\"],[0.2222222222222222,\"#7201a8\"],[0.3333333333333333,\"#9c179e\"],[0.4444444444444444,\"#bd3786\"],[0.5555555555555556,\"#d8576b\"],[0.6666666666666666,\"#ed7953\"],[0.7777777777777778,\"#fb9f3a\"],[0.8888888888888888,\"#fdca26\"],[1.0,\"#f0f921\"]]}],\"surface\":[{\"type\":\"surface\",\"colorbar\":{\"outlinewidth\":0,\"ticks\":\"\"},\"colorscale\":[[0.0,\"#0d0887\"],[0.1111111111111111,\"#46039f\"],[0.2222222222222222,\"#7201a8\"],[0.3333333333333333,\"#9c179e\"],[0.4444444444444444,\"#bd3786\"],[0.5555555555555556,\"#d8576b\"],[0.6666666666666666,\"#ed7953\"],[0.7777777777777778,\"#fb9f3a\"],[0.8888888888888888,\"#fdca26\"],[1.0,\"#f0f921\"]]}],\"mesh3d\":[{\"type\":\"mesh3d\",\"colorbar\":{\"outlinewidth\":0,\"ticks\":\"\"}}],\"scatter\":[{\"fillpattern\":{\"fillmode\":\"overlay\",\"size\":10,\"solidity\":0.2},\"type\":\"scatter\"}],\"parcoords\":[{\"type\":\"parcoords\",\"line\":{\"colorbar\":{\"outlinewidth\":0,\"ticks\":\"\"}}}],\"scatterpolargl\":[{\"type\":\"scatterpolargl\",\"marker\":{\"colorbar\":{\"outlinewidth\":0,\"ticks\":\"\"}}}],\"bar\":[{\"error_x\":{\"color\":\"#2a3f5f\"},\"error_y\":{\"color\":\"#2a3f5f\"},\"marker\":{\"line\":{\"color\":\"#E5ECF6\",\"width\":0.5},\"pattern\":{\"fillmode\":\"overlay\",\"size\":10,\"solidity\":0.2}},\"type\":\"bar\"}],\"scattergeo\":[{\"type\":\"scattergeo\",\"marker\":{\"colorbar\":{\"outlinewidth\":0,\"ticks\":\"\"}}}],\"scatterpolar\":[{\"type\":\"scatterpolar\",\"marker\":{\"colorbar\":{\"outlinewidth\":0,\"ticks\":\"\"}}}],\"histogram\":[{\"marker\":{\"pattern\":{\"fillmode\":\"overlay\",\"size\":10,\"solidity\":0.2}},\"type\":\"histogram\"}],\"scattergl\":[{\"type\":\"scattergl\",\"marker\":{\"colorbar\":{\"outlinewidth\":0,\"ticks\":\"\"}}}],\"scatter3d\":[{\"type\":\"scatter3d\",\"line\":{\"colorbar\":{\"outlinewidth\":0,\"ticks\":\"\"}},\"marker\":{\"colorbar\":{\"outlinewidth\":0,\"ticks\":\"\"}}}],\"scattermapbox\":[{\"type\":\"scattermapbox\",\"marker\":{\"colorbar\":{\"outlinewidth\":0,\"ticks\":\"\"}}}],\"scatterternary\":[{\"type\":\"scatterternary\",\"marker\":{\"colorbar\":{\"outlinewidth\":0,\"ticks\":\"\"}}}],\"scattercarpet\":[{\"type\":\"scattercarpet\",\"marker\":{\"colorbar\":{\"outlinewidth\":0,\"ticks\":\"\"}}}],\"carpet\":[{\"aaxis\":{\"endlinecolor\":\"#2a3f5f\",\"gridcolor\":\"white\",\"linecolor\":\"white\",\"minorgridcolor\":\"white\",\"startlinecolor\":\"#2a3f5f\"},\"baxis\":{\"endlinecolor\":\"#2a3f5f\",\"gridcolor\":\"white\",\"linecolor\":\"white\",\"minorgridcolor\":\"white\",\"startlinecolor\":\"#2a3f5f\"},\"type\":\"carpet\"}],\"table\":[{\"cells\":{\"fill\":{\"color\":\"#EBF0F8\"},\"line\":{\"color\":\"white\"}},\"header\":{\"fill\":{\"color\":\"#C8D4E3\"},\"line\":{\"color\":\"white\"}},\"type\":\"table\"}],\"barpolar\":[{\"marker\":{\"line\":{\"color\":\"#E5ECF6\",\"width\":0.5},\"pattern\":{\"fillmode\":\"overlay\",\"size\":10,\"solidity\":0.2}},\"type\":\"barpolar\"}],\"pie\":[{\"automargin\":true,\"type\":\"pie\"}]},\"layout\":{\"autotypenumbers\":\"strict\",\"colorway\":[\"#636efa\",\"#EF553B\",\"#00cc96\",\"#ab63fa\",\"#FFA15A\",\"#19d3f3\",\"#FF6692\",\"#B6E880\",\"#FF97FF\",\"#FECB52\"],\"font\":{\"color\":\"#2a3f5f\"},\"hovermode\":\"closest\",\"hoverlabel\":{\"align\":\"left\"},\"paper_bgcolor\":\"white\",\"plot_bgcolor\":\"#E5ECF6\",\"polar\":{\"bgcolor\":\"#E5ECF6\",\"angularaxis\":{\"gridcolor\":\"white\",\"linecolor\":\"white\",\"ticks\":\"\"},\"radialaxis\":{\"gridcolor\":\"white\",\"linecolor\":\"white\",\"ticks\":\"\"}},\"ternary\":{\"bgcolor\":\"#E5ECF6\",\"aaxis\":{\"gridcolor\":\"white\",\"linecolor\":\"white\",\"ticks\":\"\"},\"baxis\":{\"gridcolor\":\"white\",\"linecolor\":\"white\",\"ticks\":\"\"},\"caxis\":{\"gridcolor\":\"white\",\"linecolor\":\"white\",\"ticks\":\"\"}},\"coloraxis\":{\"colorbar\":{\"outlinewidth\":0,\"ticks\":\"\"}},\"colorscale\":{\"sequential\":[[0.0,\"#0d0887\"],[0.1111111111111111,\"#46039f\"],[0.2222222222222222,\"#7201a8\"],[0.3333333333333333,\"#9c179e\"],[0.4444444444444444,\"#bd3786\"],[0.5555555555555556,\"#d8576b\"],[0.6666666666666666,\"#ed7953\"],[0.7777777777777778,\"#fb9f3a\"],[0.8888888888888888,\"#fdca26\"],[1.0,\"#f0f921\"]],\"sequentialminus\":[[0.0,\"#0d0887\"],[0.1111111111111111,\"#46039f\"],[0.2222222222222222,\"#7201a8\"],[0.3333333333333333,\"#9c179e\"],[0.4444444444444444,\"#bd3786\"],[0.5555555555555556,\"#d8576b\"],[0.6666666666666666,\"#ed7953\"],[0.7777777777777778,\"#fb9f3a\"],[0.8888888888888888,\"#fdca26\"],[1.0,\"#f0f921\"]],\"diverging\":[[0,\"#8e0152\"],[0.1,\"#c51b7d\"],[0.2,\"#de77ae\"],[0.3,\"#f1b6da\"],[0.4,\"#fde0ef\"],[0.5,\"#f7f7f7\"],[0.6,\"#e6f5d0\"],[0.7,\"#b8e186\"],[0.8,\"#7fbc41\"],[0.9,\"#4d9221\"],[1,\"#276419\"]]},\"xaxis\":{\"gridcolor\":\"white\",\"linecolor\":\"white\",\"ticks\":\"\",\"title\":{\"standoff\":15},\"zerolinecolor\":\"white\",\"automargin\":true,\"zerolinewidth\":2},\"yaxis\":{\"gridcolor\":\"white\",\"linecolor\":\"white\",\"ticks\":\"\",\"title\":{\"standoff\":15},\"zerolinecolor\":\"white\",\"automargin\":true,\"zerolinewidth\":2},\"scene\":{\"xaxis\":{\"backgroundcolor\":\"#E5ECF6\",\"gridcolor\":\"white\",\"linecolor\":\"white\",\"showbackground\":true,\"ticks\":\"\",\"zerolinecolor\":\"white\",\"gridwidth\":2},\"yaxis\":{\"backgroundcolor\":\"#E5ECF6\",\"gridcolor\":\"white\",\"linecolor\":\"white\",\"showbackground\":true,\"ticks\":\"\",\"zerolinecolor\":\"white\",\"gridwidth\":2},\"zaxis\":{\"backgroundcolor\":\"#E5ECF6\",\"gridcolor\":\"white\",\"linecolor\":\"white\",\"showbackground\":true,\"ticks\":\"\",\"zerolinecolor\":\"white\",\"gridwidth\":2}},\"shapedefaults\":{\"line\":{\"color\":\"#2a3f5f\"}},\"annotationdefaults\":{\"arrowcolor\":\"#2a3f5f\",\"arrowhead\":0,\"arrowwidth\":1},\"geo\":{\"bgcolor\":\"white\",\"landcolor\":\"#E5ECF6\",\"subunitcolor\":\"white\",\"showland\":true,\"showlakes\":true,\"lakecolor\":\"white\"},\"title\":{\"x\":0.05},\"mapbox\":{\"style\":\"light\"}}},\"xaxis\":{\"anchor\":\"y\",\"domain\":[0.0,1.0],\"title\":{\"text\":\"index\"}},\"yaxis\":{\"anchor\":\"x\",\"domain\":[0.0,1.0],\"title\":{\"text\":\"Counts\"}},\"legend\":{\"tracegroupgap\":0},\"margin\":{\"t\":60}},                        {\"responsive\": true}                    ).then(function(){\n",
       "                            \n",
       "var gd = document.getElementById('24547604-d0af-4d5c-be77-237534bd7a2c');\n",
       "var x = new MutationObserver(function (mutations, observer) {{\n",
       "        var display = window.getComputedStyle(gd).display;\n",
       "        if (!display || display === 'none') {{\n",
       "            console.log([gd, 'removed!']);\n",
       "            Plotly.purge(gd);\n",
       "            observer.disconnect();\n",
       "        }}\n",
       "}});\n",
       "\n",
       "// Listen for the removal of the full notebook cells\n",
       "var notebookContainer = gd.closest('#notebook-container');\n",
       "if (notebookContainer) {{\n",
       "    x.observe(notebookContainer, {childList: true});\n",
       "}}\n",
       "\n",
       "// Listen for the clearing of the current output cell\n",
       "var outputEl = gd.closest('.output');\n",
       "if (outputEl) {{\n",
       "    x.observe(outputEl, {childList: true});\n",
       "}}\n",
       "\n",
       "                        })                };                });            </script>        </div>"
      ]
     },
     "metadata": {},
     "output_type": "display_data"
    }
   ],
   "source": [
    "funnel_order = [''] # you give me the order i will give you the chart.\n",
    "fig = px.funnel(frequency_table, y='Counts')\n",
    "fig.show()"
   ]
  },
  {
   "cell_type": "markdown",
   "id": "924f6fb4-93ef-45c5-b9c7-23dc86985b70",
   "metadata": {},
   "source": [
    "### Funnel Analysis by City"
   ]
  },
  {
   "cell_type": "code",
   "execution_count": 379,
   "id": "168eb200-c050-4356-b79c-85678177f8ad",
   "metadata": {},
   "outputs": [],
   "source": [
    "frequency_table_by_geo = overall_df.groupby(['city', 'event_name']).size().reset_index(name='Count')"
   ]
  },
  {
   "cell_type": "code",
   "execution_count": 380,
   "id": "704760ec-f9ff-4593-baa0-8222a63dfe16",
   "metadata": {},
   "outputs": [],
   "source": [
    "pivot_freq_geo = frequency_table_by_geo.pivot(index='event_name', columns='city', values='Count').fillna(0)"
   ]
  },
  {
   "cell_type": "code",
   "execution_count": 383,
   "id": "235162b2-931d-4847-8207-da722a9bdd1d",
   "metadata": {},
   "outputs": [
    {
     "data": {
      "application/vnd.plotly.v1+json": {
       "config": {
        "plotlyServerURL": "https://plot.ly"
       },
       "data": [
        {
         "domain": {
          "x": [
           0,
           0.07692307692307693
          ],
          "y": [
           0,
           0.5
          ]
         },
         "textinfo": "value",
         "title": {
          "position": "top center",
          "text": "Busan"
         },
         "type": "funnelarea",
         "values": [
          0,
          0,
          0,
          1,
          0,
          0,
          1,
          0,
          0,
          1,
          2,
          11,
          2,
          0,
          5,
          4,
          1,
          2
         ]
        },
        {
         "domain": {
          "x": [
           0.07692307692307693,
           0.15384615384615385
          ],
          "y": [
           0.55,
           1
          ]
         },
         "textinfo": "value",
         "title": {
          "position": "top center",
          "text": "Cheonan-si"
         },
         "type": "funnelarea",
         "values": [
          0,
          0,
          0,
          1,
          0,
          0,
          1,
          0,
          0,
          1,
          1,
          8,
          1,
          0,
          3,
          2,
          0,
          3
         ]
        },
        {
         "domain": {
          "x": [
           0.15384615384615385,
           0.23076923076923078
          ],
          "y": [
           0,
           0.5
          ]
         },
         "textinfo": "value",
         "title": {
          "position": "top center",
          "text": "Daejeon"
         },
         "type": "funnelarea",
         "values": [
          1,
          0,
          2,
          2,
          0,
          0,
          1,
          0,
          1,
          1,
          4,
          19,
          2,
          0,
          9,
          4,
          0,
          8
         ]
        },
        {
         "domain": {
          "x": [
           0.23076923076923078,
           0.3076923076923077
          ],
          "y": [
           0.55,
           1
          ]
         },
         "textinfo": "value",
         "title": {
          "position": "top center",
          "text": "Goyang-si"
         },
         "type": "funnelarea",
         "values": [
          0,
          0,
          0,
          0,
          0,
          0,
          0,
          0,
          0,
          0,
          0,
          4,
          0,
          0,
          1,
          0,
          0,
          0
         ]
        },
        {
         "domain": {
          "x": [
           0.3076923076923077,
           0.38461538461538464
          ],
          "y": [
           0,
           0.5
          ]
         },
         "textinfo": "value",
         "title": {
          "position": "top center",
          "text": "Haman-gun"
         },
         "type": "funnelarea",
         "values": [
          0,
          0,
          0,
          0,
          0,
          0,
          0,
          0,
          0,
          0,
          0,
          2,
          0,
          0,
          1,
          0,
          0,
          0
         ]
        },
        {
         "domain": {
          "x": [
           0.38461538461538464,
           0.46153846153846156
          ],
          "y": [
           0.55,
           1
          ]
         },
         "textinfo": "value",
         "title": {
          "position": "top center",
          "text": "Incheon"
         },
         "type": "funnelarea",
         "values": [
          0,
          0,
          0,
          0,
          0,
          0,
          2,
          0,
          0,
          1,
          1,
          11,
          2,
          0,
          7,
          1,
          0,
          3
         ]
        },
        {
         "domain": {
          "x": [
           0.46153846153846156,
           0.5384615384615384
          ],
          "y": [
           0,
           0.5
          ]
         },
         "textinfo": "value",
         "title": {
          "position": "top center",
          "text": "Jeonju-si"
         },
         "type": "funnelarea",
         "values": [
          0,
          0,
          0,
          0,
          0,
          0,
          0,
          0,
          0,
          0,
          0,
          6,
          1,
          0,
          3,
          1,
          0,
          2
         ]
        },
        {
         "domain": {
          "x": [
           0.5384615384615384,
           0.6153846153846154
          ],
          "y": [
           0.55,
           1
          ]
         },
         "textinfo": "value",
         "title": {
          "position": "top center",
          "text": "Kuala Lumpur"
         },
         "type": "funnelarea",
         "values": [
          0,
          0,
          0,
          0,
          1,
          0,
          0,
          0,
          0,
          0,
          1,
          2,
          1,
          1,
          2,
          1,
          0,
          1
         ]
        },
        {
         "domain": {
          "x": [
           0.6153846153846154,
           0.6923076923076923
          ],
          "y": [
           0,
           0.5
          ]
         },
         "textinfo": "value",
         "title": {
          "position": "top center",
          "text": "Paju-si"
         },
         "type": "funnelarea",
         "values": [
          0,
          0,
          0,
          0,
          0,
          0,
          0,
          0,
          0,
          0,
          1,
          3,
          0,
          0,
          0,
          2,
          0,
          0
         ]
        },
        {
         "domain": {
          "x": [
           0.6923076923076923,
           0.7692307692307693
          ],
          "y": [
           0.55,
           1
          ]
         },
         "textinfo": "value",
         "title": {
          "position": "top center",
          "text": "Pohang-si"
         },
         "type": "funnelarea",
         "values": [
          0,
          0,
          0,
          0,
          0,
          0,
          0,
          0,
          0,
          0,
          1,
          2,
          0,
          0,
          1,
          1,
          0,
          0
         ]
        },
        {
         "domain": {
          "x": [
           0.7692307692307693,
           0.8461538461538461
          ],
          "y": [
           0,
           0.5
          ]
         },
         "textinfo": "value",
         "title": {
          "position": "top center",
          "text": "Seoul"
         },
         "type": "funnelarea",
         "values": [
          5,
          495,
          0,
          6,
          0,
          0,
          7,
          0,
          0,
          6,
          12,
          126,
          8,
          0,
          72,
          36,
          0,
          67
         ]
        },
        {
         "domain": {
          "x": [
           0.8461538461538461,
           0.9230769230769231
          ],
          "y": [
           0.55,
           1
          ]
         },
         "textinfo": "value",
         "title": {
          "position": "top center",
          "text": "Singapore"
         },
         "type": "funnelarea",
         "values": [
          86,
          126,
          10,
          0,
          29,
          6,
          10,
          6,
          0,
          6,
          47,
          294,
          28,
          15,
          105,
          82,
          0,
          70
         ]
        },
        {
         "domain": {
          "x": [
           0.9230769230769231,
           1
          ],
          "y": [
           0,
           0.5
          ]
         },
         "textinfo": "value",
         "title": {
          "position": "top center",
          "text": "Ulsan"
         },
         "type": "funnelarea",
         "values": [
          1,
          0,
          0,
          0,
          0,
          0,
          0,
          0,
          0,
          0,
          2,
          11,
          1,
          0,
          3,
          2,
          0,
          5
         ]
        }
       ],
       "layout": {
        "autosize": true,
        "margin": {
         "l": 200,
         "r": 200
        },
        "shapes": [
         {
          "x0": 0,
          "x1": 0.07692307692307693,
          "y0": 0,
          "y1": 0.5
         },
         {
          "x0": 0.07692307692307693,
          "x1": 0.15384615384615385,
          "y0": 0.55,
          "y1": 1
         },
         {
          "x0": 0.15384615384615385,
          "x1": 0.23076923076923078,
          "y0": 0,
          "y1": 0.5
         },
         {
          "x0": 0.23076923076923078,
          "x1": 0.3076923076923077,
          "y0": 0.55,
          "y1": 1
         },
         {
          "x0": 0.3076923076923077,
          "x1": 0.38461538461538464,
          "y0": 0,
          "y1": 0.5
         },
         {
          "x0": 0.38461538461538464,
          "x1": 0.46153846153846156,
          "y0": 0.55,
          "y1": 1
         },
         {
          "x0": 0.46153846153846156,
          "x1": 0.5384615384615384,
          "y0": 0,
          "y1": 0.5
         },
         {
          "x0": 0.5384615384615384,
          "x1": 0.6153846153846154,
          "y0": 0.55,
          "y1": 1
         },
         {
          "x0": 0.6153846153846154,
          "x1": 0.6923076923076923,
          "y0": 0,
          "y1": 0.5
         },
         {
          "x0": 0.6923076923076923,
          "x1": 0.7692307692307693,
          "y0": 0.55,
          "y1": 1
         },
         {
          "x0": 0.7692307692307693,
          "x1": 0.8461538461538461,
          "y0": 0,
          "y1": 0.5
         },
         {
          "x0": 0.8461538461538461,
          "x1": 0.9230769230769231,
          "y0": 0.55,
          "y1": 1
         },
         {
          "x0": 0.9230769230769231,
          "x1": 1,
          "y0": 0,
          "y1": 0.5
         }
        ],
        "template": {
         "data": {
          "bar": [
           {
            "error_x": {
             "color": "#2a3f5f"
            },
            "error_y": {
             "color": "#2a3f5f"
            },
            "marker": {
             "line": {
              "color": "#E5ECF6",
              "width": 0.5
             },
             "pattern": {
              "fillmode": "overlay",
              "size": 10,
              "solidity": 0.2
             }
            },
            "type": "bar"
           }
          ],
          "barpolar": [
           {
            "marker": {
             "line": {
              "color": "#E5ECF6",
              "width": 0.5
             },
             "pattern": {
              "fillmode": "overlay",
              "size": 10,
              "solidity": 0.2
             }
            },
            "type": "barpolar"
           }
          ],
          "carpet": [
           {
            "aaxis": {
             "endlinecolor": "#2a3f5f",
             "gridcolor": "white",
             "linecolor": "white",
             "minorgridcolor": "white",
             "startlinecolor": "#2a3f5f"
            },
            "baxis": {
             "endlinecolor": "#2a3f5f",
             "gridcolor": "white",
             "linecolor": "white",
             "minorgridcolor": "white",
             "startlinecolor": "#2a3f5f"
            },
            "type": "carpet"
           }
          ],
          "choropleth": [
           {
            "colorbar": {
             "outlinewidth": 0,
             "ticks": ""
            },
            "type": "choropleth"
           }
          ],
          "contour": [
           {
            "colorbar": {
             "outlinewidth": 0,
             "ticks": ""
            },
            "colorscale": [
             [
              0,
              "#0d0887"
             ],
             [
              0.1111111111111111,
              "#46039f"
             ],
             [
              0.2222222222222222,
              "#7201a8"
             ],
             [
              0.3333333333333333,
              "#9c179e"
             ],
             [
              0.4444444444444444,
              "#bd3786"
             ],
             [
              0.5555555555555556,
              "#d8576b"
             ],
             [
              0.6666666666666666,
              "#ed7953"
             ],
             [
              0.7777777777777778,
              "#fb9f3a"
             ],
             [
              0.8888888888888888,
              "#fdca26"
             ],
             [
              1,
              "#f0f921"
             ]
            ],
            "type": "contour"
           }
          ],
          "contourcarpet": [
           {
            "colorbar": {
             "outlinewidth": 0,
             "ticks": ""
            },
            "type": "contourcarpet"
           }
          ],
          "heatmap": [
           {
            "colorbar": {
             "outlinewidth": 0,
             "ticks": ""
            },
            "colorscale": [
             [
              0,
              "#0d0887"
             ],
             [
              0.1111111111111111,
              "#46039f"
             ],
             [
              0.2222222222222222,
              "#7201a8"
             ],
             [
              0.3333333333333333,
              "#9c179e"
             ],
             [
              0.4444444444444444,
              "#bd3786"
             ],
             [
              0.5555555555555556,
              "#d8576b"
             ],
             [
              0.6666666666666666,
              "#ed7953"
             ],
             [
              0.7777777777777778,
              "#fb9f3a"
             ],
             [
              0.8888888888888888,
              "#fdca26"
             ],
             [
              1,
              "#f0f921"
             ]
            ],
            "type": "heatmap"
           }
          ],
          "heatmapgl": [
           {
            "colorbar": {
             "outlinewidth": 0,
             "ticks": ""
            },
            "colorscale": [
             [
              0,
              "#0d0887"
             ],
             [
              0.1111111111111111,
              "#46039f"
             ],
             [
              0.2222222222222222,
              "#7201a8"
             ],
             [
              0.3333333333333333,
              "#9c179e"
             ],
             [
              0.4444444444444444,
              "#bd3786"
             ],
             [
              0.5555555555555556,
              "#d8576b"
             ],
             [
              0.6666666666666666,
              "#ed7953"
             ],
             [
              0.7777777777777778,
              "#fb9f3a"
             ],
             [
              0.8888888888888888,
              "#fdca26"
             ],
             [
              1,
              "#f0f921"
             ]
            ],
            "type": "heatmapgl"
           }
          ],
          "histogram": [
           {
            "marker": {
             "pattern": {
              "fillmode": "overlay",
              "size": 10,
              "solidity": 0.2
             }
            },
            "type": "histogram"
           }
          ],
          "histogram2d": [
           {
            "colorbar": {
             "outlinewidth": 0,
             "ticks": ""
            },
            "colorscale": [
             [
              0,
              "#0d0887"
             ],
             [
              0.1111111111111111,
              "#46039f"
             ],
             [
              0.2222222222222222,
              "#7201a8"
             ],
             [
              0.3333333333333333,
              "#9c179e"
             ],
             [
              0.4444444444444444,
              "#bd3786"
             ],
             [
              0.5555555555555556,
              "#d8576b"
             ],
             [
              0.6666666666666666,
              "#ed7953"
             ],
             [
              0.7777777777777778,
              "#fb9f3a"
             ],
             [
              0.8888888888888888,
              "#fdca26"
             ],
             [
              1,
              "#f0f921"
             ]
            ],
            "type": "histogram2d"
           }
          ],
          "histogram2dcontour": [
           {
            "colorbar": {
             "outlinewidth": 0,
             "ticks": ""
            },
            "colorscale": [
             [
              0,
              "#0d0887"
             ],
             [
              0.1111111111111111,
              "#46039f"
             ],
             [
              0.2222222222222222,
              "#7201a8"
             ],
             [
              0.3333333333333333,
              "#9c179e"
             ],
             [
              0.4444444444444444,
              "#bd3786"
             ],
             [
              0.5555555555555556,
              "#d8576b"
             ],
             [
              0.6666666666666666,
              "#ed7953"
             ],
             [
              0.7777777777777778,
              "#fb9f3a"
             ],
             [
              0.8888888888888888,
              "#fdca26"
             ],
             [
              1,
              "#f0f921"
             ]
            ],
            "type": "histogram2dcontour"
           }
          ],
          "mesh3d": [
           {
            "colorbar": {
             "outlinewidth": 0,
             "ticks": ""
            },
            "type": "mesh3d"
           }
          ],
          "parcoords": [
           {
            "line": {
             "colorbar": {
              "outlinewidth": 0,
              "ticks": ""
             }
            },
            "type": "parcoords"
           }
          ],
          "pie": [
           {
            "automargin": true,
            "type": "pie"
           }
          ],
          "scatter": [
           {
            "fillpattern": {
             "fillmode": "overlay",
             "size": 10,
             "solidity": 0.2
            },
            "type": "scatter"
           }
          ],
          "scatter3d": [
           {
            "line": {
             "colorbar": {
              "outlinewidth": 0,
              "ticks": ""
             }
            },
            "marker": {
             "colorbar": {
              "outlinewidth": 0,
              "ticks": ""
             }
            },
            "type": "scatter3d"
           }
          ],
          "scattercarpet": [
           {
            "marker": {
             "colorbar": {
              "outlinewidth": 0,
              "ticks": ""
             }
            },
            "type": "scattercarpet"
           }
          ],
          "scattergeo": [
           {
            "marker": {
             "colorbar": {
              "outlinewidth": 0,
              "ticks": ""
             }
            },
            "type": "scattergeo"
           }
          ],
          "scattergl": [
           {
            "marker": {
             "colorbar": {
              "outlinewidth": 0,
              "ticks": ""
             }
            },
            "type": "scattergl"
           }
          ],
          "scattermapbox": [
           {
            "marker": {
             "colorbar": {
              "outlinewidth": 0,
              "ticks": ""
             }
            },
            "type": "scattermapbox"
           }
          ],
          "scatterpolar": [
           {
            "marker": {
             "colorbar": {
              "outlinewidth": 0,
              "ticks": ""
             }
            },
            "type": "scatterpolar"
           }
          ],
          "scatterpolargl": [
           {
            "marker": {
             "colorbar": {
              "outlinewidth": 0,
              "ticks": ""
             }
            },
            "type": "scatterpolargl"
           }
          ],
          "scatterternary": [
           {
            "marker": {
             "colorbar": {
              "outlinewidth": 0,
              "ticks": ""
             }
            },
            "type": "scatterternary"
           }
          ],
          "surface": [
           {
            "colorbar": {
             "outlinewidth": 0,
             "ticks": ""
            },
            "colorscale": [
             [
              0,
              "#0d0887"
             ],
             [
              0.1111111111111111,
              "#46039f"
             ],
             [
              0.2222222222222222,
              "#7201a8"
             ],
             [
              0.3333333333333333,
              "#9c179e"
             ],
             [
              0.4444444444444444,
              "#bd3786"
             ],
             [
              0.5555555555555556,
              "#d8576b"
             ],
             [
              0.6666666666666666,
              "#ed7953"
             ],
             [
              0.7777777777777778,
              "#fb9f3a"
             ],
             [
              0.8888888888888888,
              "#fdca26"
             ],
             [
              1,
              "#f0f921"
             ]
            ],
            "type": "surface"
           }
          ],
          "table": [
           {
            "cells": {
             "fill": {
              "color": "#EBF0F8"
             },
             "line": {
              "color": "white"
             }
            },
            "header": {
             "fill": {
              "color": "#C8D4E3"
             },
             "line": {
              "color": "white"
             }
            },
            "type": "table"
           }
          ]
         },
         "layout": {
          "annotationdefaults": {
           "arrowcolor": "#2a3f5f",
           "arrowhead": 0,
           "arrowwidth": 1
          },
          "autotypenumbers": "strict",
          "coloraxis": {
           "colorbar": {
            "outlinewidth": 0,
            "ticks": ""
           }
          },
          "colorscale": {
           "diverging": [
            [
             0,
             "#8e0152"
            ],
            [
             0.1,
             "#c51b7d"
            ],
            [
             0.2,
             "#de77ae"
            ],
            [
             0.3,
             "#f1b6da"
            ],
            [
             0.4,
             "#fde0ef"
            ],
            [
             0.5,
             "#f7f7f7"
            ],
            [
             0.6,
             "#e6f5d0"
            ],
            [
             0.7,
             "#b8e186"
            ],
            [
             0.8,
             "#7fbc41"
            ],
            [
             0.9,
             "#4d9221"
            ],
            [
             1,
             "#276419"
            ]
           ],
           "sequential": [
            [
             0,
             "#0d0887"
            ],
            [
             0.1111111111111111,
             "#46039f"
            ],
            [
             0.2222222222222222,
             "#7201a8"
            ],
            [
             0.3333333333333333,
             "#9c179e"
            ],
            [
             0.4444444444444444,
             "#bd3786"
            ],
            [
             0.5555555555555556,
             "#d8576b"
            ],
            [
             0.6666666666666666,
             "#ed7953"
            ],
            [
             0.7777777777777778,
             "#fb9f3a"
            ],
            [
             0.8888888888888888,
             "#fdca26"
            ],
            [
             1,
             "#f0f921"
            ]
           ],
           "sequentialminus": [
            [
             0,
             "#0d0887"
            ],
            [
             0.1111111111111111,
             "#46039f"
            ],
            [
             0.2222222222222222,
             "#7201a8"
            ],
            [
             0.3333333333333333,
             "#9c179e"
            ],
            [
             0.4444444444444444,
             "#bd3786"
            ],
            [
             0.5555555555555556,
             "#d8576b"
            ],
            [
             0.6666666666666666,
             "#ed7953"
            ],
            [
             0.7777777777777778,
             "#fb9f3a"
            ],
            [
             0.8888888888888888,
             "#fdca26"
            ],
            [
             1,
             "#f0f921"
            ]
           ]
          },
          "colorway": [
           "#636efa",
           "#EF553B",
           "#00cc96",
           "#ab63fa",
           "#FFA15A",
           "#19d3f3",
           "#FF6692",
           "#B6E880",
           "#FF97FF",
           "#FECB52"
          ],
          "font": {
           "color": "#2a3f5f"
          },
          "geo": {
           "bgcolor": "white",
           "lakecolor": "white",
           "landcolor": "#E5ECF6",
           "showlakes": true,
           "showland": true,
           "subunitcolor": "white"
          },
          "hoverlabel": {
           "align": "left"
          },
          "hovermode": "closest",
          "mapbox": {
           "style": "light"
          },
          "paper_bgcolor": "white",
          "plot_bgcolor": "#E5ECF6",
          "polar": {
           "angularaxis": {
            "gridcolor": "white",
            "linecolor": "white",
            "ticks": ""
           },
           "bgcolor": "#E5ECF6",
           "radialaxis": {
            "gridcolor": "white",
            "linecolor": "white",
            "ticks": ""
           }
          },
          "scene": {
           "xaxis": {
            "backgroundcolor": "#E5ECF6",
            "gridcolor": "white",
            "gridwidth": 2,
            "linecolor": "white",
            "showbackground": true,
            "ticks": "",
            "zerolinecolor": "white"
           },
           "yaxis": {
            "backgroundcolor": "#E5ECF6",
            "gridcolor": "white",
            "gridwidth": 2,
            "linecolor": "white",
            "showbackground": true,
            "ticks": "",
            "zerolinecolor": "white"
           },
           "zaxis": {
            "backgroundcolor": "#E5ECF6",
            "gridcolor": "white",
            "gridwidth": 2,
            "linecolor": "white",
            "showbackground": true,
            "ticks": "",
            "zerolinecolor": "white"
           }
          },
          "shapedefaults": {
           "line": {
            "color": "#2a3f5f"
           }
          },
          "ternary": {
           "aaxis": {
            "gridcolor": "white",
            "linecolor": "white",
            "ticks": ""
           },
           "baxis": {
            "gridcolor": "white",
            "linecolor": "white",
            "ticks": ""
           },
           "bgcolor": "#E5ECF6",
           "caxis": {
            "gridcolor": "white",
            "linecolor": "white",
            "ticks": ""
           }
          },
          "title": {
           "x": 0.05
          },
          "xaxis": {
           "automargin": true,
           "gridcolor": "white",
           "linecolor": "white",
           "ticks": "",
           "title": {
            "standoff": 15
           },
           "zerolinecolor": "white",
           "zerolinewidth": 2
          },
          "yaxis": {
           "automargin": true,
           "gridcolor": "white",
           "linecolor": "white",
           "ticks": "",
           "title": {
            "standoff": 15
           },
           "zerolinecolor": "white",
           "zerolinewidth": 2
          }
         }
        }
       }
      },
      "image/png": "[encoded data removed]",
      "text/html": [
       "<div>                            <div id=\"803ff542-7020-44d4-996f-fbe0baa8ad49\" class=\"plotly-graph-div\" style=\"height:525px; width:100%;\"></div>            <script type=\"text/javascript\">                require([\"plotly\"], function(Plotly) {                    window.PLOTLYENV=window.PLOTLYENV || {};                                    if (document.getElementById(\"803ff542-7020-44d4-996f-fbe0baa8ad49\")) {                    Plotly.newPlot(                        \"803ff542-7020-44d4-996f-fbe0baa8ad49\",                        [{\"domain\":{\"x\":[0.0,0.07692307692307693],\"y\":[0,0.5]},\"textinfo\":\"value\",\"title\":{\"position\":\"top center\",\"text\":\"Busan\"},\"values\":[0.0,0.0,0.0,1.0,0.0,0.0,1.0,0.0,0.0,1.0,2.0,11.0,2.0,0.0,5.0,4.0,1.0,2.0],\"type\":\"funnelarea\"},{\"domain\":{\"x\":[0.07692307692307693,0.15384615384615385],\"y\":[0.55,1]},\"textinfo\":\"value\",\"title\":{\"position\":\"top center\",\"text\":\"Cheonan-si\"},\"values\":[0.0,0.0,0.0,1.0,0.0,0.0,1.0,0.0,0.0,1.0,1.0,8.0,1.0,0.0,3.0,2.0,0.0,3.0],\"type\":\"funnelarea\"},{\"domain\":{\"x\":[0.15384615384615385,0.23076923076923078],\"y\":[0,0.5]},\"textinfo\":\"value\",\"title\":{\"position\":\"top center\",\"text\":\"Daejeon\"},\"values\":[1.0,0.0,2.0,2.0,0.0,0.0,1.0,0.0,1.0,1.0,4.0,19.0,2.0,0.0,9.0,4.0,0.0,8.0],\"type\":\"funnelarea\"},{\"domain\":{\"x\":[0.23076923076923078,0.3076923076923077],\"y\":[0.55,1]},\"textinfo\":\"value\",\"title\":{\"position\":\"top center\",\"text\":\"Goyang-si\"},\"values\":[0.0,0.0,0.0,0.0,0.0,0.0,0.0,0.0,0.0,0.0,0.0,4.0,0.0,0.0,1.0,0.0,0.0,0.0],\"type\":\"funnelarea\"},{\"domain\":{\"x\":[0.3076923076923077,0.38461538461538464],\"y\":[0,0.5]},\"textinfo\":\"value\",\"title\":{\"position\":\"top center\",\"text\":\"Haman-gun\"},\"values\":[0.0,0.0,0.0,0.0,0.0,0.0,0.0,0.0,0.0,0.0,0.0,2.0,0.0,0.0,1.0,0.0,0.0,0.0],\"type\":\"funnelarea\"},{\"domain\":{\"x\":[0.38461538461538464,0.46153846153846156],\"y\":[0.55,1]},\"textinfo\":\"value\",\"title\":{\"position\":\"top center\",\"text\":\"Incheon\"},\"values\":[0.0,0.0,0.0,0.0,0.0,0.0,2.0,0.0,0.0,1.0,1.0,11.0,2.0,0.0,7.0,1.0,0.0,3.0],\"type\":\"funnelarea\"},{\"domain\":{\"x\":[0.46153846153846156,0.5384615384615384],\"y\":[0,0.5]},\"textinfo\":\"value\",\"title\":{\"position\":\"top center\",\"text\":\"Jeonju-si\"},\"values\":[0.0,0.0,0.0,0.0,0.0,0.0,0.0,0.0,0.0,0.0,0.0,6.0,1.0,0.0,3.0,1.0,0.0,2.0],\"type\":\"funnelarea\"},{\"domain\":{\"x\":[0.5384615384615384,0.6153846153846154],\"y\":[0.55,1]},\"textinfo\":\"value\",\"title\":{\"position\":\"top center\",\"text\":\"Kuala Lumpur\"},\"values\":[0.0,0.0,0.0,0.0,1.0,0.0,0.0,0.0,0.0,0.0,1.0,2.0,1.0,1.0,2.0,1.0,0.0,1.0],\"type\":\"funnelarea\"},{\"domain\":{\"x\":[0.6153846153846154,0.6923076923076923],\"y\":[0,0.5]},\"textinfo\":\"value\",\"title\":{\"position\":\"top center\",\"text\":\"Paju-si\"},\"values\":[0.0,0.0,0.0,0.0,0.0,0.0,0.0,0.0,0.0,0.0,1.0,3.0,0.0,0.0,0.0,2.0,0.0,0.0],\"type\":\"funnelarea\"},{\"domain\":{\"x\":[0.6923076923076923,0.7692307692307693],\"y\":[0.55,1]},\"textinfo\":\"value\",\"title\":{\"position\":\"top center\",\"text\":\"Pohang-si\"},\"values\":[0.0,0.0,0.0,0.0,0.0,0.0,0.0,0.0,0.0,0.0,1.0,2.0,0.0,0.0,1.0,1.0,0.0,0.0],\"type\":\"funnelarea\"},{\"domain\":{\"x\":[0.7692307692307693,0.8461538461538461],\"y\":[0,0.5]},\"textinfo\":\"value\",\"title\":{\"position\":\"top center\",\"text\":\"Seoul\"},\"values\":[5.0,495.0,0.0,6.0,0.0,0.0,7.0,0.0,0.0,6.0,12.0,126.0,8.0,0.0,72.0,36.0,0.0,67.0],\"type\":\"funnelarea\"},{\"domain\":{\"x\":[0.8461538461538461,0.9230769230769231],\"y\":[0.55,1]},\"textinfo\":\"value\",\"title\":{\"position\":\"top center\",\"text\":\"Singapore\"},\"values\":[86.0,126.0,10.0,0.0,29.0,6.0,10.0,6.0,0.0,6.0,47.0,294.0,28.0,15.0,105.0,82.0,0.0,70.0],\"type\":\"funnelarea\"},{\"domain\":{\"x\":[0.9230769230769231,1.0],\"y\":[0,0.5]},\"textinfo\":\"value\",\"title\":{\"position\":\"top center\",\"text\":\"Ulsan\"},\"values\":[1.0,0.0,0.0,0.0,0.0,0.0,0.0,0.0,0.0,0.0,2.0,11.0,1.0,0.0,3.0,2.0,0.0,5.0],\"type\":\"funnelarea\"}],                        {\"template\":{\"data\":{\"histogram2dcontour\":[{\"type\":\"histogram2dcontour\",\"colorbar\":{\"outlinewidth\":0,\"ticks\":\"\"},\"colorscale\":[[0.0,\"#0d0887\"],[0.1111111111111111,\"#46039f\"],[0.2222222222222222,\"#7201a8\"],[0.3333333333333333,\"#9c179e\"],[0.4444444444444444,\"#bd3786\"],[0.5555555555555556,\"#d8576b\"],[0.6666666666666666,\"#ed7953\"],[0.7777777777777778,\"#fb9f3a\"],[0.8888888888888888,\"#fdca26\"],[1.0,\"#f0f921\"]]}],\"choropleth\":[{\"type\":\"choropleth\",\"colorbar\":{\"outlinewidth\":0,\"ticks\":\"\"}}],\"histogram2d\":[{\"type\":\"histogram2d\",\"colorbar\":{\"outlinewidth\":0,\"ticks\":\"\"},\"colorscale\":[[0.0,\"#0d0887\"],[0.1111111111111111,\"#46039f\"],[0.2222222222222222,\"#7201a8\"],[0.3333333333333333,\"#9c179e\"],[0.4444444444444444,\"#bd3786\"],[0.5555555555555556,\"#d8576b\"],[0.6666666666666666,\"#ed7953\"],[0.7777777777777778,\"#fb9f3a\"],[0.8888888888888888,\"#fdca26\"],[1.0,\"#f0f921\"]]}],\"heatmap\":[{\"type\":\"heatmap\",\"colorbar\":{\"outlinewidth\":0,\"ticks\":\"\"},\"colorscale\":[[0.0,\"#0d0887\"],[0.1111111111111111,\"#46039f\"],[0.2222222222222222,\"#7201a8\"],[0.3333333333333333,\"#9c179e\"],[0.4444444444444444,\"#bd3786\"],[0.5555555555555556,\"#d8576b\"],[0.6666666666666666,\"#ed7953\"],[0.7777777777777778,\"#fb9f3a\"],[0.8888888888888888,\"#fdca26\"],[1.0,\"#f0f921\"]]}],\"heatmapgl\":[{\"type\":\"heatmapgl\",\"colorbar\":{\"outlinewidth\":0,\"ticks\":\"\"},\"colorscale\":[[0.0,\"#0d0887\"],[0.1111111111111111,\"#46039f\"],[0.2222222222222222,\"#7201a8\"],[0.3333333333333333,\"#9c179e\"],[0.4444444444444444,\"#bd3786\"],[0.5555555555555556,\"#d8576b\"],[0.6666666666666666,\"#ed7953\"],[0.7777777777777778,\"#fb9f3a\"],[0.8888888888888888,\"#fdca26\"],[1.0,\"#f0f921\"]]}],\"contourcarpet\":[{\"type\":\"contourcarpet\",\"colorbar\":{\"outlinewidth\":0,\"ticks\":\"\"}}],\"contour\":[{\"type\":\"contour\",\"colorbar\":{\"outlinewidth\":0,\"ticks\":\"\"},\"colorscale\":[[0.0,\"#0d0887\"],[0.1111111111111111,\"#46039f\"],[0.2222222222222222,\"#7201a8\"],[0.3333333333333333,\"#9c179e\"],[0.4444444444444444,\"#bd3786\"],[0.5555555555555556,\"#d8576b\"],[0.6666666666666666,\"#ed7953\"],[0.7777777777777778,\"#fb9f3a\"],[0.8888888888888888,\"#fdca26\"],[1.0,\"#f0f921\"]]}],\"surface\":[{\"type\":\"surface\",\"colorbar\":{\"outlinewidth\":0,\"ticks\":\"\"},\"colorscale\":[[0.0,\"#0d0887\"],[0.1111111111111111,\"#46039f\"],[0.2222222222222222,\"#7201a8\"],[0.3333333333333333,\"#9c179e\"],[0.4444444444444444,\"#bd3786\"],[0.5555555555555556,\"#d8576b\"],[0.6666666666666666,\"#ed7953\"],[0.7777777777777778,\"#fb9f3a\"],[0.8888888888888888,\"#fdca26\"],[1.0,\"#f0f921\"]]}],\"mesh3d\":[{\"type\":\"mesh3d\",\"colorbar\":{\"outlinewidth\":0,\"ticks\":\"\"}}],\"scatter\":[{\"fillpattern\":{\"fillmode\":\"overlay\",\"size\":10,\"solidity\":0.2},\"type\":\"scatter\"}],\"parcoords\":[{\"type\":\"parcoords\",\"line\":{\"colorbar\":{\"outlinewidth\":0,\"ticks\":\"\"}}}],\"scatterpolargl\":[{\"type\":\"scatterpolargl\",\"marker\":{\"colorbar\":{\"outlinewidth\":0,\"ticks\":\"\"}}}],\"bar\":[{\"error_x\":{\"color\":\"#2a3f5f\"},\"error_y\":{\"color\":\"#2a3f5f\"},\"marker\":{\"line\":{\"color\":\"#E5ECF6\",\"width\":0.5},\"pattern\":{\"fillmode\":\"overlay\",\"size\":10,\"solidity\":0.2}},\"type\":\"bar\"}],\"scattergeo\":[{\"type\":\"scattergeo\",\"marker\":{\"colorbar\":{\"outlinewidth\":0,\"ticks\":\"\"}}}],\"scatterpolar\":[{\"type\":\"scatterpolar\",\"marker\":{\"colorbar\":{\"outlinewidth\":0,\"ticks\":\"\"}}}],\"histogram\":[{\"marker\":{\"pattern\":{\"fillmode\":\"overlay\",\"size\":10,\"solidity\":0.2}},\"type\":\"histogram\"}],\"scattergl\":[{\"type\":\"scattergl\",\"marker\":{\"colorbar\":{\"outlinewidth\":0,\"ticks\":\"\"}}}],\"scatter3d\":[{\"type\":\"scatter3d\",\"line\":{\"colorbar\":{\"outlinewidth\":0,\"ticks\":\"\"}},\"marker\":{\"colorbar\":{\"outlinewidth\":0,\"ticks\":\"\"}}}],\"scattermapbox\":[{\"type\":\"scattermapbox\",\"marker\":{\"colorbar\":{\"outlinewidth\":0,\"ticks\":\"\"}}}],\"scatterternary\":[{\"type\":\"scatterternary\",\"marker\":{\"colorbar\":{\"outlinewidth\":0,\"ticks\":\"\"}}}],\"scattercarpet\":[{\"type\":\"scattercarpet\",\"marker\":{\"colorbar\":{\"outlinewidth\":0,\"ticks\":\"\"}}}],\"carpet\":[{\"aaxis\":{\"endlinecolor\":\"#2a3f5f\",\"gridcolor\":\"white\",\"linecolor\":\"white\",\"minorgridcolor\":\"white\",\"startlinecolor\":\"#2a3f5f\"},\"baxis\":{\"endlinecolor\":\"#2a3f5f\",\"gridcolor\":\"white\",\"linecolor\":\"white\",\"minorgridcolor\":\"white\",\"startlinecolor\":\"#2a3f5f\"},\"type\":\"carpet\"}],\"table\":[{\"cells\":{\"fill\":{\"color\":\"#EBF0F8\"},\"line\":{\"color\":\"white\"}},\"header\":{\"fill\":{\"color\":\"#C8D4E3\"},\"line\":{\"color\":\"white\"}},\"type\":\"table\"}],\"barpolar\":[{\"marker\":{\"line\":{\"color\":\"#E5ECF6\",\"width\":0.5},\"pattern\":{\"fillmode\":\"overlay\",\"size\":10,\"solidity\":0.2}},\"type\":\"barpolar\"}],\"pie\":[{\"automargin\":true,\"type\":\"pie\"}]},\"layout\":{\"autotypenumbers\":\"strict\",\"colorway\":[\"#636efa\",\"#EF553B\",\"#00cc96\",\"#ab63fa\",\"#FFA15A\",\"#19d3f3\",\"#FF6692\",\"#B6E880\",\"#FF97FF\",\"#FECB52\"],\"font\":{\"color\":\"#2a3f5f\"},\"hovermode\":\"closest\",\"hoverlabel\":{\"align\":\"left\"},\"paper_bgcolor\":\"white\",\"plot_bgcolor\":\"#E5ECF6\",\"polar\":{\"bgcolor\":\"#E5ECF6\",\"angularaxis\":{\"gridcolor\":\"white\",\"linecolor\":\"white\",\"ticks\":\"\"},\"radialaxis\":{\"gridcolor\":\"white\",\"linecolor\":\"white\",\"ticks\":\"\"}},\"ternary\":{\"bgcolor\":\"#E5ECF6\",\"aaxis\":{\"gridcolor\":\"white\",\"linecolor\":\"white\",\"ticks\":\"\"},\"baxis\":{\"gridcolor\":\"white\",\"linecolor\":\"white\",\"ticks\":\"\"},\"caxis\":{\"gridcolor\":\"white\",\"linecolor\":\"white\",\"ticks\":\"\"}},\"coloraxis\":{\"colorbar\":{\"outlinewidth\":0,\"ticks\":\"\"}},\"colorscale\":{\"sequential\":[[0.0,\"#0d0887\"],[0.1111111111111111,\"#46039f\"],[0.2222222222222222,\"#7201a8\"],[0.3333333333333333,\"#9c179e\"],[0.4444444444444444,\"#bd3786\"],[0.5555555555555556,\"#d8576b\"],[0.6666666666666666,\"#ed7953\"],[0.7777777777777778,\"#fb9f3a\"],[0.8888888888888888,\"#fdca26\"],[1.0,\"#f0f921\"]],\"sequentialminus\":[[0.0,\"#0d0887\"],[0.1111111111111111,\"#46039f\"],[0.2222222222222222,\"#7201a8\"],[0.3333333333333333,\"#9c179e\"],[0.4444444444444444,\"#bd3786\"],[0.5555555555555556,\"#d8576b\"],[0.6666666666666666,\"#ed7953\"],[0.7777777777777778,\"#fb9f3a\"],[0.8888888888888888,\"#fdca26\"],[1.0,\"#f0f921\"]],\"diverging\":[[0,\"#8e0152\"],[0.1,\"#c51b7d\"],[0.2,\"#de77ae\"],[0.3,\"#f1b6da\"],[0.4,\"#fde0ef\"],[0.5,\"#f7f7f7\"],[0.6,\"#e6f5d0\"],[0.7,\"#b8e186\"],[0.8,\"#7fbc41\"],[0.9,\"#4d9221\"],[1,\"#276419\"]]},\"xaxis\":{\"gridcolor\":\"white\",\"linecolor\":\"white\",\"ticks\":\"\",\"title\":{\"standoff\":15},\"zerolinecolor\":\"white\",\"automargin\":true,\"zerolinewidth\":2},\"yaxis\":{\"gridcolor\":\"white\",\"linecolor\":\"white\",\"ticks\":\"\",\"title\":{\"standoff\":15},\"zerolinecolor\":\"white\",\"automargin\":true,\"zerolinewidth\":2},\"scene\":{\"xaxis\":{\"backgroundcolor\":\"#E5ECF6\",\"gridcolor\":\"white\",\"linecolor\":\"white\",\"showbackground\":true,\"ticks\":\"\",\"zerolinecolor\":\"white\",\"gridwidth\":2},\"yaxis\":{\"backgroundcolor\":\"#E5ECF6\",\"gridcolor\":\"white\",\"linecolor\":\"white\",\"showbackground\":true,\"ticks\":\"\",\"zerolinecolor\":\"white\",\"gridwidth\":2},\"zaxis\":{\"backgroundcolor\":\"#E5ECF6\",\"gridcolor\":\"white\",\"linecolor\":\"white\",\"showbackground\":true,\"ticks\":\"\",\"zerolinecolor\":\"white\",\"gridwidth\":2}},\"shapedefaults\":{\"line\":{\"color\":\"#2a3f5f\"}},\"annotationdefaults\":{\"arrowcolor\":\"#2a3f5f\",\"arrowhead\":0,\"arrowwidth\":1},\"geo\":{\"bgcolor\":\"white\",\"landcolor\":\"#E5ECF6\",\"subunitcolor\":\"white\",\"showland\":true,\"showlakes\":true,\"lakecolor\":\"white\"},\"title\":{\"x\":0.05},\"mapbox\":{\"style\":\"light\"}}},\"margin\":{\"l\":200,\"r\":200},\"shapes\":[{\"x0\":0.0,\"x1\":0.07692307692307693,\"y0\":0,\"y1\":0.5},{\"x0\":0.07692307692307693,\"x1\":0.15384615384615385,\"y0\":0.55,\"y1\":1},{\"x0\":0.15384615384615385,\"x1\":0.23076923076923078,\"y0\":0,\"y1\":0.5},{\"x0\":0.23076923076923078,\"x1\":0.3076923076923077,\"y0\":0.55,\"y1\":1},{\"x0\":0.3076923076923077,\"x1\":0.38461538461538464,\"y0\":0,\"y1\":0.5},{\"x0\":0.38461538461538464,\"x1\":0.46153846153846156,\"y0\":0.55,\"y1\":1},{\"x0\":0.46153846153846156,\"x1\":0.5384615384615384,\"y0\":0,\"y1\":0.5},{\"x0\":0.5384615384615384,\"x1\":0.6153846153846154,\"y0\":0.55,\"y1\":1},{\"x0\":0.6153846153846154,\"x1\":0.6923076923076923,\"y0\":0,\"y1\":0.5},{\"x0\":0.6923076923076923,\"x1\":0.7692307692307693,\"y0\":0.55,\"y1\":1},{\"x0\":0.7692307692307693,\"x1\":0.8461538461538461,\"y0\":0,\"y1\":0.5},{\"x0\":0.8461538461538461,\"x1\":0.9230769230769231,\"y0\":0.55,\"y1\":1},{\"x0\":0.9230769230769231,\"x1\":1.0,\"y0\":0,\"y1\":0.5}]},                        {\"responsive\": true}                    ).then(function(){\n",
       "                            \n",
       "var gd = document.getElementById('803ff542-7020-44d4-996f-fbe0baa8ad49');\n",
       "var x = new MutationObserver(function (mutations, observer) {{\n",
       "        var display = window.getComputedStyle(gd).display;\n",
       "        if (!display || display === 'none') {{\n",
       "            console.log([gd, 'removed!']);\n",
       "            Plotly.purge(gd);\n",
       "            observer.disconnect();\n",
       "        }}\n",
       "}});\n",
       "\n",
       "// Listen for the removal of the full notebook cells\n",
       "var notebookContainer = gd.closest('#notebook-container');\n",
       "if (notebookContainer) {{\n",
       "    x.observe(notebookContainer, {childList: true});\n",
       "}}\n",
       "\n",
       "// Listen for the clearing of the current output cell\n",
       "var outputEl = gd.closest('.output');\n",
       "if (outputEl) {{\n",
       "    x.observe(outputEl, {childList: true});\n",
       "}}\n",
       "\n",
       "                        })                };                });            </script>        </div>"
      ]
     },
     "metadata": {},
     "output_type": "display_data"
    }
   ],
   "source": [
    "# Iterate over columns (locations) to create funnel traces\n",
    "fig = go.Figure()\n",
    "for i, column in enumerate(pivot_freq_geo.columns):\n",
    "    fig.add_trace(go.Funnelarea(\n",
    "        values=pivot_freq_geo[column],\n",
    "        textinfo=\"value\",\n",
    "        title={\"position\": \"top center\", \"text\": column},\n",
    "        domain={\"x\": [i / len(pivot_freq_geo.columns), (i + 1) / len(pivot_freq_geo.columns)], \"y\": [0, 0.5] if i % 2 == 0 else [0.55, 1]}\n",
    "    ))\n",
    "\n",
    "# Update layout\n",
    "fig.update_layout(\n",
    "    margin={\"l\": 200, \"r\": 200},\n",
    "    shapes=[\n",
    "        {\"x0\": i / len(pivot_freq_geo.columns), \"x1\": (i + 1) / len(pivot_freq_geo.columns), \"y0\": 0, \"y1\": 0.5} if i % 2 == 0 else\n",
    "        {\"x0\": i / len(pivot_freq_geo.columns), \"x1\": (i + 1) / len(pivot_freq_geo.columns), \"y0\": 0.55, \"y1\": 1}\n",
    "        for i in range(len(pivot_freq_geo.columns))\n",
    "    ]\n",
    ")\n",
    "\n",
    "fig.show()"
   ]
  },
  {
   "cell_type": "markdown",
   "id": "ad67769b-180f-46ab-905e-730fc80ccc30",
   "metadata": {},
   "source": [
    "## To analyze the most frequent UI interactions done by users "
   ]
  },
  {
   "cell_type": "code",
   "execution_count": 394,
   "id": "ebefc493-f151-48ca-9050-69d6e0261eaa",
   "metadata": {},
   "outputs": [
    {
     "data": {
      "text/html": [
       "<div>\n",
       "<style scoped>\n",
       "    .dataframe tbody tr th:only-of-type {\n",
       "        vertical-align: middle;\n",
       "    }\n",
       "\n",
       "    .dataframe tbody tr th {\n",
       "        vertical-align: top;\n",
       "    }\n",
       "\n",
       "    .dataframe thead th {\n",
       "        text-align: right;\n",
       "    }\n",
       "</style>\n",
       "<table border=\"1\" class=\"dataframe\">\n",
       "  <thead>\n",
       "    <tr style=\"text-align: right;\">\n",
       "      <th></th>\n",
       "      <th>key</th>\n",
       "      <th>value.string_value</th>\n",
       "      <th>value.int_value</th>\n",
       "      <th>value.float_value</th>\n",
       "      <th>value.double_value</th>\n",
       "      <th>user_pseudo_id</th>\n",
       "      <th>event_name</th>\n",
       "      <th>value</th>\n",
       "    </tr>\n",
       "  </thead>\n",
       "  <tbody>\n",
       "    <tr>\n",
       "      <th>0</th>\n",
       "      <td>ga_session_id</td>\n",
       "      <td>None</td>\n",
       "      <td>1688096369.0</td>\n",
       "      <td>None</td>\n",
       "      <td>None</td>\n",
       "      <td>1111130751.16881</td>\n",
       "      <td>first_visit</td>\n",
       "      <td>1688096369.0</td>\n",
       "    </tr>\n",
       "    <tr>\n",
       "      <th>1</th>\n",
       "      <td>page_referrer</td>\n",
       "      <td>https://sg.sicpama.com/?token=oJiCYgqxZCRDQ3zq...</td>\n",
       "      <td>None</td>\n",
       "      <td>None</td>\n",
       "      <td>None</td>\n",
       "      <td>1111130751.16881</td>\n",
       "      <td>first_visit</td>\n",
       "      <td>https://sg.sicpama.com/?token=oJiCYgqxZCRDQ3zq...</td>\n",
       "    </tr>\n",
       "    <tr>\n",
       "      <th>2</th>\n",
       "      <td>page_location</td>\n",
       "      <td>https://sg.sicpama.com/menus</td>\n",
       "      <td>None</td>\n",
       "      <td>None</td>\n",
       "      <td>None</td>\n",
       "      <td>1111130751.16881</td>\n",
       "      <td>first_visit</td>\n",
       "      <td>https://sg.sicpama.com/menus</td>\n",
       "    </tr>\n",
       "    <tr>\n",
       "      <th>3</th>\n",
       "      <td>page_title</td>\n",
       "      <td>Order Together</td>\n",
       "      <td>None</td>\n",
       "      <td>None</td>\n",
       "      <td>None</td>\n",
       "      <td>1111130751.16881</td>\n",
       "      <td>first_visit</td>\n",
       "      <td>Order Together</td>\n",
       "    </tr>\n",
       "    <tr>\n",
       "      <th>4</th>\n",
       "      <td>ga_session_number</td>\n",
       "      <td>None</td>\n",
       "      <td>1.0</td>\n",
       "      <td>None</td>\n",
       "      <td>None</td>\n",
       "      <td>1111130751.16881</td>\n",
       "      <td>first_visit</td>\n",
       "      <td>1.0</td>\n",
       "    </tr>\n",
       "    <tr>\n",
       "      <th>...</th>\n",
       "      <td>...</td>\n",
       "      <td>...</td>\n",
       "      <td>...</td>\n",
       "      <td>...</td>\n",
       "      <td>...</td>\n",
       "      <td>...</td>\n",
       "      <td>...</td>\n",
       "      <td>...</td>\n",
       "    </tr>\n",
       "    <tr>\n",
       "      <th>17619</th>\n",
       "      <td>page_location</td>\n",
       "      <td>https://sg.sicpama.com/auth/?redirectToPath=%2...</td>\n",
       "      <td>None</td>\n",
       "      <td>None</td>\n",
       "      <td>None</td>\n",
       "      <td>1346799006.16914</td>\n",
       "      <td>user_engagement</td>\n",
       "      <td>https://sg.sicpama.com/auth/?redirectToPath=%2...</td>\n",
       "    </tr>\n",
       "    <tr>\n",
       "      <th>17620</th>\n",
       "      <td>page_title</td>\n",
       "      <td>Order Together</td>\n",
       "      <td>None</td>\n",
       "      <td>None</td>\n",
       "      <td>None</td>\n",
       "      <td>1346799006.16914</td>\n",
       "      <td>user_engagement</td>\n",
       "      <td>Order Together</td>\n",
       "    </tr>\n",
       "    <tr>\n",
       "      <th>17621</th>\n",
       "      <td>page_referrer</td>\n",
       "      <td>https://sg.sicpama.com/menus</td>\n",
       "      <td>None</td>\n",
       "      <td>None</td>\n",
       "      <td>None</td>\n",
       "      <td>1346799006.16914</td>\n",
       "      <td>user_engagement</td>\n",
       "      <td>https://sg.sicpama.com/menus</td>\n",
       "    </tr>\n",
       "    <tr>\n",
       "      <th>17622</th>\n",
       "      <td>ga_session_id</td>\n",
       "      <td>None</td>\n",
       "      <td>1691398073.0</td>\n",
       "      <td>None</td>\n",
       "      <td>None</td>\n",
       "      <td>1346799006.16914</td>\n",
       "      <td>user_engagement</td>\n",
       "      <td>1691398073.0</td>\n",
       "    </tr>\n",
       "    <tr>\n",
       "      <th>17623</th>\n",
       "      <td>ga_session_number</td>\n",
       "      <td>None</td>\n",
       "      <td>1.0</td>\n",
       "      <td>None</td>\n",
       "      <td>None</td>\n",
       "      <td>1346799006.16914</td>\n",
       "      <td>user_engagement</td>\n",
       "      <td>1.0</td>\n",
       "    </tr>\n",
       "  </tbody>\n",
       "</table>\n",
       "<p>17624 rows × 8 columns</p>\n",
       "</div>"
      ],
      "text/plain": [
       "                     key                                 value.string_value  \\\n",
       "0          ga_session_id                                               None   \n",
       "1          page_referrer  https://sg.sicpama.com/?token=oJiCYgqxZCRDQ3zq...   \n",
       "2          page_location                       https://sg.sicpama.com/menus   \n",
       "3             page_title                                     Order Together   \n",
       "4      ga_session_number                                               None   \n",
       "...                  ...                                                ...   \n",
       "17619      page_location  https://sg.sicpama.com/auth/?redirectToPath=%2...   \n",
       "17620         page_title                                     Order Together   \n",
       "17621      page_referrer                       https://sg.sicpama.com/menus   \n",
       "17622      ga_session_id                                               None   \n",
       "17623  ga_session_number                                               None   \n",
       "\n",
       "      value.int_value value.float_value value.double_value    user_pseudo_id  \\\n",
       "0        1688096369.0              None               None  1111130751.16881   \n",
       "1                None              None               None  1111130751.16881   \n",
       "2                None              None               None  1111130751.16881   \n",
       "3                None              None               None  1111130751.16881   \n",
       "4                 1.0              None               None  1111130751.16881   \n",
       "...               ...               ...                ...               ...   \n",
       "17619            None              None               None  1346799006.16914   \n",
       "17620            None              None               None  1346799006.16914   \n",
       "17621            None              None               None  1346799006.16914   \n",
       "17622    1691398073.0              None               None  1346799006.16914   \n",
       "17623             1.0              None               None  1346799006.16914   \n",
       "\n",
       "            event_name                                              value  \n",
       "0          first_visit                                       1688096369.0  \n",
       "1          first_visit  https://sg.sicpama.com/?token=oJiCYgqxZCRDQ3zq...  \n",
       "2          first_visit                       https://sg.sicpama.com/menus  \n",
       "3          first_visit                                     Order Together  \n",
       "4          first_visit                                                1.0  \n",
       "...                ...                                                ...  \n",
       "17619  user_engagement  https://sg.sicpama.com/auth/?redirectToPath=%2...  \n",
       "17620  user_engagement                                     Order Together  \n",
       "17621  user_engagement                       https://sg.sicpama.com/menus  \n",
       "17622  user_engagement                                       1691398073.0  \n",
       "17623  user_engagement                                                1.0  \n",
       "\n",
       "[17624 rows x 8 columns]"
      ]
     },
     "execution_count": 394,
     "metadata": {},
     "output_type": "execute_result"
    }
   ],
   "source": [
    "ui_df"
   ]
  },
  {
   "cell_type": "code",
   "execution_count": 384,
   "id": "93e55941-f05a-41a7-8846-e9cd8122d024",
   "metadata": {
    "scrolled": true
   },
   "outputs": [],
   "source": [
    "ui_df = pd.json_normalize(df.to_dict(orient='records'), record_path='event_params', meta=['user_pseudo_id','event_name'])"
   ]
  },
  {
   "cell_type": "code",
   "execution_count": 385,
   "id": "ece15308-db2b-49f5-9e01-041098ccbfc5",
   "metadata": {},
   "outputs": [],
   "source": [
    "ui_df['value'] = ui_df.drop([\"key\", \"user_pseudo_id\",\"event_name\"], axis=1).apply(lambda row: ''.join(str(value) for value in row if pd.notna(value)), axis=1)"
   ]
  },
  {
   "cell_type": "code",
   "execution_count": 399,
   "id": "cfbed0c3-4d68-468c-a19d-a9a8600f5d5d",
   "metadata": {},
   "outputs": [],
   "source": [
    "interactions_df = ui_df.pivot_table(index='user_pseudo_id', columns='key', values='value', aggfunc=lambda x: ', '.join(x)).reset_index()"
   ]
  },
  {
   "cell_type": "code",
   "execution_count": 387,
   "id": "f9b580be-09db-44f3-bd67-33944f60cb5b",
   "metadata": {
    "scrolled": true
   },
   "outputs": [
    {
     "data": {
      "text/plain": [
       "<Axes: ylabel='key'>"
      ]
     },
     "execution_count": 387,
     "metadata": {},
     "output_type": "execute_result"
    },
    {
     "data": {
      "image/png": "[encoded data removed]",
      "text/plain": [
       "<Figure size 640x480 with 1 Axes>"
      ]
     },
     "metadata": {},
     "output_type": "display_data"
    }
   ],
   "source": [
    "interactions_df.count().sort_values().plot(kind=\"barh\")"
   ]
  },
  {
   "cell_type": "code",
   "execution_count": 401,
   "id": "6cdb5575-53c7-4013-9828-bd81aeefa13e",
   "metadata": {},
   "outputs": [],
   "source": [
    "events_df = flattened_df.pivot_table(index=['event_name'], columns='key', values='value', aggfunc=lambda x: ', '.join(x)).reset_index()"
   ]
  },
  {
   "cell_type": "code",
   "execution_count": 403,
   "id": "2f865b5a-63ba-47e9-b022-4f2738abdb2c",
   "metadata": {
    "scrolled": true
   },
   "outputs": [
    {
     "data": {
      "text/html": [
       "<div>\n",
       "<style scoped>\n",
       "    .dataframe tbody tr th:only-of-type {\n",
       "        vertical-align: middle;\n",
       "    }\n",
       "\n",
       "    .dataframe tbody tr th {\n",
       "        vertical-align: top;\n",
       "    }\n",
       "\n",
       "    .dataframe thead th {\n",
       "        text-align: right;\n",
       "    }\n",
       "</style>\n",
       "<table border=\"1\" class=\"dataframe\">\n",
       "  <thead>\n",
       "    <tr style=\"text-align: right;\">\n",
       "      <th>key</th>\n",
       "      <th>event_name</th>\n",
       "      <th>Click_1</th>\n",
       "      <th>Click_2</th>\n",
       "      <th>Click_3</th>\n",
       "      <th>Click_4</th>\n",
       "      <th>Click_5</th>\n",
       "      <th>Event_menu</th>\n",
       "      <th>campaign</th>\n",
       "      <th>category_id</th>\n",
       "      <th>engaged_session_event</th>\n",
       "      <th>...</th>\n",
       "      <th>medium</th>\n",
       "      <th>menu_card</th>\n",
       "      <th>options</th>\n",
       "      <th>page_location</th>\n",
       "      <th>page_referrer</th>\n",
       "      <th>page_title</th>\n",
       "      <th>percent_scrolled</th>\n",
       "      <th>session_engaged</th>\n",
       "      <th>source</th>\n",
       "      <th>text</th>\n",
       "    </tr>\n",
       "  </thead>\n",
       "  <tbody>\n",
       "    <tr>\n",
       "      <th>0</th>\n",
       "      <td>Category</td>\n",
       "      <td>NaN</td>\n",
       "      <td>NaN</td>\n",
       "      <td>NaN</td>\n",
       "      <td>NaN</td>\n",
       "      <td>NaN</td>\n",
       "      <td>NaN</td>\n",
       "      <td>NaN</td>\n",
       "      <td>category_11, category_11, category_8, category...</td>\n",
       "      <td>1.0, 1.0, 1.0, 1.0, 1.0, 1.0, 1.0, 1.0, 1.0</td>\n",
       "      <td>...</td>\n",
       "      <td>NaN</td>\n",
       "      <td>NaN</td>\n",
       "      <td>NaN</td>\n",
       "      <td>https://sg.sicpama.com/menus, https://sg.sicpa...</td>\n",
       "      <td>https://sg.sicpama.com/?token=o8Av5LTW6kr78pY0...</td>\n",
       "      <td>Order Together, Order Together, Order Together...</td>\n",
       "      <td>NaN</td>\n",
       "      <td>1, 1, 1, 1, 1, 1, 1, 1, 1, 1, 1, 1, 1, 1, 1, 1...</td>\n",
       "      <td>NaN</td>\n",
       "      <td>NaN</td>\n",
       "    </tr>\n",
       "    <tr>\n",
       "      <th>1</th>\n",
       "      <td>Click</td>\n",
       "      <td>hite border-b&gt;div.flex overflow-y-hidden overf...</td>\n",
       "      <td>v.App&gt;div.container-wrapper&gt;div.px-4 py-1 over...</td>\n",
       "      <td>html:nth-child(2)&gt;body:nth-child(2)&gt;div#root&gt;d...</td>\n",
       "      <td>eact-modal-sheet-content &gt;div.w-full h-full fl...</td>\n",
       "      <td>html:nth-child(2)&gt;body:nth-child(2)&gt;div:nth-ch...</td>\n",
       "      <td>NaN</td>\n",
       "      <td>(referral), (referral), (referral), (referral)...</td>\n",
       "      <td>NaN</td>\n",
       "      <td>NaN</td>\n",
       "      <td>...</td>\n",
       "      <td>referral, referral, referral, referral, referr...</td>\n",
       "      <td>NaN</td>\n",
       "      <td>NaN</td>\n",
       "      <td>https://sg.sicpama.com/menus, https://sg.sicpa...</td>\n",
       "      <td>https://sg.sicpama.com/?token=f71qi4ayXkG2G5Hs...</td>\n",
       "      <td>Order Together, Order Together, Order Together...</td>\n",
       "      <td>NaN</td>\n",
       "      <td>0, 0, 0, 1, 1, 1, 0, 0, 0, 0, 1, 1, 1, 1, 1, 1...</td>\n",
       "      <td>accounts.google.com, accounts.google.com, acco...</td>\n",
       "      <td>NaN</td>\n",
       "    </tr>\n",
       "    <tr>\n",
       "      <th>2</th>\n",
       "      <td>Event_menu</td>\n",
       "      <td>NaN</td>\n",
       "      <td>NaN</td>\n",
       "      <td>NaN</td>\n",
       "      <td>NaN</td>\n",
       "      <td>NaN</td>\n",
       "      <td>event_menu_47, event_menu_47, event_menu_47, e...</td>\n",
       "      <td>NaN</td>\n",
       "      <td>NaN</td>\n",
       "      <td>1.0, 1.0, 1.0</td>\n",
       "      <td>...</td>\n",
       "      <td>NaN</td>\n",
       "      <td>NaN</td>\n",
       "      <td>NaN</td>\n",
       "      <td>https://sg.sicpama.com/menus, https://sg.sicpa...</td>\n",
       "      <td>https://sg.sicpama.com/?token=o8Av5LTW6kr78pY0...</td>\n",
       "      <td>Order Together, Order Together, Order Together...</td>\n",
       "      <td>NaN</td>\n",
       "      <td>0, 1, 1, 1, 1, 1, 1, 1, 1, 1, 1, 1</td>\n",
       "      <td>NaN</td>\n",
       "      <td>NaN</td>\n",
       "    </tr>\n",
       "    <tr>\n",
       "      <th>3</th>\n",
       "      <td>Login_btn</td>\n",
       "      <td>NaN</td>\n",
       "      <td>NaN</td>\n",
       "      <td>NaN</td>\n",
       "      <td>NaN</td>\n",
       "      <td>NaN</td>\n",
       "      <td>NaN</td>\n",
       "      <td>NaN</td>\n",
       "      <td>NaN</td>\n",
       "      <td>1.0, 1.0, 1.0, 1.0, 1.0</td>\n",
       "      <td>...</td>\n",
       "      <td>NaN</td>\n",
       "      <td>NaN</td>\n",
       "      <td>NaN</td>\n",
       "      <td>https://sg.sicpama.com/menus, https://sg.sicpa...</td>\n",
       "      <td>https://sg.sicpama.com/?token=de9c2c4d-31b9-43...</td>\n",
       "      <td>Order Together, Order Together, Order Together...</td>\n",
       "      <td>NaN</td>\n",
       "      <td>1, 0, 0, 0, 0, 0, 1, 0, 0, 0</td>\n",
       "      <td>NaN</td>\n",
       "      <td>NaN</td>\n",
       "    </tr>\n",
       "    <tr>\n",
       "      <th>4</th>\n",
       "      <td>Menu_card</td>\n",
       "      <td>NaN</td>\n",
       "      <td>NaN</td>\n",
       "      <td>NaN</td>\n",
       "      <td>NaN</td>\n",
       "      <td>NaN</td>\n",
       "      <td>NaN</td>\n",
       "      <td>NaN</td>\n",
       "      <td>NaN</td>\n",
       "      <td>1.0, 1.0</td>\n",
       "      <td>...</td>\n",
       "      <td>NaN</td>\n",
       "      <td>menu_54, menu_123, menu_59, menu_107, menu_57,...</td>\n",
       "      <td>NaN</td>\n",
       "      <td>https://sg.sicpama.com/menus, https://sg.sicpa...</td>\n",
       "      <td>https://sg.sicpama.com/?token=oJiCYgqxZCRDQ3zq...</td>\n",
       "      <td>Order Together, Order Together, Order Together...</td>\n",
       "      <td>NaN</td>\n",
       "      <td>1, 1, 1, 1, 1, 1, 1, 1, 1, 1, 1, 1, 1, 1, 1, 1...</td>\n",
       "      <td>NaN</td>\n",
       "      <td>Grilled Chicken, TWG Tea for 2 Vanilla Bourbon...</td>\n",
       "    </tr>\n",
       "    <tr>\n",
       "      <th>5</th>\n",
       "      <td>Pay All</td>\n",
       "      <td>NaN</td>\n",
       "      <td>NaN</td>\n",
       "      <td>NaN</td>\n",
       "      <td>NaN</td>\n",
       "      <td>NaN</td>\n",
       "      <td>NaN</td>\n",
       "      <td>NaN</td>\n",
       "      <td>NaN</td>\n",
       "      <td>1.0, 1.0, 1.0, 1.0</td>\n",
       "      <td>...</td>\n",
       "      <td>NaN</td>\n",
       "      <td>NaN</td>\n",
       "      <td>its_on_me, its_on_me, its_on_me, its_on_me, it...</td>\n",
       "      <td>https://sg.sicpama.com/tab, https://sg.sicpama...</td>\n",
       "      <td>https://sg.sicpama.com/menus, https://sg.sicpa...</td>\n",
       "      <td>Order Together, Order Together, Order Together...</td>\n",
       "      <td>NaN</td>\n",
       "      <td>1, 1, 1, 1, 1, 1</td>\n",
       "      <td>NaN</td>\n",
       "      <td>NaN</td>\n",
       "    </tr>\n",
       "    <tr>\n",
       "      <th>6</th>\n",
       "      <td>Pay Mine</td>\n",
       "      <td>NaN</td>\n",
       "      <td>NaN</td>\n",
       "      <td>NaN</td>\n",
       "      <td>NaN</td>\n",
       "      <td>NaN</td>\n",
       "      <td>NaN</td>\n",
       "      <td>(referral)</td>\n",
       "      <td>NaN</td>\n",
       "      <td>1.0, 1.0, 1.0, 1.0, 1.0, 1.0, 1.0, 1.0</td>\n",
       "      <td>...</td>\n",
       "      <td>referral</td>\n",
       "      <td>NaN</td>\n",
       "      <td>pay_mine, pay_mine, pay_mine, pay_mine, pay_mi...</td>\n",
       "      <td>https://sg.sicpama.com/tab, https://sg.sicpama...</td>\n",
       "      <td>https://sg.sicpama.com/menus, https://sg.sicpa...</td>\n",
       "      <td>Order Together, Order Together, Order Together...</td>\n",
       "      <td>NaN</td>\n",
       "      <td>1, 1, 1, 1, 1, 1, 1, 1, 1, 1, 1, 1, 1, 1, 1, 1...</td>\n",
       "      <td>accounts.google.com</td>\n",
       "      <td>NaN</td>\n",
       "    </tr>\n",
       "    <tr>\n",
       "      <th>7</th>\n",
       "      <td>Split evenly</td>\n",
       "      <td>NaN</td>\n",
       "      <td>NaN</td>\n",
       "      <td>NaN</td>\n",
       "      <td>NaN</td>\n",
       "      <td>NaN</td>\n",
       "      <td>NaN</td>\n",
       "      <td>NaN</td>\n",
       "      <td>NaN</td>\n",
       "      <td>1.0, 1.0, 1.0, 1.0, 1.0, 1.0</td>\n",
       "      <td>...</td>\n",
       "      <td>NaN</td>\n",
       "      <td>NaN</td>\n",
       "      <td>split_evenly, split_evenly, split_evenly, spli...</td>\n",
       "      <td>https://sg.sicpama.com/tab, https://sg.sicpama...</td>\n",
       "      <td>https://sg.sicpama.com/menus, https://sg.sicpa...</td>\n",
       "      <td>Order Together, Order Together, Order Together...</td>\n",
       "      <td>NaN</td>\n",
       "      <td>1, 1, 1, 1, 1, 1</td>\n",
       "      <td>NaN</td>\n",
       "      <td>NaN</td>\n",
       "    </tr>\n",
       "    <tr>\n",
       "      <th>8</th>\n",
       "      <td>add_menu</td>\n",
       "      <td>NaN</td>\n",
       "      <td>NaN</td>\n",
       "      <td>NaN</td>\n",
       "      <td>NaN</td>\n",
       "      <td>NaN</td>\n",
       "      <td>NaN</td>\n",
       "      <td>NaN</td>\n",
       "      <td>NaN</td>\n",
       "      <td>1.0</td>\n",
       "      <td>...</td>\n",
       "      <td>NaN</td>\n",
       "      <td>NaN</td>\n",
       "      <td>NaN</td>\n",
       "      <td>https://sg.sicpama.com/menus</td>\n",
       "      <td>https://sg.sicpama.com/auth/callback/google?st...</td>\n",
       "      <td>Order Together</td>\n",
       "      <td>NaN</td>\n",
       "      <td>1</td>\n",
       "      <td>NaN</td>\n",
       "      <td>$1.00 메뉴담기</td>\n",
       "    </tr>\n",
       "    <tr>\n",
       "      <th>9</th>\n",
       "      <td>final_pay_btn</td>\n",
       "      <td>NaN</td>\n",
       "      <td>NaN</td>\n",
       "      <td>NaN</td>\n",
       "      <td>NaN</td>\n",
       "      <td>NaN</td>\n",
       "      <td>NaN</td>\n",
       "      <td>NaN</td>\n",
       "      <td>NaN</td>\n",
       "      <td>1.0, 1.0, 1.0, 1.0, 1.0</td>\n",
       "      <td>...</td>\n",
       "      <td>NaN</td>\n",
       "      <td>NaN</td>\n",
       "      <td>NaN</td>\n",
       "      <td>https://sg.sicpama.com/payment, https://sg.sic...</td>\n",
       "      <td>https://sg.sicpama.com/tab, https://sg.sicpama...</td>\n",
       "      <td>Order Together, Order Together, Order Together...</td>\n",
       "      <td>NaN</td>\n",
       "      <td>1, 1, 1, 1, 0, 1, 1, 1, 1, 1, 1, 1, 1, 1, 1, 1, 1</td>\n",
       "      <td>NaN</td>\n",
       "      <td>NaN</td>\n",
       "    </tr>\n",
       "    <tr>\n",
       "      <th>10</th>\n",
       "      <td>first_visit</td>\n",
       "      <td>NaN</td>\n",
       "      <td>NaN</td>\n",
       "      <td>NaN</td>\n",
       "      <td>NaN</td>\n",
       "      <td>NaN</td>\n",
       "      <td>NaN</td>\n",
       "      <td>NaN</td>\n",
       "      <td>NaN</td>\n",
       "      <td>1.0, 1.0, 1.0, 1.0, 1.0, 1.0, 1.0, 1.0, 1.0, 1.0</td>\n",
       "      <td>...</td>\n",
       "      <td>NaN</td>\n",
       "      <td>NaN</td>\n",
       "      <td>NaN</td>\n",
       "      <td>https://sg.sicpama.com/menus, https://sg.sicpa...</td>\n",
       "      <td>https://sg.sicpama.com/?token=oJiCYgqxZCRDQ3zq...</td>\n",
       "      <td>Order Together, Order Together, Order Together...</td>\n",
       "      <td>NaN</td>\n",
       "      <td>NaN</td>\n",
       "      <td>NaN</td>\n",
       "      <td>NaN</td>\n",
       "    </tr>\n",
       "    <tr>\n",
       "      <th>11</th>\n",
       "      <td>page_view</td>\n",
       "      <td>NaN</td>\n",
       "      <td>NaN</td>\n",
       "      <td>NaN</td>\n",
       "      <td>NaN</td>\n",
       "      <td>NaN</td>\n",
       "      <td>NaN</td>\n",
       "      <td>(referral), (referral), (referral), (referral)...</td>\n",
       "      <td>NaN</td>\n",
       "      <td>1.0, 1.0, 1.0, 1.0, 1.0, 1.0, 1.0, 1.0, 1.0, 1...</td>\n",
       "      <td>...</td>\n",
       "      <td>referral, referral, referral, referral, referr...</td>\n",
       "      <td>NaN</td>\n",
       "      <td>NaN</td>\n",
       "      <td>https://sg.sicpama.com/menus, https://sg.sicpa...</td>\n",
       "      <td>https://sg.sicpama.com/?token=oJiCYgqxZCRDQ3zq...</td>\n",
       "      <td>Order Together, Order Together, SICPAMA Store ...</td>\n",
       "      <td>NaN</td>\n",
       "      <td>0, 1, 0, 1, 1, 1, 1, 1, 1, 0, 1, 1, 1, 1, 1, 1...</td>\n",
       "      <td>logins.daum.net, m.facebook.com, m.facebook.co...</td>\n",
       "      <td>NaN</td>\n",
       "    </tr>\n",
       "    <tr>\n",
       "      <th>12</th>\n",
       "      <td>quick_add_menu</td>\n",
       "      <td>NaN</td>\n",
       "      <td>NaN</td>\n",
       "      <td>NaN</td>\n",
       "      <td>NaN</td>\n",
       "      <td>NaN</td>\n",
       "      <td>NaN</td>\n",
       "      <td>NaN</td>\n",
       "      <td>NaN</td>\n",
       "      <td>1.0, 1.0, 1.0, 1.0, 1.0, 1.0, 1.0, 1.0, 1.0</td>\n",
       "      <td>...</td>\n",
       "      <td>NaN</td>\n",
       "      <td>NaN</td>\n",
       "      <td>NaN</td>\n",
       "      <td>https://sg.sicpama.com/menus, https://order.si...</td>\n",
       "      <td>https://sg.sicpama.com/?token=oJiCYgqxZCRDQ3zq...</td>\n",
       "      <td>Order Together, Order Together, Order Together...</td>\n",
       "      <td>NaN</td>\n",
       "      <td>1, 1, 1, 1, 1, 1, 1, 1, 1, 1, 1, 1, 1, 1, 1, 1...</td>\n",
       "      <td>NaN</td>\n",
       "      <td>NaN</td>\n",
       "    </tr>\n",
       "    <tr>\n",
       "      <th>13</th>\n",
       "      <td>react-modal-sheet-backdrop</td>\n",
       "      <td>NaN</td>\n",
       "      <td>NaN</td>\n",
       "      <td>NaN</td>\n",
       "      <td>NaN</td>\n",
       "      <td>NaN</td>\n",
       "      <td>NaN</td>\n",
       "      <td>NaN</td>\n",
       "      <td>NaN</td>\n",
       "      <td>1.0, 1.0, 1.0</td>\n",
       "      <td>...</td>\n",
       "      <td>NaN</td>\n",
       "      <td>NaN</td>\n",
       "      <td>NaN</td>\n",
       "      <td>https://sg.sicpama.com/menus, https://sg.sicpa...</td>\n",
       "      <td>https://sg.sicpama.com/?token=oJiCYgqxZCRDQ3zq...</td>\n",
       "      <td>Order Together, Order Together, Order Together...</td>\n",
       "      <td>NaN</td>\n",
       "      <td>1, 1, 1, 1, 1, 1, 1, 1, 1, 1, 1, 1, 1, 1, 1, 1</td>\n",
       "      <td>NaN</td>\n",
       "      <td>NaN</td>\n",
       "    </tr>\n",
       "    <tr>\n",
       "      <th>14</th>\n",
       "      <td>scroll</td>\n",
       "      <td>NaN</td>\n",
       "      <td>NaN</td>\n",
       "      <td>NaN</td>\n",
       "      <td>NaN</td>\n",
       "      <td>NaN</td>\n",
       "      <td>NaN</td>\n",
       "      <td>(referral), (referral), (referral), (referral)...</td>\n",
       "      <td>NaN</td>\n",
       "      <td>1.0, 1.0, 1.0, 1.0, 1.0, 1.0, 1.0, 1.0, 1.0, 1...</td>\n",
       "      <td>...</td>\n",
       "      <td>referral, referral, referral, referral, referr...</td>\n",
       "      <td>NaN</td>\n",
       "      <td>NaN</td>\n",
       "      <td>https://sg.sicpama.com/menus, https://sg.sicpa...</td>\n",
       "      <td>https://sg.sicpama.com/?token=oJiCYgqxZCRDQ3zq...</td>\n",
       "      <td>Order Together, Order Together, SICPAMA Store ...</td>\n",
       "      <td>90.0, 90.0, 90.0, 90.0, 90.0, 90.0, 90.0, 90.0...</td>\n",
       "      <td>0, 1, 0, 1, 1, 1, 1, 0, 0, 0, 0, 1, 0, 0, 1, 1...</td>\n",
       "      <td>logins.daum.net, m.facebook.com, m.facebook.co...</td>\n",
       "      <td>NaN</td>\n",
       "    </tr>\n",
       "    <tr>\n",
       "      <th>15</th>\n",
       "      <td>session_start</td>\n",
       "      <td>NaN</td>\n",
       "      <td>NaN</td>\n",
       "      <td>NaN</td>\n",
       "      <td>NaN</td>\n",
       "      <td>NaN</td>\n",
       "      <td>NaN</td>\n",
       "      <td>NaN</td>\n",
       "      <td>NaN</td>\n",
       "      <td>1.0, 1.0, 1.0, 1.0, 1.0, 1.0, 1.0, 1.0, 1.0, 1...</td>\n",
       "      <td>...</td>\n",
       "      <td>NaN</td>\n",
       "      <td>NaN</td>\n",
       "      <td>NaN</td>\n",
       "      <td>https://sg.sicpama.com/menus, https://store-da...</td>\n",
       "      <td>https://sg.sicpama.com/?token=oJiCYgqxZCRDQ3zq...</td>\n",
       "      <td>Order Together, SICPAMA Store Dashboard, Order...</td>\n",
       "      <td>NaN</td>\n",
       "      <td>1.0, 1.0, 1.0, 1.0, 1.0, 1.0, 1.0, 1.0, 1.0, 1...</td>\n",
       "      <td>NaN</td>\n",
       "      <td>NaN</td>\n",
       "    </tr>\n",
       "    <tr>\n",
       "      <th>16</th>\n",
       "      <td>tab_chg_amt</td>\n",
       "      <td>NaN</td>\n",
       "      <td>NaN</td>\n",
       "      <td>NaN</td>\n",
       "      <td>NaN</td>\n",
       "      <td>NaN</td>\n",
       "      <td>NaN</td>\n",
       "      <td>NaN</td>\n",
       "      <td>NaN</td>\n",
       "      <td>1.0</td>\n",
       "      <td>...</td>\n",
       "      <td>NaN</td>\n",
       "      <td>NaN</td>\n",
       "      <td>NaN</td>\n",
       "      <td>https://sg.sicpama.com/tab</td>\n",
       "      <td>https://sg.sicpama.com/menus</td>\n",
       "      <td>Order Together</td>\n",
       "      <td>NaN</td>\n",
       "      <td>1</td>\n",
       "      <td>NaN</td>\n",
       "      <td>NaN</td>\n",
       "    </tr>\n",
       "    <tr>\n",
       "      <th>17</th>\n",
       "      <td>user_engagement</td>\n",
       "      <td>NaN</td>\n",
       "      <td>NaN</td>\n",
       "      <td>NaN</td>\n",
       "      <td>NaN</td>\n",
       "      <td>NaN</td>\n",
       "      <td>NaN</td>\n",
       "      <td>(referral), (referral), (referral), (referral)...</td>\n",
       "      <td>NaN</td>\n",
       "      <td>1.0, 1.0, 1.0, 1.0, 1.0, 1.0, 1.0, 1.0, 1.0, 1...</td>\n",
       "      <td>...</td>\n",
       "      <td>referral, referral, referral, referral, referr...</td>\n",
       "      <td>NaN</td>\n",
       "      <td>NaN</td>\n",
       "      <td>https://sg.sicpama.com/auth/?redirectToPath=%2...</td>\n",
       "      <td>https://sg.sicpama.com/menus, https://order.si...</td>\n",
       "      <td>Order Together, Order Together, Order Together...</td>\n",
       "      <td>NaN</td>\n",
       "      <td>1, 1, 1, 0, 1, 1, 1, 1, 1, 1, 1, 1, 1, 1, 1, 1...</td>\n",
       "      <td>logins.daum.net, m.facebook.com, m.facebook.co...</td>\n",
       "      <td>NaN</td>\n",
       "    </tr>\n",
       "  </tbody>\n",
       "</table>\n",
       "<p>18 rows × 26 columns</p>\n",
       "</div>"
      ],
      "text/plain": [
       "key                  event_name  \\\n",
       "0                      Category   \n",
       "1                         Click   \n",
       "2                    Event_menu   \n",
       "3                     Login_btn   \n",
       "4                     Menu_card   \n",
       "5                       Pay All   \n",
       "6                      Pay Mine   \n",
       "7                  Split evenly   \n",
       "8                      add_menu   \n",
       "9                 final_pay_btn   \n",
       "10                  first_visit   \n",
       "11                    page_view   \n",
       "12               quick_add_menu   \n",
       "13   react-modal-sheet-backdrop   \n",
       "14                       scroll   \n",
       "15                session_start   \n",
       "16                  tab_chg_amt   \n",
       "17              user_engagement   \n",
       "\n",
       "key                                            Click_1  \\\n",
       "0                                                  NaN   \n",
       "1    hite border-b>div.flex overflow-y-hidden overf...   \n",
       "2                                                  NaN   \n",
       "3                                                  NaN   \n",
       "4                                                  NaN   \n",
       "5                                                  NaN   \n",
       "6                                                  NaN   \n",
       "7                                                  NaN   \n",
       "8                                                  NaN   \n",
       "9                                                  NaN   \n",
       "10                                                 NaN   \n",
       "11                                                 NaN   \n",
       "12                                                 NaN   \n",
       "13                                                 NaN   \n",
       "14                                                 NaN   \n",
       "15                                                 NaN   \n",
       "16                                                 NaN   \n",
       "17                                                 NaN   \n",
       "\n",
       "key                                            Click_2  \\\n",
       "0                                                  NaN   \n",
       "1    v.App>div.container-wrapper>div.px-4 py-1 over...   \n",
       "2                                                  NaN   \n",
       "3                                                  NaN   \n",
       "4                                                  NaN   \n",
       "5                                                  NaN   \n",
       "6                                                  NaN   \n",
       "7                                                  NaN   \n",
       "8                                                  NaN   \n",
       "9                                                  NaN   \n",
       "10                                                 NaN   \n",
       "11                                                 NaN   \n",
       "12                                                 NaN   \n",
       "13                                                 NaN   \n",
       "14                                                 NaN   \n",
       "15                                                 NaN   \n",
       "16                                                 NaN   \n",
       "17                                                 NaN   \n",
       "\n",
       "key                                            Click_3  \\\n",
       "0                                                  NaN   \n",
       "1    html:nth-child(2)>body:nth-child(2)>div#root>d...   \n",
       "2                                                  NaN   \n",
       "3                                                  NaN   \n",
       "4                                                  NaN   \n",
       "5                                                  NaN   \n",
       "6                                                  NaN   \n",
       "7                                                  NaN   \n",
       "8                                                  NaN   \n",
       "9                                                  NaN   \n",
       "10                                                 NaN   \n",
       "11                                                 NaN   \n",
       "12                                                 NaN   \n",
       "13                                                 NaN   \n",
       "14                                                 NaN   \n",
       "15                                                 NaN   \n",
       "16                                                 NaN   \n",
       "17                                                 NaN   \n",
       "\n",
       "key                                            Click_4  \\\n",
       "0                                                  NaN   \n",
       "1    eact-modal-sheet-content >div.w-full h-full fl...   \n",
       "2                                                  NaN   \n",
       "3                                                  NaN   \n",
       "4                                                  NaN   \n",
       "5                                                  NaN   \n",
       "6                                                  NaN   \n",
       "7                                                  NaN   \n",
       "8                                                  NaN   \n",
       "9                                                  NaN   \n",
       "10                                                 NaN   \n",
       "11                                                 NaN   \n",
       "12                                                 NaN   \n",
       "13                                                 NaN   \n",
       "14                                                 NaN   \n",
       "15                                                 NaN   \n",
       "16                                                 NaN   \n",
       "17                                                 NaN   \n",
       "\n",
       "key                                            Click_5  \\\n",
       "0                                                  NaN   \n",
       "1    html:nth-child(2)>body:nth-child(2)>div:nth-ch...   \n",
       "2                                                  NaN   \n",
       "3                                                  NaN   \n",
       "4                                                  NaN   \n",
       "5                                                  NaN   \n",
       "6                                                  NaN   \n",
       "7                                                  NaN   \n",
       "8                                                  NaN   \n",
       "9                                                  NaN   \n",
       "10                                                 NaN   \n",
       "11                                                 NaN   \n",
       "12                                                 NaN   \n",
       "13                                                 NaN   \n",
       "14                                                 NaN   \n",
       "15                                                 NaN   \n",
       "16                                                 NaN   \n",
       "17                                                 NaN   \n",
       "\n",
       "key                                         Event_menu  \\\n",
       "0                                                  NaN   \n",
       "1                                                  NaN   \n",
       "2    event_menu_47, event_menu_47, event_menu_47, e...   \n",
       "3                                                  NaN   \n",
       "4                                                  NaN   \n",
       "5                                                  NaN   \n",
       "6                                                  NaN   \n",
       "7                                                  NaN   \n",
       "8                                                  NaN   \n",
       "9                                                  NaN   \n",
       "10                                                 NaN   \n",
       "11                                                 NaN   \n",
       "12                                                 NaN   \n",
       "13                                                 NaN   \n",
       "14                                                 NaN   \n",
       "15                                                 NaN   \n",
       "16                                                 NaN   \n",
       "17                                                 NaN   \n",
       "\n",
       "key                                           campaign  \\\n",
       "0                                                  NaN   \n",
       "1    (referral), (referral), (referral), (referral)...   \n",
       "2                                                  NaN   \n",
       "3                                                  NaN   \n",
       "4                                                  NaN   \n",
       "5                                                  NaN   \n",
       "6                                           (referral)   \n",
       "7                                                  NaN   \n",
       "8                                                  NaN   \n",
       "9                                                  NaN   \n",
       "10                                                 NaN   \n",
       "11   (referral), (referral), (referral), (referral)...   \n",
       "12                                                 NaN   \n",
       "13                                                 NaN   \n",
       "14   (referral), (referral), (referral), (referral)...   \n",
       "15                                                 NaN   \n",
       "16                                                 NaN   \n",
       "17   (referral), (referral), (referral), (referral)...   \n",
       "\n",
       "key                                        category_id  \\\n",
       "0    category_11, category_11, category_8, category...   \n",
       "1                                                  NaN   \n",
       "2                                                  NaN   \n",
       "3                                                  NaN   \n",
       "4                                                  NaN   \n",
       "5                                                  NaN   \n",
       "6                                                  NaN   \n",
       "7                                                  NaN   \n",
       "8                                                  NaN   \n",
       "9                                                  NaN   \n",
       "10                                                 NaN   \n",
       "11                                                 NaN   \n",
       "12                                                 NaN   \n",
       "13                                                 NaN   \n",
       "14                                                 NaN   \n",
       "15                                                 NaN   \n",
       "16                                                 NaN   \n",
       "17                                                 NaN   \n",
       "\n",
       "key                              engaged_session_event  ...  \\\n",
       "0          1.0, 1.0, 1.0, 1.0, 1.0, 1.0, 1.0, 1.0, 1.0  ...   \n",
       "1                                                  NaN  ...   \n",
       "2                                        1.0, 1.0, 1.0  ...   \n",
       "3                              1.0, 1.0, 1.0, 1.0, 1.0  ...   \n",
       "4                                             1.0, 1.0  ...   \n",
       "5                                   1.0, 1.0, 1.0, 1.0  ...   \n",
       "6               1.0, 1.0, 1.0, 1.0, 1.0, 1.0, 1.0, 1.0  ...   \n",
       "7                         1.0, 1.0, 1.0, 1.0, 1.0, 1.0  ...   \n",
       "8                                                  1.0  ...   \n",
       "9                              1.0, 1.0, 1.0, 1.0, 1.0  ...   \n",
       "10    1.0, 1.0, 1.0, 1.0, 1.0, 1.0, 1.0, 1.0, 1.0, 1.0  ...   \n",
       "11   1.0, 1.0, 1.0, 1.0, 1.0, 1.0, 1.0, 1.0, 1.0, 1...  ...   \n",
       "12         1.0, 1.0, 1.0, 1.0, 1.0, 1.0, 1.0, 1.0, 1.0  ...   \n",
       "13                                       1.0, 1.0, 1.0  ...   \n",
       "14   1.0, 1.0, 1.0, 1.0, 1.0, 1.0, 1.0, 1.0, 1.0, 1...  ...   \n",
       "15   1.0, 1.0, 1.0, 1.0, 1.0, 1.0, 1.0, 1.0, 1.0, 1...  ...   \n",
       "16                                                 1.0  ...   \n",
       "17   1.0, 1.0, 1.0, 1.0, 1.0, 1.0, 1.0, 1.0, 1.0, 1...  ...   \n",
       "\n",
       "key                                             medium  \\\n",
       "0                                                  NaN   \n",
       "1    referral, referral, referral, referral, referr...   \n",
       "2                                                  NaN   \n",
       "3                                                  NaN   \n",
       "4                                                  NaN   \n",
       "5                                                  NaN   \n",
       "6                                             referral   \n",
       "7                                                  NaN   \n",
       "8                                                  NaN   \n",
       "9                                                  NaN   \n",
       "10                                                 NaN   \n",
       "11   referral, referral, referral, referral, referr...   \n",
       "12                                                 NaN   \n",
       "13                                                 NaN   \n",
       "14   referral, referral, referral, referral, referr...   \n",
       "15                                                 NaN   \n",
       "16                                                 NaN   \n",
       "17   referral, referral, referral, referral, referr...   \n",
       "\n",
       "key                                          menu_card  \\\n",
       "0                                                  NaN   \n",
       "1                                                  NaN   \n",
       "2                                                  NaN   \n",
       "3                                                  NaN   \n",
       "4    menu_54, menu_123, menu_59, menu_107, menu_57,...   \n",
       "5                                                  NaN   \n",
       "6                                                  NaN   \n",
       "7                                                  NaN   \n",
       "8                                                  NaN   \n",
       "9                                                  NaN   \n",
       "10                                                 NaN   \n",
       "11                                                 NaN   \n",
       "12                                                 NaN   \n",
       "13                                                 NaN   \n",
       "14                                                 NaN   \n",
       "15                                                 NaN   \n",
       "16                                                 NaN   \n",
       "17                                                 NaN   \n",
       "\n",
       "key                                            options  \\\n",
       "0                                                  NaN   \n",
       "1                                                  NaN   \n",
       "2                                                  NaN   \n",
       "3                                                  NaN   \n",
       "4                                                  NaN   \n",
       "5    its_on_me, its_on_me, its_on_me, its_on_me, it...   \n",
       "6    pay_mine, pay_mine, pay_mine, pay_mine, pay_mi...   \n",
       "7    split_evenly, split_evenly, split_evenly, spli...   \n",
       "8                                                  NaN   \n",
       "9                                                  NaN   \n",
       "10                                                 NaN   \n",
       "11                                                 NaN   \n",
       "12                                                 NaN   \n",
       "13                                                 NaN   \n",
       "14                                                 NaN   \n",
       "15                                                 NaN   \n",
       "16                                                 NaN   \n",
       "17                                                 NaN   \n",
       "\n",
       "key                                      page_location  \\\n",
       "0    https://sg.sicpama.com/menus, https://sg.sicpa...   \n",
       "1    https://sg.sicpama.com/menus, https://sg.sicpa...   \n",
       "2    https://sg.sicpama.com/menus, https://sg.sicpa...   \n",
       "3    https://sg.sicpama.com/menus, https://sg.sicpa...   \n",
       "4    https://sg.sicpama.com/menus, https://sg.sicpa...   \n",
       "5    https://sg.sicpama.com/tab, https://sg.sicpama...   \n",
       "6    https://sg.sicpama.com/tab, https://sg.sicpama...   \n",
       "7    https://sg.sicpama.com/tab, https://sg.sicpama...   \n",
       "8                         https://sg.sicpama.com/menus   \n",
       "9    https://sg.sicpama.com/payment, https://sg.sic...   \n",
       "10   https://sg.sicpama.com/menus, https://sg.sicpa...   \n",
       "11   https://sg.sicpama.com/menus, https://sg.sicpa...   \n",
       "12   https://sg.sicpama.com/menus, https://order.si...   \n",
       "13   https://sg.sicpama.com/menus, https://sg.sicpa...   \n",
       "14   https://sg.sicpama.com/menus, https://sg.sicpa...   \n",
       "15   https://sg.sicpama.com/menus, https://store-da...   \n",
       "16                          https://sg.sicpama.com/tab   \n",
       "17   https://sg.sicpama.com/auth/?redirectToPath=%2...   \n",
       "\n",
       "key                                      page_referrer  \\\n",
       "0    https://sg.sicpama.com/?token=o8Av5LTW6kr78pY0...   \n",
       "1    https://sg.sicpama.com/?token=f71qi4ayXkG2G5Hs...   \n",
       "2    https://sg.sicpama.com/?token=o8Av5LTW6kr78pY0...   \n",
       "3    https://sg.sicpama.com/?token=de9c2c4d-31b9-43...   \n",
       "4    https://sg.sicpama.com/?token=oJiCYgqxZCRDQ3zq...   \n",
       "5    https://sg.sicpama.com/menus, https://sg.sicpa...   \n",
       "6    https://sg.sicpama.com/menus, https://sg.sicpa...   \n",
       "7    https://sg.sicpama.com/menus, https://sg.sicpa...   \n",
       "8    https://sg.sicpama.com/auth/callback/google?st...   \n",
       "9    https://sg.sicpama.com/tab, https://sg.sicpama...   \n",
       "10   https://sg.sicpama.com/?token=oJiCYgqxZCRDQ3zq...   \n",
       "11   https://sg.sicpama.com/?token=oJiCYgqxZCRDQ3zq...   \n",
       "12   https://sg.sicpama.com/?token=oJiCYgqxZCRDQ3zq...   \n",
       "13   https://sg.sicpama.com/?token=oJiCYgqxZCRDQ3zq...   \n",
       "14   https://sg.sicpama.com/?token=oJiCYgqxZCRDQ3zq...   \n",
       "15   https://sg.sicpama.com/?token=oJiCYgqxZCRDQ3zq...   \n",
       "16                        https://sg.sicpama.com/menus   \n",
       "17   https://sg.sicpama.com/menus, https://order.si...   \n",
       "\n",
       "key                                         page_title  \\\n",
       "0    Order Together, Order Together, Order Together...   \n",
       "1    Order Together, Order Together, Order Together...   \n",
       "2    Order Together, Order Together, Order Together...   \n",
       "3    Order Together, Order Together, Order Together...   \n",
       "4    Order Together, Order Together, Order Together...   \n",
       "5    Order Together, Order Together, Order Together...   \n",
       "6    Order Together, Order Together, Order Together...   \n",
       "7    Order Together, Order Together, Order Together...   \n",
       "8                                       Order Together   \n",
       "9    Order Together, Order Together, Order Together...   \n",
       "10   Order Together, Order Together, Order Together...   \n",
       "11   Order Together, Order Together, SICPAMA Store ...   \n",
       "12   Order Together, Order Together, Order Together...   \n",
       "13   Order Together, Order Together, Order Together...   \n",
       "14   Order Together, Order Together, SICPAMA Store ...   \n",
       "15   Order Together, SICPAMA Store Dashboard, Order...   \n",
       "16                                      Order Together   \n",
       "17   Order Together, Order Together, Order Together...   \n",
       "\n",
       "key                                   percent_scrolled  \\\n",
       "0                                                  NaN   \n",
       "1                                                  NaN   \n",
       "2                                                  NaN   \n",
       "3                                                  NaN   \n",
       "4                                                  NaN   \n",
       "5                                                  NaN   \n",
       "6                                                  NaN   \n",
       "7                                                  NaN   \n",
       "8                                                  NaN   \n",
       "9                                                  NaN   \n",
       "10                                                 NaN   \n",
       "11                                                 NaN   \n",
       "12                                                 NaN   \n",
       "13                                                 NaN   \n",
       "14   90.0, 90.0, 90.0, 90.0, 90.0, 90.0, 90.0, 90.0...   \n",
       "15                                                 NaN   \n",
       "16                                                 NaN   \n",
       "17                                                 NaN   \n",
       "\n",
       "key                                    session_engaged  \\\n",
       "0    1, 1, 1, 1, 1, 1, 1, 1, 1, 1, 1, 1, 1, 1, 1, 1...   \n",
       "1    0, 0, 0, 1, 1, 1, 0, 0, 0, 0, 1, 1, 1, 1, 1, 1...   \n",
       "2                   0, 1, 1, 1, 1, 1, 1, 1, 1, 1, 1, 1   \n",
       "3                         1, 0, 0, 0, 0, 0, 1, 0, 0, 0   \n",
       "4    1, 1, 1, 1, 1, 1, 1, 1, 1, 1, 1, 1, 1, 1, 1, 1...   \n",
       "5                                     1, 1, 1, 1, 1, 1   \n",
       "6    1, 1, 1, 1, 1, 1, 1, 1, 1, 1, 1, 1, 1, 1, 1, 1...   \n",
       "7                                     1, 1, 1, 1, 1, 1   \n",
       "8                                                    1   \n",
       "9    1, 1, 1, 1, 0, 1, 1, 1, 1, 1, 1, 1, 1, 1, 1, 1, 1   \n",
       "10                                                 NaN   \n",
       "11   0, 1, 0, 1, 1, 1, 1, 1, 1, 0, 1, 1, 1, 1, 1, 1...   \n",
       "12   1, 1, 1, 1, 1, 1, 1, 1, 1, 1, 1, 1, 1, 1, 1, 1...   \n",
       "13      1, 1, 1, 1, 1, 1, 1, 1, 1, 1, 1, 1, 1, 1, 1, 1   \n",
       "14   0, 1, 0, 1, 1, 1, 1, 0, 0, 0, 0, 1, 0, 0, 1, 1...   \n",
       "15   1.0, 1.0, 1.0, 1.0, 1.0, 1.0, 1.0, 1.0, 1.0, 1...   \n",
       "16                                                   1   \n",
       "17   1, 1, 1, 0, 1, 1, 1, 1, 1, 1, 1, 1, 1, 1, 1, 1...   \n",
       "\n",
       "key                                             source  \\\n",
       "0                                                  NaN   \n",
       "1    accounts.google.com, accounts.google.com, acco...   \n",
       "2                                                  NaN   \n",
       "3                                                  NaN   \n",
       "4                                                  NaN   \n",
       "5                                                  NaN   \n",
       "6                                  accounts.google.com   \n",
       "7                                                  NaN   \n",
       "8                                                  NaN   \n",
       "9                                                  NaN   \n",
       "10                                                 NaN   \n",
       "11   logins.daum.net, m.facebook.com, m.facebook.co...   \n",
       "12                                                 NaN   \n",
       "13                                                 NaN   \n",
       "14   logins.daum.net, m.facebook.com, m.facebook.co...   \n",
       "15                                                 NaN   \n",
       "16                                                 NaN   \n",
       "17   logins.daum.net, m.facebook.com, m.facebook.co...   \n",
       "\n",
       "key                                               text  \n",
       "0                                                  NaN  \n",
       "1                                                  NaN  \n",
       "2                                                  NaN  \n",
       "3                                                  NaN  \n",
       "4    Grilled Chicken, TWG Tea for 2 Vanilla Bourbon...  \n",
       "5                                                  NaN  \n",
       "6                                                  NaN  \n",
       "7                                                  NaN  \n",
       "8                                           $1.00 메뉴담기  \n",
       "9                                                  NaN  \n",
       "10                                                 NaN  \n",
       "11                                                 NaN  \n",
       "12                                                 NaN  \n",
       "13                                                 NaN  \n",
       "14                                                 NaN  \n",
       "15                                                 NaN  \n",
       "16                                                 NaN  \n",
       "17                                                 NaN  \n",
       "\n",
       "[18 rows x 26 columns]"
      ]
     },
     "execution_count": 403,
     "metadata": {},
     "output_type": "execute_result"
    }
   ],
   "source": [
    "events_df ## This shows the interactions done by users for each event. "
   ]
  },
  {
   "cell_type": "markdown",
   "id": "411313b0-9480-4b6f-a7d7-5dd54f10b707",
   "metadata": {},
   "source": [
    "### Most frequently visited url links"
   ]
  },
  {
   "cell_type": "code",
   "execution_count": 405,
   "id": "a18cd829-97a4-49e3-ad1e-0c3e33ec992d",
   "metadata": {},
   "outputs": [],
   "source": [
    "url_df = ui_df[ui_df.key == \"page_location\"]"
   ]
  },
  {
   "cell_type": "code",
   "execution_count": 414,
   "id": "1a6d8a4e-8954-4813-aa34-1eb453eb0853",
   "metadata": {
    "scrolled": true
   },
   "outputs": [
    {
     "data": {
      "text/plain": [
       "<Axes: xlabel='value.string_value'>"
      ]
     },
     "execution_count": 414,
     "metadata": {},
     "output_type": "execute_result"
    },
    {
     "data": {
      "image/png": "[encoded data removed]",
      "text/plain": [
       "<Figure size 640x480 with 1 Axes>"
      ]
     },
     "metadata": {},
     "output_type": "display_data"
    }
   ],
   "source": [
    "url_df[\"value.string_value\"].value_counts().head(10).plot(kind=\"bar\") ## get the top 10 url visited by users"
   ]
  },
  {
   "cell_type": "markdown",
   "id": "21598ed3-90c1-4187-98c5-21bb2e9d0c0f",
   "metadata": {},
   "source": [
    "### Most important page title"
   ]
  },
  {
   "cell_type": "code",
   "execution_count": 415,
   "id": "4a5ebc58-80f2-4c34-a83b-572e3f159328",
   "metadata": {},
   "outputs": [],
   "source": [
    "page_title_df = ui_df[ui_df.key == \"page_title\"]"
   ]
  },
  {
   "cell_type": "code",
   "execution_count": 418,
   "id": "f018cd83-5de4-480f-9179-d08aceb37b4d",
   "metadata": {},
   "outputs": [
    {
     "data": {
      "text/plain": [
       "<Axes: xlabel='value.string_value'>"
      ]
     },
     "execution_count": 418,
     "metadata": {},
     "output_type": "execute_result"
    },
    {
     "data": {
      "image/png": "[encoded data removed]",
      "text/plain": [
       "<Figure size 640x480 with 1 Axes>"
      ]
     },
     "metadata": {},
     "output_type": "display_data"
    }
   ],
   "source": [
    "page_title_df[\"value.string_value\"].value_counts().head(10).plot(kind=\"bar\")"
   ]
  },
  {
   "cell_type": "markdown",
   "id": "959ffa53-63af-444f-8c6d-a8450430fc06",
   "metadata": {},
   "source": [
    "# Archive"
   ]
  },
  {
   "cell_type": "code",
   "execution_count": 422,
   "id": "3a7ed67f-fe17-4f0a-b419-209abe91955b",
   "metadata": {
    "scrolled": true
   },
   "outputs": [],
   "source": [
    "# conversion = {}\n",
    "\n",
    "# overall_df = overall_df.astype(conversion)"
   ]
  }
 ],
 "metadata": {
  "kernelspec": {
   "display_name": "Python 3 (ipykernel)",
   "language": "python",
   "name": "python3"
  },
  "language_info": {
   "codemirror_mode": {
    "name": "ipython",
    "version": 3
   },
   "file_extension": ".py",
   "mimetype": "text/x-python",
   "name": "python",
   "nbconvert_exporter": "python",
   "pygments_lexer": "ipython3",
   "version": "3.11.6"
  }
 },
 "nbformat": 4,
 "nbformat_minor": 5
}
