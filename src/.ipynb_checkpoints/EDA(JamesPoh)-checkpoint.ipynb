{
 "cells": [
  {
   "cell_type": "markdown",
   "id": "dc413b7b-e150-4396-88d9-fb19fabe668b",
   "metadata": {},
   "source": [
    "# Libraries and Helper Functions"
   ]
  },
  {
   "cell_type": "code",
   "execution_count": 10,
   "id": "b8829f71-feed-4c90-873d-64f6b1c87cc6",
   "metadata": {},
   "outputs": [],
   "source": [
    "import pandas as pd\n",
    "import sweetviz as sv"
   ]
  },
  {
   "cell_type": "markdown",
   "id": "be7a05fe-dc1b-45fc-8f62-6b4633bee517",
   "metadata": {},
   "source": [
    "# Read and Load Data"
   ]
  },
  {
   "cell_type": "code",
   "execution_count": 4,
   "id": "a3f0cecf-2f23-49e9-8d1c-f131edbe8c59",
   "metadata": {},
   "outputs": [],
   "source": [
    "filepath = \"~/LocalWorkspace/BT4103/data/ga_data.csv\""
   ]
  },
  {
   "cell_type": "code",
   "execution_count": 5,
   "id": "0c9cc545-4c41-4002-b93e-5cace3a665e3",
   "metadata": {},
   "outputs": [],
   "source": [
    "df = pd.read_csv(filepath)"
   ]
  },
  {
   "cell_type": "code",
   "execution_count": 8,
   "id": "01daac7c-58e2-4396-9611-d09f8731769f",
   "metadata": {
    "scrolled": true
   },
   "outputs": [
    {
     "data": {
      "text/html": [
       "<div>\n",
       "<style scoped>\n",
       "    .dataframe tbody tr th:only-of-type {\n",
       "        vertical-align: middle;\n",
       "    }\n",
       "\n",
       "    .dataframe tbody tr th {\n",
       "        vertical-align: top;\n",
       "    }\n",
       "\n",
       "    .dataframe thead th {\n",
       "        text-align: right;\n",
       "    }\n",
       "</style>\n",
       "<table border=\"1\" class=\"dataframe\">\n",
       "  <thead>\n",
       "    <tr style=\"text-align: right;\">\n",
       "      <th></th>\n",
       "      <th>datetime</th>\n",
       "      <th>event_name</th>\n",
       "      <th>user_pseudo_id</th>\n",
       "      <th>page_location</th>\n",
       "      <th>page_referrer</th>\n",
       "      <th>engagement_time_msec</th>\n",
       "      <th>orderId</th>\n",
       "      <th>customerId</th>\n",
       "      <th>Status</th>\n",
       "      <th>loginStatus</th>\n",
       "      <th>sessionStatus</th>\n",
       "      <th>unique_customerId_count</th>\n",
       "      <th>CSS_PATH</th>\n",
       "      <th>ga_session_number</th>\n",
       "      <th>URI</th>\n",
       "      <th>Diner or Sicpama member</th>\n",
       "      <th>storeId</th>\n",
       "      <th>engagement_msec_total</th>\n",
       "      <th>CSS_PATH_labeled</th>\n",
       "    </tr>\n",
       "  </thead>\n",
       "  <tbody>\n",
       "    <tr>\n",
       "      <th>0</th>\n",
       "      <td>2023-10-27 18:46:03.156638</td>\n",
       "      <td>first_visit</td>\n",
       "      <td>933145.16984</td>\n",
       "      <td>https://order.sicpama.com/menus</td>\n",
       "      <td>http://150.230.252.177:3000/</td>\n",
       "      <td>NaN</td>\n",
       "      <td>26be9378-760e-40f8-9d8e-7747d6ab17ab</td>\n",
       "      <td>e1052686-05f8-4cce-85e8-13b6e53e94cc</td>\n",
       "      <td>Made a payment by myself</td>\n",
       "      <td>SIGNED-IN</td>\n",
       "      <td>Success</td>\n",
       "      <td>NaN</td>\n",
       "      <td>NaN</td>\n",
       "      <td>1.0</td>\n",
       "      <td>menus</td>\n",
       "      <td>Diner</td>\n",
       "      <td>11.0</td>\n",
       "      <td>135991.0</td>\n",
       "      <td>NaN</td>\n",
       "    </tr>\n",
       "    <tr>\n",
       "      <th>1</th>\n",
       "      <td>2023-10-27 18:46:03.156638</td>\n",
       "      <td>session_start</td>\n",
       "      <td>933145.16984</td>\n",
       "      <td>https://order.sicpama.com/menus</td>\n",
       "      <td>http://150.230.252.177:3000/</td>\n",
       "      <td>NaN</td>\n",
       "      <td>26be9378-760e-40f8-9d8e-7747d6ab17ab</td>\n",
       "      <td>e1052686-05f8-4cce-85e8-13b6e53e94cc</td>\n",
       "      <td>Made a payment by myself</td>\n",
       "      <td>SIGNED-IN</td>\n",
       "      <td>Success</td>\n",
       "      <td>NaN</td>\n",
       "      <td>NaN</td>\n",
       "      <td>1.0</td>\n",
       "      <td>menus</td>\n",
       "      <td>Diner</td>\n",
       "      <td>11.0</td>\n",
       "      <td>135991.0</td>\n",
       "      <td>NaN</td>\n",
       "    </tr>\n",
       "    <tr>\n",
       "      <th>2</th>\n",
       "      <td>2023-10-27 18:46:03.156638</td>\n",
       "      <td>page_view</td>\n",
       "      <td>933145.16984</td>\n",
       "      <td>https://order.sicpama.com/menus</td>\n",
       "      <td>http://150.230.252.177:3000/</td>\n",
       "      <td>NaN</td>\n",
       "      <td>26be9378-760e-40f8-9d8e-7747d6ab17ab</td>\n",
       "      <td>e1052686-05f8-4cce-85e8-13b6e53e94cc</td>\n",
       "      <td>Made a payment by myself</td>\n",
       "      <td>SIGNED-IN</td>\n",
       "      <td>Success</td>\n",
       "      <td>NaN</td>\n",
       "      <td>NaN</td>\n",
       "      <td>1.0</td>\n",
       "      <td>menus</td>\n",
       "      <td>Diner</td>\n",
       "      <td>11.0</td>\n",
       "      <td>135991.0</td>\n",
       "      <td>NaN</td>\n",
       "    </tr>\n",
       "    <tr>\n",
       "      <th>3</th>\n",
       "      <td>2023-10-27 18:46:04.190677</td>\n",
       "      <td>user_engagement</td>\n",
       "      <td>933145.16984</td>\n",
       "      <td>https://order.sicpama.com/menus</td>\n",
       "      <td>http://150.230.252.177:3000/</td>\n",
       "      <td>1206.0</td>\n",
       "      <td>26be9378-760e-40f8-9d8e-7747d6ab17ab</td>\n",
       "      <td>e1052686-05f8-4cce-85e8-13b6e53e94cc</td>\n",
       "      <td>Made a payment by myself</td>\n",
       "      <td>SIGNED-IN</td>\n",
       "      <td>Success</td>\n",
       "      <td>NaN</td>\n",
       "      <td>NaN</td>\n",
       "      <td>1.0</td>\n",
       "      <td>menus</td>\n",
       "      <td>Diner</td>\n",
       "      <td>11.0</td>\n",
       "      <td>135991.0</td>\n",
       "      <td>NaN</td>\n",
       "    </tr>\n",
       "    <tr>\n",
       "      <th>4</th>\n",
       "      <td>2023-10-27 18:46:08.696237</td>\n",
       "      <td>page_view</td>\n",
       "      <td>933145.16984</td>\n",
       "      <td>https://order.sicpama.com/auth</td>\n",
       "      <td>https://order.sicpama.com/menus</td>\n",
       "      <td>NaN</td>\n",
       "      <td>26be9378-760e-40f8-9d8e-7747d6ab17ab</td>\n",
       "      <td>e1052686-05f8-4cce-85e8-13b6e53e94cc</td>\n",
       "      <td>Made a payment by myself</td>\n",
       "      <td>SIGNED-IN</td>\n",
       "      <td>Success</td>\n",
       "      <td>NaN</td>\n",
       "      <td>NaN</td>\n",
       "      <td>1.0</td>\n",
       "      <td>auth</td>\n",
       "      <td>Diner</td>\n",
       "      <td>11.0</td>\n",
       "      <td>135991.0</td>\n",
       "      <td>NaN</td>\n",
       "    </tr>\n",
       "  </tbody>\n",
       "</table>\n",
       "</div>"
      ],
      "text/plain": [
       "                     datetime       event_name  user_pseudo_id  \\\n",
       "0  2023-10-27 18:46:03.156638      first_visit    933145.16984   \n",
       "1  2023-10-27 18:46:03.156638    session_start    933145.16984   \n",
       "2  2023-10-27 18:46:03.156638        page_view    933145.16984   \n",
       "3  2023-10-27 18:46:04.190677  user_engagement    933145.16984   \n",
       "4  2023-10-27 18:46:08.696237        page_view    933145.16984   \n",
       "\n",
       "                     page_location                    page_referrer  \\\n",
       "0  https://order.sicpama.com/menus     http://150.230.252.177:3000/   \n",
       "1  https://order.sicpama.com/menus     http://150.230.252.177:3000/   \n",
       "2  https://order.sicpama.com/menus     http://150.230.252.177:3000/   \n",
       "3  https://order.sicpama.com/menus     http://150.230.252.177:3000/   \n",
       "4   https://order.sicpama.com/auth  https://order.sicpama.com/menus   \n",
       "\n",
       "   engagement_time_msec                               orderId  \\\n",
       "0                   NaN  26be9378-760e-40f8-9d8e-7747d6ab17ab   \n",
       "1                   NaN  26be9378-760e-40f8-9d8e-7747d6ab17ab   \n",
       "2                   NaN  26be9378-760e-40f8-9d8e-7747d6ab17ab   \n",
       "3                1206.0  26be9378-760e-40f8-9d8e-7747d6ab17ab   \n",
       "4                   NaN  26be9378-760e-40f8-9d8e-7747d6ab17ab   \n",
       "\n",
       "                             customerId                    Status loginStatus  \\\n",
       "0  e1052686-05f8-4cce-85e8-13b6e53e94cc  Made a payment by myself   SIGNED-IN   \n",
       "1  e1052686-05f8-4cce-85e8-13b6e53e94cc  Made a payment by myself   SIGNED-IN   \n",
       "2  e1052686-05f8-4cce-85e8-13b6e53e94cc  Made a payment by myself   SIGNED-IN   \n",
       "3  e1052686-05f8-4cce-85e8-13b6e53e94cc  Made a payment by myself   SIGNED-IN   \n",
       "4  e1052686-05f8-4cce-85e8-13b6e53e94cc  Made a payment by myself   SIGNED-IN   \n",
       "\n",
       "  sessionStatus  unique_customerId_count CSS_PATH  ga_session_number    URI  \\\n",
       "0       Success                      NaN      NaN                1.0  menus   \n",
       "1       Success                      NaN      NaN                1.0  menus   \n",
       "2       Success                      NaN      NaN                1.0  menus   \n",
       "3       Success                      NaN      NaN                1.0  menus   \n",
       "4       Success                      NaN      NaN                1.0   auth   \n",
       "\n",
       "  Diner or Sicpama member  storeId  engagement_msec_total CSS_PATH_labeled  \n",
       "0                   Diner     11.0               135991.0              NaN  \n",
       "1                   Diner     11.0               135991.0              NaN  \n",
       "2                   Diner     11.0               135991.0              NaN  \n",
       "3                   Diner     11.0               135991.0              NaN  \n",
       "4                   Diner     11.0               135991.0              NaN  "
      ]
     },
     "execution_count": 8,
     "metadata": {},
     "output_type": "execute_result"
    }
   ],
   "source": [
    "df.head()"
   ]
  },
  {
   "cell_type": "code",
   "execution_count": 11,
   "id": "52b5afb7-f1ac-44d1-a0c2-916544354d13",
   "metadata": {
    "scrolled": true
   },
   "outputs": [
    {
     "data": {
      "application/vnd.jupyter.widget-view+json": {
       "model_id": "51613af752134c1c87b8c71fe8b970f1",
       "version_major": 2,
       "version_minor": 0
      },
      "text/plain": [
       "                                             |                                                      | [  0%]  …"
      ]
     },
     "metadata": {},
     "output_type": "display_data"
    }
   ],
   "source": [
    "my_report = sv.analyze(df)"
   ]
  },
  {
   "cell_type": "code",
   "execution_count": 14,
   "id": "20f7ca65-5ef7-4c30-88c7-18760b7701d3",
   "metadata": {},
   "outputs": [
    {
     "name": "stdout",
     "output_type": "stream",
     "text": [
      "Report SWEETVIZ_REPORT.html was generated! NOTEBOOK/COLAB USERS: the web browser MAY not pop up, regardless, the report IS saved in your notebook/colab files.\n"
     ]
    }
   ],
   "source": [
    "my_report.show_html()"
   ]
  }
 ],
 "metadata": {
  "kernelspec": {
   "display_name": "Python 3 (ipykernel)",
   "language": "python",
   "name": "python3"
  },
  "language_info": {
   "codemirror_mode": {
    "name": "ipython",
    "version": 3
   },
   "file_extension": ".py",
   "mimetype": "text/x-python",
   "name": "python",
   "nbconvert_exporter": "python",
   "pygments_lexer": "ipython3",
   "version": "3.11.6"
  }
 },
 "nbformat": 4,
 "nbformat_minor": 5
}
